{
 "cells": [
  {
   "cell_type": "markdown",
   "id": "6e705e3e-ffd7-4880-95f5-f3647a1ac8b1",
   "metadata": {},
   "source": [
    "## Thin film deposition\n",
    "\n",
    "*This section explores how a thin film layer can be deposited onto your substract. Even if many techniques can deposit the same material there are some constraint linked with each machine which will result in a layer with different characteristics.*\n",
    "\n",
    "\n",
    "#### Recap PVD vs CVD and oxydation\n",
    "\n",
    "types of material, heat of deposition, quality of the layer obtained\n",
    "\n",
    "make a list of material you can deposit for each technique + give the common case of usage of each material\n",
    "\n",
    "For a same material which can be used on any machine give an organigram of which technique to use under which constraint\n",
    "\n",
    "#### explain the goal of the section\n",
    "\n",
    "simulate different deposition process to understand them better and make a better choice for the final process. One key element in thin film deposition is to understand how the different parameters of deposition can be tuned and accessed to have a best control of the deposition.\n"
   ]
  },
  {
   "cell_type": "markdown",
   "id": "e3e5f2a9-78e4-4c5c-9f42-ce1a37c27894",
   "metadata": {},
   "source": [
    "### profile selection exercice\n",
    "\n",
    "give them different surface and ask them to give the process which has been used to deposit them"
   ]
  },
  {
   "cell_type": "markdown",
   "id": "51a14b39-70d6-40ee-bff8-71fee603c491",
   "metadata": {},
   "source": [
    "### material selection exercice and layer size design\n",
    "give them constraints on an electrical or structural constraint to obtain. Then they have to choose the material they\n",
    "will use as wee as their adhesive layer"
   ]
  },
  {
   "cell_type": "markdown",
   "id": "572e3363-ea68-4c33-a852-b1d29bebdb90",
   "metadata": {},
   "source": [
    "#### CVD exercice\n",
    "make a Arrhenius plot simulator to understand the regimes of CVD"
   ]
  },
  {
   "cell_type": "markdown",
   "id": "dc5f3011-7560-434d-9180-39075db428ca",
   "metadata": {},
   "source": [
    "### presentation of real life case\n",
    "\n",
    "show them the machine and a process where their arrhenius parameters are used for a deposition"
   ]
  },
  {
   "cell_type": "markdown",
   "id": "9dc5f305-e328-4368-94ec-58afbb8c0cea",
   "metadata": {},
   "source": [
    "#### PVD exercice\n",
    "\n",
    "Image of the inside of an evap machine show the crucibles and different distance setting\n",
    "simulation of evaporation --> give access to power of the Ebeam and height of the dome accordingling simulate the profile of evaporation and the heat transfer with time\n",
    "plot the uniformity of profile and deposition on a sidewall and top of structure"
   ]
  },
  {
   "cell_type": "markdown",
   "id": "d2c765af-32d9-4543-a363-d199eee6359f",
   "metadata": {},
   "source": [
    "show the inside of a sputtering machine + load lock mechanism\n",
    "Create the same exercice as before but with sputtering: parameters : size of the target, distance, pressure, T, type of plasma\n",
    "Plot again the uniformity of the profile "
   ]
  },
  {
   "cell_type": "markdown",
   "id": "51cfd198-cc30-4e7e-9a6d-44d6edce40c0",
   "metadata": {},
   "source": [
    "### comparative cell\n",
    "\n",
    "for a same material plot the Ra, electrical and mechanical properties, % of purity so they have a quantitative comparaison betwen, the techniques."
   ]
  },
  {
   "cell_type": "markdown",
   "id": "02c3cee4-dd9b-4ab8-b835-b803298dbc49",
   "metadata": {},
   "source": [
    "## selection of the process\n",
    "they choose the process they want and eneter the reasons they choose it"
   ]
  },
  {
   "cell_type": "markdown",
   "id": "b11de3c4-9641-43dc-b397-6e52b1fe3b65",
   "metadata": {},
   "source": [
    "### selection of parameters\n",
    "\n",
    "Enter the parameters they select for their process in a list and we give them back a score according to how well it has been chosen possible to also give feedback so they can further tune their parameters"
   ]
  },
  {
   "cell_type": "code",
   "execution_count": null,
   "id": "7a0773e7-cb85-4307-bb20-ffdb879ba205",
   "metadata": {},
   "outputs": [],
   "source": []
  }
 ],
 "metadata": {
  "kernelspec": {
   "display_name": "Python",
   "language": "python",
   "name": "python3"
  },
  "language_info": {
   "codemirror_mode": {
    "name": "ipython",
    "version": 3
   },
   "file_extension": ".py",
   "mimetype": "text/x-python",
   "name": "python",
   "nbconvert_exporter": "python",
   "pygments_lexer": "ipython3",
   "version": "3.8.10"
  }
 },
 "nbformat": 4,
 "nbformat_minor": 5
}
