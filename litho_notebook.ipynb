{
 "cells": [
  {
   "cell_type": "markdown",
   "id": "684e9473-ce91-4d27-bed3-e2d07854ecb9",
   "metadata": {},
   "source": [
    "### Lithography notebook"
   ]
  },
  {
   "cell_type": "markdown",
   "id": "585acea0-d510-46ec-a0bc-7805e8eff714",
   "metadata": {},
   "source": [
    "### Block I\n",
    "<div class=\"alert-info\">\n",
    "\n",
    "Introduction about why lithography is useful here in our case. Present the final design that we want to obtain after the development, so that the student can have an idea of the mask.\n",
    "</div>\n"
   ]
  },
  {
   "cell_type": "markdown",
   "id": "5dbf65c8-c7da-40ba-a4f7-bb346b8597b7",
   "metadata": {},
   "source": [
    "<div class=\"alert-danger\">\n",
    "\n",
    "The first exercise consists of the choice of the mask ; depending on the selected resist (negative/positive), different masks can be used to reach the final pattern. Different masks are presented here and the student should select the correct one ; each mask will generate a cross-section of the wafer after the development. \n",
    "</div>\n"
   ]
  },
  {
   "cell_type": "markdown",
   "id": "de2516e6-d360-407a-bb30-26d6adf2617b",
   "metadata": {},
   "source": [
    "<div class=\"alert-success\">\n",
    "By generating the cross-section of the wafter after the exposition, the student should be able to understand why the choice is not correct. No additional information should be required.\n",
    "</div>"
   ]
  },
  {
   "cell_type": "markdown",
   "id": "71370b2e-185a-4b40-94e6-d9440632197a",
   "metadata": {},
   "source": [
    "### Block II\n",
    "<div class=\"alert-info\">\n",
    "\n",
    "Introduction of an interactive exercicse. Here the idea is to quickly reconstruct the contrast curve ; this is an important point in the cleanrooms practicals and it's not always understood by the student."
   ]
  },
  {
   "cell_type": "markdown",
   "id": "db354b65-dbd0-4928-8d7b-655e29aafd1b",
   "metadata": {},
   "source": [
    "<div class=\"alert-danger\">\n",
    "Knowing that the intensity used during the practicals is 20 [$mW/cm^2$], the following formula allows to calculate different doses, by chosing different exposure times. By giving information about the value of $D_{100}$, the student should be able to choose different exposure times to generate the contrast curve.\n",
    "\\begin{equation}\n",
    "D = log(I\\cdot t_{exp})\n",
    "\\end{equation}\n",
    "\n",
    "\n",
    "The main plot function will be implemented, the student will have to select the different times and doses.\n",
    "</div>"
   ]
  },
  {
   "cell_type": "markdown",
   "id": "bf9fccc5-bcf9-4d01-82a5-84549b0d6e08",
   "metadata": {},
   "source": [
    "<div class=\"alert-success\">\n",
    "In theory, all the resist should be removed at the time that corresponds to $D_{100}$. However, in practice it's different ; all the resist can be removed before or after $D_{100}$ --> discuss the different phenomena ?\n",
    "</div>"
   ]
  },
  {
   "cell_type": "markdown",
   "id": "e9dc4950-2911-42f0-9b36-40d12385d134",
   "metadata": {},
   "source": [
    "### Block III\n",
    "<div class=\"alert-info\">\n",
    "This block could be composed of a 3D simulation as shown by Hernan, to show more intuitively the different results obtained when some parameters are modified. This can be a good support for the next exercise.\n",
    "</div>"
   ]
  },
  {
   "cell_type": "markdown",
   "id": "fff0accd-9b16-415d-b698-b69cf9086920",
   "metadata": {},
   "source": [
    "<div class=\"alert-danger\">\n",
    "Now the goal is to see if the student understood the simulation presented in the previous cell. Here the idea is to show different miscroscope images at different exposure time. The student should be able to select the correct image with the correct dose or/and exposure times, etc. One additional question about the interferences can be asked."
   ]
  },
  {
   "cell_type": "code",
   "execution_count": null,
   "id": "048ea68c-ce26-41de-9c03-fd3038ff8c6a",
   "metadata": {},
   "outputs": [],
   "source": []
  }
 ],
 "metadata": {
  "kernelspec": {
   "display_name": "Python 3",
   "language": "python",
   "name": "python3"
  },
  "language_info": {
   "codemirror_mode": {
    "name": "ipython",
    "version": 3
   },
   "file_extension": ".py",
   "mimetype": "text/x-python",
   "name": "python",
   "nbconvert_exporter": "python",
   "pygments_lexer": "ipython3",
   "version": "3.8.8"
  }
 },
 "nbformat": 4,
 "nbformat_minor": 5
}
