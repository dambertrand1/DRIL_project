{
 "cells": [
  {
   "cell_type": "markdown",
   "id": "877554be-8af7-468a-984b-c2ca784aa878",
   "metadata": {},
   "source": [
    "## Spin coating notebook\n",
    "\n",
    "### Block I\n",
    "<div class=\"alert-info\">\n",
    "\n",
    "Introduction about why spin coating is used. The goal of the exercise is to deposite a given thickness x [$\\mu m$], as uniform and adherent possible\n",
    "</div>\n",
    "\n",
    "\n",
    "\n",
    "\n"
   ]
  },
  {
   "cell_type": "markdown",
   "id": "b99cf903-7bf1-4089-bd87-b536f380c39e",
   "metadata": {},
   "source": [
    "<div class=\"alert-danger\">\n",
    "What process can be used before spin coating, to improve the adhesion of the resist ? \n",
    "\n",
    "</div>"
   ]
  },
  {
   "cell_type": "markdown",
   "id": "8f998454-87ed-4263-8c46-bcd9acac0ca7",
   "metadata": {},
   "source": [
    "<div class=\"alert-success\"> Propose different solutions ; the student should response \"HMDS process\" to improve the adhesion. One possibility is to show wafers after spin coating with and without HMDS (see the difference when we put water on each wafer)\n",
    "</div>"
   ]
  },
  {
   "cell_type": "markdown",
   "id": "c87fbb6c-5513-4ea6-9550-684d19b3b2a7",
   "metadata": {},
   "source": [
    "### Block II\n",
    "<div class=\"alert-info\">\n",
    "Propose different resists with different properties (need to be determined, depends on the final goal of the process --> discuss with Hernan)\n",
    "</div>\n"
   ]
  },
  {
   "cell_type": "markdown",
   "id": "7a25f517-e378-4b15-97cb-89117e2fc623",
   "metadata": {},
   "source": [
    "<div class=\"alert-danger\">\n",
    "Which resist would you chose, considering the final application and specifications of the process ?\n",
    "</div>"
   ]
  },
  {
   "cell_type": "markdown",
   "id": "0de576c1-ade0-4aa4-a300-d2b237b27561",
   "metadata": {},
   "source": [
    "<div class=\"alert-success\">\n",
    "If the resist is not the correct one, explain the caracteristics of the chosen one and why this is not a good choice ; go back to the next step !\n",
    "</div>"
   ]
  },
  {
   "cell_type": "markdown",
   "id": "26fe4787-d184-4361-87a4-c23c57a8c813",
   "metadata": {},
   "source": [
    "### Block III \n",
    "<div class=\"alert-info\">\n",
    "Presentation of an interactive exercise ; introduce the formula of the course that allows to determine the thickness of the resist based on different parameters (concentration of the resist, rotation speed, etc.)\n",
    "</div>"
   ]
  },
  {
   "cell_type": "markdown",
   "id": "d2f3eabb-0305-47e5-80bd-2341d462b944",
   "metadata": {},
   "source": [
    "<div class=\"alert-danger\">\n",
    "Implement the main part of the code to generate the curve and/or the final thickness, based on the parameters determined by the student. The student will apply the parameters and this will generate the curve until the correct parameters are selected.\n",
    "</div>\n",
    "\n",
    "\\begin{equation}\n",
    "T = K C^\\beta \\eta^\\gamma / \\omega^\\alpha\n",
    "\\end{equation}"
   ]
  },
  {
   "cell_type": "markdown",
   "id": "e11fa2a1-e938-4f40-8f2a-b509294e7b0a",
   "metadata": {},
   "source": [
    "### Block IV \n",
    "<div class=\"alert-info\">\n",
    "In reality, the desired thickness is never exact due to multiple reasons ; cite them (need to be discussed with Hernan)\n",
    "</div>"
   ]
  },
  {
   "cell_type": "markdown",
   "id": "6f700d6d-75be-46e8-b284-8b559e721ad7",
   "metadata": {},
   "source": [
    "<div class=\"alert-danger\">\n",
    "Which step could be here useful to check the thickness that has been deposited ? Different methods are presented (mechanical, ellipsometer), the student should be able to answer correctly\n",
    "</div>"
   ]
  },
  {
   "cell_type": "markdown",
   "id": "861c1ac5-96a5-4289-8ed8-209456116ec5",
   "metadata": {},
   "source": [
    "### Block V \n",
    "<div class=\"alert-info\">\n",
    "This section will present real cases ; show different screenshots obtained with the ellipsometer and chose the one that seems realistic, since the process has been done by someone with experience\n",
    "</div>"
   ]
  }
 ],
 "metadata": {
  "kernelspec": {
   "display_name": "Python 3",
   "language": "python",
   "name": "python3"
  },
  "language_info": {
   "codemirror_mode": {
    "name": "ipython",
    "version": 3
   },
   "file_extension": ".py",
   "mimetype": "text/x-python",
   "name": "python",
   "nbconvert_exporter": "python",
   "pygments_lexer": "ipython3",
   "version": "3.8.8"
  }
 },
 "nbformat": 4,
 "nbformat_minor": 5
}
