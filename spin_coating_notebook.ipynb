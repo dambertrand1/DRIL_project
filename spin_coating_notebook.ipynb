{
 "cells": [
  {
   "cell_type": "markdown",
   "id": "877554be-8af7-468a-984b-c2ca784aa878",
   "metadata": {},
   "source": [
    "## Spin coating notebook\n",
    "\n",
    "\n",
    "The goal of this exercise is to deposite photoresist uniformly on the wafer, to prepare for the photolithography step.\n",
    "To do so, the resist used is called [\"AZ 1512 HS\"](https://www.epfl.ch/research/facilities/cmi/process/photolithography/photoresist-selection/az-1512-hs/), available in CMi. \n",
    "The thickness that you will deposite is crucial to be able to developpe correctly the resist.\n",
    "The goal of this exercise is to generate the curve of the thickness [$\\mu m$] in function of the rotation speed [$rpm$], so that you can choose the correct parameter on the machine.\n",
    "For the resist mentionned above, the relation between the two variables is expressed as :\n",
    "\\begin{equation}\n",
    "T = \\alpha \\cdot \\omega^\\beta [\\mu m]\n",
    "\\end{equation}\n",
    "\n",
    "with $\\alpha$ = 94.67679 and $\\beta$ = 0.52672\n",
    "\n",
    "Now, it's your turn to generate the thickness/rotation speed curve. To do so, create an array of rotation speed with the [\"np.array function\"](https://numpy.org/doc/stable/reference/generated/numpy.array.html)\n",
    "\n",
    "\n",
    "\n",
    "\n"
   ]
  },
  {
   "cell_type": "code",
   "execution_count": 39,
   "id": "7df1548a-7399-4016-9b36-188507b3fceb",
   "metadata": {},
   "outputs": [
    {
     "data": {
      "image/png": "[encoded data removed]",
      "text/plain": [
       "<Figure size 432x288 with 1 Axes>"
      ]
     },
     "metadata": {
      "needs_background": "light"
     },
     "output_type": "display_data"
    },
    {
     "name": "stdout",
     "output_type": "stream",
     "text": [
      "[2.48933603 1.72792547 1.3956426  1.19940674 1.06640468 0.96875888]\n"
     ]
    }
   ],
   "source": [
    "import numpy as np\n",
    "import matplotlib.pyplot as plt\n",
    "from scipy import interpolate\n",
    "\n",
    "alpha = 94.67679\n",
    "beta = 0.52672\n",
    "omega = np.array([1000, 2000, 3000, 4000, 5000, 6000])\n",
    "\n",
    "t = alpha*(omega**-beta)\n",
    "interp = interpolate.interp1d(omega,t)\n",
    "\n",
    "for i,j in zip(omega, t):\n",
    "    plt.text(i, j, round(float(j),2))\n",
    "    \n",
    "plt.plot(omega, interp(omega), 'o', omega, t)\n",
    "plt.ylabel('Rotation speed [rpm]')\n",
    "plt.ylabel('Thickness [um]')\n",
    "plt.show()"
   ]
  },
  {
   "cell_type": "markdown",
   "id": "99556769-7a7d-46b7-90c2-5af2d7436643",
   "metadata": {},
   "source": [
    "Based on the plot above, what rpm would you choose ?\n"
   ]
  },
  {
   "cell_type": "code",
   "execution_count": 66,
   "id": "db6ea837-7938-4747-bc96-ce7d42e77be9",
   "metadata": {},
   "outputs": [],
   "source": [
    "omega = 1000"
   ]
  },
  {
   "cell_type": "code",
   "execution_count": 97,
   "id": "156c6f26-3f3a-4233-84b5-43a0f51429c6",
   "metadata": {},
   "outputs": [
    {
     "data": {
      "application/vnd.jupyter.widget-view+json": {
       "model_id": "1d6483f8d63b4620bd156966e431ce9c",
       "version_major": 2,
       "version_minor": 0
      },
      "text/plain": [
       "Canvas()"
      ]
     },
     "metadata": {},
     "output_type": "display_data"
    }
   ],
   "source": [
    "from ipycanvas import Canvas\n",
    "\n",
    "#creation of the substrate\n",
    "canvas = Canvas(size=(500, 500))\n",
    "canvas.fill_style = 'blue'\n",
    "canvas.stroke_style = 'blue'\n",
    "canvas.fill_rect(350, 100, 200, 50) #x, y, width, height\n",
    "canvas.stroke_rect(350, 100, 200, 50)\n",
    "#creation of the oxyde layer\n",
    "canvas.fill_style = 'orange'\n",
    "canvas.stroke_style = 'orange'\n",
    "canvas.fill_rect(350, 95, 200, 5) #x, y, width, height\n",
    "canvas.stroke_rect(350, 95, 200, 5)\n",
    "\n",
    "#creation of the resist in function of the thickness that has been depositied\n",
    "\n",
    "canvas.fill_style = 'red'\n",
    "canvas.stroke_style = 'red'\n",
    "canvas.fill_rect(350, 95- 10*alpha*(omega**-beta), 200,  10*alpha*(omega**-beta)) #x, y, width, height\n",
    "canvas.stroke_rect(350,950, 200, 50)\n",
    "\n",
    "#display the result\n",
    "canvas"
   ]
  },
  {
   "cell_type": "code",
   "execution_count": null,
   "id": "7352ba66-dbcd-471d-be1c-5cc2cb30a09d",
   "metadata": {},
   "outputs": [],
   "source": []
  },
  {
   "cell_type": "markdown",
   "id": "8f998454-87ed-4263-8c46-bcd9acac0ca7",
   "metadata": {},
   "source": [
    "<div class=\"alert-success\"> Propose different solutions ; the student should response \"HMDS process\" to improve the adhesion. One possibility is to show wafers after spin coating with and without HMDS (see the difference when we put water on each wafer)\n",
    "</div>"
   ]
  },
  {
   "cell_type": "markdown",
   "id": "c87fbb6c-5513-4ea6-9550-684d19b3b2a7",
   "metadata": {},
   "source": [
    "### Block II\n",
    "<div class=\"alert-info\">\n",
    "Propose different resists with different properties (need to be determined, depends on the final goal of the process --> discuss with Hernan)\n",
    "</div>\n"
   ]
  },
  {
   "cell_type": "markdown",
   "id": "7a25f517-e378-4b15-97cb-89117e2fc623",
   "metadata": {},
   "source": [
    "<div class=\"alert-danger\">\n",
    "Which resist would you chose, considering the final application and specifications of the process ?\n",
    "</div>"
   ]
  },
  {
   "cell_type": "markdown",
   "id": "0de576c1-ade0-4aa4-a300-d2b237b27561",
   "metadata": {},
   "source": [
    "<div class=\"alert-success\">\n",
    "If the resist is not the correct one, explain the caracteristics of the chosen one and why this is not a good choice ; go back to the next step !\n",
    "</div>"
   ]
  },
  {
   "cell_type": "markdown",
   "id": "26fe4787-d184-4361-87a4-c23c57a8c813",
   "metadata": {},
   "source": [
    "### Block III \n",
    "<div class=\"alert-info\">\n",
    "Presentation of an interactive exercise ; introduce the formula of the course that allows to determine the thickness of the resist based on different parameters (concentration of the resist, rotation speed, etc.)\n",
    "</div>"
   ]
  },
  {
   "cell_type": "markdown",
   "id": "d2f3eabb-0305-47e5-80bd-2341d462b944",
   "metadata": {},
   "source": [
    "<div class=\"alert-danger\">\n",
    "Implement the main part of the code to generate the curve and/or the final thickness, based on the parameters determined by the student. The student will apply the parameters and this will generate the curve until the correct parameters are selected.\n",
    "</div>\n",
    "\n",
    "\\begin{equation}\n",
    "T = K C^\\beta \\eta^\\gamma / \\omega^\\alpha\n",
    "\\end{equation}"
   ]
  },
  {
   "cell_type": "markdown",
   "id": "e11fa2a1-e938-4f40-8f2a-b509294e7b0a",
   "metadata": {},
   "source": [
    "### Block IV \n",
    "<div class=\"alert-info\">\n",
    "In reality, the desired thickness is never exact due to multiple reasons ; cite them (need to be discussed with Hernan)\n",
    "</div>"
   ]
  },
  {
   "cell_type": "markdown",
   "id": "6f700d6d-75be-46e8-b284-8b559e721ad7",
   "metadata": {},
   "source": [
    "<div class=\"alert-danger\">\n",
    "Which step could be here useful to check the thickness that has been deposited ? Different methods are presented (mechanical, ellipsometer), the student should be able to answer correctly\n",
    "</div>"
   ]
  },
  {
   "cell_type": "markdown",
   "id": "861c1ac5-96a5-4289-8ed8-209456116ec5",
   "metadata": {},
   "source": [
    "### Block V \n",
    "<div class=\"alert-info\">\n",
    "This section will present real cases ; show different screenshots obtained with the ellipsometer and chose the one that seems realistic, since the process has been done by someone with experience\n",
    "</div>"
   ]
  }
 ],
 "metadata": {
  "kernelspec": {
   "display_name": "Python 3",
   "language": "python",
   "name": "python3"
  },
  "language_info": {
   "codemirror_mode": {
    "name": "ipython",
    "version": 3
   },
   "file_extension": ".py",
   "mimetype": "text/x-python",
   "name": "python",
   "nbconvert_exporter": "python",
   "pygments_lexer": "ipython3",
   "version": "3.8.8"
  }
 },
 "nbformat": 4,
 "nbformat_minor": 5
}
