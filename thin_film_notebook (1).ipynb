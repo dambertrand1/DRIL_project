{
 "cells": [
  {
   "cell_type": "markdown",
   "id": "6e705e3e-ffd7-4880-95f5-f3647a1ac8b1",
   "metadata": {},
   "source": [
    "## Thin film deposition\n",
    "\n",
    "*This section explores how a thin film layer can be deposited onto your substract. Even if many techniques can deposit the same material there are some constraint linked with each machine which will result in a layer with different characteristics.*\n",
    "\n",
    "\n",
    "#### Recap PVD vs CVD and oxydation\n",
    "\n",
    "types of material, heat of deposition, quality of the layer obtained\n",
    "\n",
    "make a list of material you can deposit for each technique + give the common case of usage of each material\n",
    "\n",
    "For a same material which can be used on any machine give an organigram of which technique to use under which constraint\n",
    "\n",
    "#### explain the goal of the section\n",
    "\n",
    "simulate different deposition process to understand them better and make a better choice for the final process. One key element in thin film deposition is to understand how the different parameters of deposition can be tuned and accessed to have a best control of the deposition.\n"
   ]
  },
  {
   "cell_type": "code",
   "execution_count": 12,
   "id": "82a22230-7d67-451e-b599-19677084b25d",
   "metadata": {},
   "outputs": [
    {
     "data": {
      "text/html": [
       "\n",
       "        <div style=\"position:relative; padding-bottom:56.25%; height:0; overflow:hidden;\">\n",
       "            <iframe src=\"https://www.youtube.com/embed/2LqKMN1yhhw\" frameborder=\"0\"\n",
       "                style=\"position:absolute; top:0; left:0; width:100%; height:100%;\" allowfullscreen>\n",
       "            </iframe>\n",
       "        </div>\n",
       "    "
      ],
      "text/plain": [
       "<IPython.core.display.HTML object>"
      ]
     },
     "execution_count": 12,
     "metadata": {},
     "output_type": "execute_result"
    }
   ],
   "source": [
    "from IPython.display import YouTubeVideo, display, HTML\n",
    "\n",
    "video_id = \"2LqKMN1yhhw\" # Replace this with the actual video ID\n",
    "\n",
    "def responsive_video(video_id):\n",
    "    return HTML(f\"\"\"\n",
    "        <div style=\"position:relative; padding-bottom:56.25%; height:0; overflow:hidden;\">\n",
    "            <iframe src=\"https://www.youtube.com/embed/{video_id}\" frameborder=\"0\"\n",
    "                style=\"position:absolute; top:0; left:0; width:100%; height:100%;\" allowfullscreen>\n",
    "            </iframe>\n",
    "        </div>\n",
    "    \"\"\")\n",
    "\n",
    "responsive_video(video_id)\n"
   ]
  },
  {
   "cell_type": "markdown",
   "id": "e3e5f2a9-78e4-4c5c-9f42-ce1a37c27894",
   "metadata": {},
   "source": [
    "### profile selection exercice\n",
    "\n",
    "give them different surface and ask them to give the process which has been used to deposit them"
   ]
  },
  {
   "cell_type": "code",
   "execution_count": 7,
   "id": "a7b4599e-1611-411c-81d4-91228ba608fc",
   "metadata": {},
   "outputs": [
    {
     "data": {
      "application/vnd.jupyter.widget-view+json": {
       "model_id": "d26a28daacf44e6aa10e113da11680e3",
       "version_major": 2,
       "version_minor": 0
      },
      "text/plain": [
       "Dropdown(description='Material:', options=('Pt', 'Au', 'Ti', 'Cu', 'Al'), value='Pt')"
      ]
     },
     "metadata": {},
     "output_type": "display_data"
    },
    {
     "data": {
      "application/vnd.jupyter.widget-view+json": {
       "model_id": "dfedd97ff0e3428e953ace84f715993d",
       "version_major": 2,
       "version_minor": 0
      },
      "text/plain": [
       "Button(description='Display Properties', style=ButtonStyle())"
      ]
     },
     "metadata": {},
     "output_type": "display_data"
    },
    {
     "data": {
      "application/vnd.jupyter.widget-view+json": {
       "model_id": "f48fb53becdb4df6b36ea63a8e5ff584",
       "version_major": 2,
       "version_minor": 0
      },
      "text/plain": [
       "Output()"
      ]
     },
     "metadata": {},
     "output_type": "display_data"
    }
   ],
   "source": [
    "import pandas as pd\n",
    "import numpy as np\n",
    "import ipywidgets as widgets\n",
    "from IPython.display import display\n",
    "import plotly.graph_objects as go\n",
    "\n",
    "# Define the data for the table\n",
    "data = {\n",
    "    'Material': ['Pt', 'Au', 'Ti', 'Cu', 'Al'],\n",
    "    'Electrical Conductivity (MS/m)': [9.43, 45.2, 2.3, 59.6, 37.8],\n",
    "    'Price (USD/g)': [35, 60, 0.5, 0.05, 0.03],\n",
    "    'Usual Roughness (nm)': [1, 1, 2, 1, 2],\n",
    "    'Deposition Rate Range - Evaporation (nm/min)': ['5-50', '10-100', '1-10', '20-200', '10-100'],\n",
    "    'Deposition Rate Range - Sputtering (nm/min)': ['1-10', '5-50', '0.1-1', '5-50', '1-10'],\n",
    "    'Adhesion Layer Required': ['Yes', 'Yes', 'No', 'No', 'Yes']\n",
    "}\n",
    "\n",
    "# Create a DataFrame\n",
    "materials_df = pd.DataFrame(data)\n",
    "\n",
    "# Create a dropdown widget for selecting the material\n",
    "material_dropdown = widgets.Dropdown(\n",
    "    options=['Pt', 'Au', 'Ti', 'Cu', 'Al'],\n",
    "    value='Pt',\n",
    "    description='Material:',\n",
    "    disabled=False,\n",
    ")\n",
    "\n",
    "# Create a button to display the selected material's properties\n",
    "display_properties_button = widgets.Button(description=\"Display Properties\")\n",
    "\n",
    "# Define a function to handle button clicks\n",
    "def on_display_properties_button_click(button):\n",
    "    display_material_properties(material_dropdown.value)\n",
    "\n",
    "display_properties_button.on_click(on_display_properties_button_click)\n",
    "\n",
    "# Create an Output widget to display the material properties\n",
    "output_widget = widgets.Output()\n",
    "\n",
    "def display_material_properties(material):\n",
    "    # Clear the previous output\n",
    "    output_widget.clear_output()\n",
    "    \n",
    "    selected_material = materials_df[materials_df['Material'] == material]\n",
    "    \n",
    "    # Create a Plotly table\n",
    "    table = go.Figure(data=[go.Table(\n",
    "        header=dict(values=list(selected_material.columns),\n",
    "                    fill_color='paleturquoise',\n",
    "                    align='left'),\n",
    "        cells=dict(values=[selected_material[col] for col in selected_material.columns],\n",
    "                   fill_color='lavender',\n",
    "                   align='left'))\n",
    "    ])\n",
    "    \n",
    "    # Display the properties of the selected material within the Output widget\n",
    "    with output_widget:\n",
    "        display(table.show())\n",
    "\n",
    "# Display the widgets and the Output widget\n",
    "display(material_dropdown)\n",
    "display(display_properties_button)\n",
    "display(output_widget)\n"
   ]
  },
  {
   "cell_type": "code",
   "execution_count": 9,
   "id": "bfd09458-80fd-4ee8-a5ad-cd4055b8e802",
   "metadata": {},
   "outputs": [
    {
     "data": {
      "application/vnd.jupyter.widget-view+json": {
       "model_id": "1d745476c84f41d08f0982324cd06433",
       "version_major": 2,
       "version_minor": 0
      },
      "text/plain": [
       "Dropdown(description='Adhesion layer materials:', options=('Ti', 'Cr', 'Ta', 'Ni'), value='Ti')"
      ]
     },
     "metadata": {},
     "output_type": "display_data"
    },
    {
     "data": {
      "application/vnd.jupyter.widget-view+json": {
       "model_id": "e641f3d1078f46968707bdd61fe88e22",
       "version_major": 2,
       "version_minor": 0
      },
      "text/plain": [
       "Button(description='Display Properties', style=ButtonStyle())"
      ]
     },
     "metadata": {},
     "output_type": "display_data"
    },
    {
     "data": {
      "application/vnd.jupyter.widget-view+json": {
       "model_id": "6daea1441af94a2a80f8a51b4a572253",
       "version_major": 2,
       "version_minor": 0
      },
      "text/plain": [
       "Output()"
      ]
     },
     "metadata": {},
     "output_type": "display_data"
    }
   ],
   "source": [
    "import pandas as pd\n",
    "import numpy as np\n",
    "import ipywidgets as widgets\n",
    "from IPython.display import display\n",
    "import plotly.graph_objects as go\n",
    "\n",
    "# Define the data for the adhesion layers table\n",
    "adhesion_data = {\n",
    "    'Adhesion Layer': ['Ti', 'Cr', 'Ta', 'Ni'],\n",
    "    'Price (USD/g)': [0.5, 0.02, 2, 0.03],\n",
    "    'Deposition Rate Range - Evaporation (nm/min)': ['1-10', '5-50', '1-10', '5-50'],\n",
    "    'Deposition Rate Range - Sputtering (nm/min)': ['0.1-1', '1-10', '0.1-1', '1-10'],\n",
    "    'Typical Thickness (nm)': [1, 1, 1, 1],\n",
    "    'Commonly Used With': ['Au, Pt, Al', 'Au, Al', 'Pt, Refractory Metals', 'Au, Ag, Cu'],\n",
    "}\n",
    "\n",
    "# Create a DataFrame\n",
    "adhesion_layers_df = pd.DataFrame(adhesion_data)\n",
    "\n",
    "# Create a dropdown widget for selecting the material\n",
    "material_dropdown = widgets.Dropdown(\n",
    "    options=['Ti', 'Cr', 'Ta', 'Ni'],\n",
    "    value='Ti',\n",
    "    description='Adhesion layer materials:',\n",
    "    disabled=False,\n",
    ")\n",
    "\n",
    "# Create a button to display the selected material's properties\n",
    "display_properties_button = widgets.Button(description=\"Display Properties\")\n",
    "\n",
    "# Define a function to handle button clicks\n",
    "def on_display_properties_button_click(button):\n",
    "    display_material_properties(material_dropdown.value)\n",
    "\n",
    "display_properties_button.on_click(on_display_properties_button_click)\n",
    "\n",
    "# Create an Output widget to display the material properties\n",
    "output_widget = widgets.Output()\n",
    "\n",
    "def display_material_properties(material):\n",
    "    # Clear the previous output\n",
    "    output_widget.clear_output()\n",
    "    \n",
    "    selected_material = adhesion_layers_df[adhesion_layers_df['Adhesion Layer'] == material]\n",
    "    \n",
    "    # Create a Plotly table\n",
    "    table = go.Figure(data=[go.Table(\n",
    "        header=dict(values=list(selected_material.columns),\n",
    "                    fill_color='paleturquoise',\n",
    "                    align='left'),\n",
    "        cells=dict(values=[selected_material[col] for col in selected_material.columns],\n",
    "                   fill_color='lavender',\n",
    "                   align='left'))\n",
    "    ])\n",
    "    \n",
    "    # Display the properties of the selected material within the Output widget\n",
    "    with output_widget:\n",
    "        display(table.show())\n",
    "\n",
    "# Display the widgets and the Output widget\n",
    "display(material_dropdown)\n",
    "display(display_properties_button)\n",
    "display(output_widget)"
   ]
  },
  {
   "cell_type": "code",
   "execution_count": null,
   "id": "4969ff40-20dd-41d4-94bc-03439a6208a0",
   "metadata": {},
   "outputs": [],
   "source": []
  },
  {
   "cell_type": "markdown",
   "id": "51424e4f-dc5f-4d1e-9d0f-67ba91327b19",
   "metadata": {},
   "source": [
    "TODO: add more data about the materials. Fix the top cell so it shows well or make the two widgets in one cell"
   ]
  },
  {
   "cell_type": "markdown",
   "id": "cfdab9b9-3257-4c71-9955-834900b44196",
   "metadata": {},
   "source": [
    "## Selected parameters materials for the layer\n",
    "Please enter the materials you will use for your metal layer and its thickness. Concerning the adhesion layer concider that the previous data concerns the adhesion layer need in case of an SiO2 under layer. However keep in mind that it is very often needed for many materials and you need to look at the specific case of your application."
   ]
  },
  {
   "cell_type": "code",
   "execution_count": 3,
   "id": "b946d5ab-010a-4113-8eb9-a54a5257a6f1",
   "metadata": {},
   "outputs": [],
   "source": [
    "metal_layer = 'Ti' #as a string\n",
    "metal_thickness = 0 # [nm]\n",
    "adhesion_layer = 'Ti' #as a string if no adhesion choosen use None\n",
    "adhesion_thickness = 0 #[nm]"
   ]
  },
  {
   "cell_type": "markdown",
   "id": "0f5fdd3e-2c19-4848-afe8-ef42e1bfa3cd",
   "metadata": {},
   "source": [
    "The pumping is a key step in many deposition. Indeed the processes need to happend at very low pressure both for the process to be stable and also for garanting the purity of the final film."
   ]
  },
  {
   "cell_type": "markdown",
   "id": "75d9f3a4-69d3-4482-b37b-a0a7ee8128ea",
   "metadata": {},
   "source": [
    "Most thin film layers are deposited using evaporation and sputtering. Indeed a wide range of material can be deposited using these methods for layers going from 5nm to 1 to 2 µm.\n",
    "The next section will explore the two different processes which are key steps in microfabrication. In many machines there exist some load lock mechanism where the machine is split between multiple chamber with the usual configuration being: load lock, transfer module, process chamber.\n",
    "The load lock is a very small chamber which only serves as an hosting chamber for the wafers. With its small volume it is very fast to pump.\n",
    "The transfer module hosts a robotic arm which transfers the wafer into the chamber. \n",
    "The process chamber hosts the process. It contains the material which will be deposited and the wafer during the process. It is only vented when the materials are changed. Usually there are multiple process chambers they can also be used for other processes than thin film deposition (dry etching, plasma cleaning...).\n",
    "\n",
    "However in many cases the machines are just one chamber. In this case the pumping step can be very limiting as it often represents most of the time of the process."
   ]
  },
  {
   "cell_type": "markdown",
   "id": "f17b3afc-d6fb-4747-b737-4fc54de5be25",
   "metadata": {},
   "source": [
    "## $ \\lambda = \\sqrt{\\frac{\\pi R T}{2 M}}\\frac{\\eta}{P}$\n"
   ]
  },
  {
   "cell_type": "code",
   "execution_count": 13,
   "id": "e08c4732-594b-44b9-9ceb-4914b918a709",
   "metadata": {},
   "outputs": [
    {
     "data": {
      "application/vnd.jupyter.widget-view+json": {
       "model_id": "6fe7c60509444a96ba433299e72a98db",
       "version_major": 2,
       "version_minor": 0
      },
      "text/plain": [
       "FloatLogSlider(value=0.0001, description='Pressure (mBar):', max=-3.0, min=-8.0, readout_format='.1e', step=1.…"
      ]
     },
     "metadata": {},
     "output_type": "display_data"
    },
    {
     "data": {
      "application/vnd.jupyter.widget-view+json": {
       "model_id": "c2413218621d4349ab181d5a966196ac",
       "version_major": 2,
       "version_minor": 0
      },
      "text/plain": [
       "Output()"
      ]
     },
     "metadata": {},
     "output_type": "display_data"
    },
    {
     "data": {
      "application/vnd.jupyter.widget-view+json": {
       "model_id": "3af57ff02a054112ac5aba38bb0f223c",
       "version_major": 2,
       "version_minor": 0
      },
      "text/plain": [
       "Output()"
      ]
     },
     "metadata": {},
     "output_type": "display_data"
    }
   ],
   "source": [
    "import numpy as np\n",
    "import ipywidgets as widgets\n",
    "from IPython.display import display\n",
    "from scipy.interpolate import interp1d\n",
    "from scipy.interpolate import CubicSpline\n",
    "\n",
    "# Constants\n",
    "kB = 1.38e-23  # Boltzmann constant (J/K)\n",
    "T = 298  # Temperature in Kelvin (room temperature)\n",
    "m = 4.6637066e-26  # Mass of an argon atom (kg)\n",
    "\n",
    "pumping_time_ = [240, 120, 15, 10, 3]\n",
    "pumping_time = 0\n",
    "pressure_array = [10**(-8), 10**(-2)]\n",
    "\n",
    "# Create a logarithmic slider widget for pressure\n",
    "pressure_slider = widgets.FloatLogSlider(\n",
    "    value=1e-4,\n",
    "    base=10,\n",
    "    min=-8,  # 10^-6\n",
    "    max=-3,  # 10^-1\n",
    "    step=1,\n",
    "    description='Pressure (mBar):',\n",
    "    continuous_update=True,\n",
    "    readout_format='.1e',\n",
    ")\n",
    "\n",
    "\n",
    "# Create an output widget to display the mean free path\n",
    "mean_free_path_output = widgets.Output()\n",
    "pumping_time_output = widgets.Output()\n",
    "\n",
    "# Define the function to calculate the mean free path\n",
    "def calculate_mean_free_path(pressure):\n",
    "    P_pa = pressure\n",
    "    R = 8.314\n",
    "    T = 20 + 273.15\n",
    "    M = 48\n",
    "    gas_visc = 1.81 * 10e-5\n",
    "    mean_free_path = np.sqrt((np.pi*R*T)/(2*M))*(gas_visc/P_pa)  # Calculate the mean free path (m)\n",
    "    return mean_free_path\n",
    "\n",
    "# Define the function to calculate the pumping time based on pressure\n",
    "def calculate_pumping_time(pressure):\n",
    "    # Power-law function: y = a * x^b\n",
    "    x1, x2 = pressure_array\n",
    "    y1, y2 = pumping_time_[0], pumping_time_[-1]\n",
    "\n",
    "    # Calculate the parameters a and b\n",
    "    b = np.log(y2 / y1) / np.log(x2 / x1)\n",
    "    a = y1 / (x1 ** b)\n",
    "\n",
    "    # Calculate pumping time using the power-law relationship\n",
    "    pumping_time = a * (pressure ** b)\n",
    "    return pumping_time\n",
    "\n",
    "# Define the function to handle slider changes\n",
    "def on_pressure_slider_change(change):\n",
    "    mean_free_path_output.clear_output()\n",
    "    pumping_time_output.clear_output()\n",
    "    mean_free_path = calculate_mean_free_path(change.new)\n",
    "    pumping_time = calculate_pumping_time(change.new)\n",
    "    \n",
    "    with mean_free_path_output:\n",
    "        print(f\"Mean Free Path: {mean_free_path:.3e} m\")\n",
    "    with pumping_time_output:\n",
    "        print(f\"Pumping time: {pumping_time:.1f} min\")\n",
    "\n",
    "# Attach the handler function to the slider\n",
    "pressure_slider.observe(on_pressure_slider_change, names='value')\n",
    "\n",
    "# Display the widgets\n",
    "display(pressure_slider)\n",
    "display(mean_free_path_output)\n",
    "display(pumping_time_output)"
   ]
  },
  {
   "cell_type": "markdown",
   "id": "41fe9faa-8a49-40c7-8383-99279e608de6",
   "metadata": {},
   "source": [
    "TODO: add more data for the pumping time, maybe plot the curve?"
   ]
  },
  {
   "cell_type": "code",
   "execution_count": 14,
   "id": "eb3fd140-38ab-4b81-a1d4-8d031bf9fe26",
   "metadata": {},
   "outputs": [
    {
     "data": {
      "text/html": [
       "\n",
       "<script>\n",
       "    // Function to suppress JavaScript error messages\n",
       "    function suppress_js_errors() {\n",
       "        window.onerror = function(message, source, lineno, colno, error) {\n",
       "            return true;\n",
       "        };\n",
       "    }\n",
       "    // Call the function to suppress JavaScript error messages\n",
       "    suppress_js_errors();\n",
       "</script>\n"
      ],
      "text/plain": [
       "<IPython.core.display.HTML object>"
      ]
     },
     "execution_count": 14,
     "metadata": {},
     "output_type": "execute_result"
    }
   ],
   "source": [
    "from IPython.display import HTML\n",
    "\n",
    "HTML(\"\"\"\n",
    "<script>\n",
    "    // Function to suppress JavaScript error messages\n",
    "    function suppress_js_errors() {\n",
    "        window.onerror = function(message, source, lineno, colno, error) {\n",
    "            return true;\n",
    "        };\n",
    "    }\n",
    "    // Call the function to suppress JavaScript error messages\n",
    "    suppress_js_errors();\n",
    "</script>\n",
    "\"\"\")\n",
    "\n"
   ]
  },
  {
   "cell_type": "code",
   "execution_count": 43,
   "id": "e4d7e0b0-b0a7-4bb0-8372-1e975e942f84",
   "metadata": {},
   "outputs": [
    {
     "data": {
      "application/vnd.jupyter.widget-view+json": {
       "model_id": "c012216894164d18944bbef5759cb628",
       "version_major": 2,
       "version_minor": 0
      },
      "text/plain": [
       "Distance:   0%|          | 0/36 [00:00<?, ?it/s]"
      ]
     },
     "metadata": {},
     "output_type": "display_data"
    },
    {
     "data": {
      "application/vnd.jupyter.widget-view+json": {
       "model_id": "7deb754cfb97480e97258997c102568a",
       "version_major": 2,
       "version_minor": 0
      },
      "text/plain": [
       "Output(layout=Layout(height='100%', width='100%'))"
      ]
     },
     "metadata": {},
     "output_type": "display_data"
    },
    {
     "data": {
      "application/vnd.jupyter.widget-view+json": {
       "model_id": "5f7220f283634e75bfe889854d37d34b",
       "version_major": 2,
       "version_minor": 0
      },
      "text/plain": [
       "interactive(children=(IntSlider(value=50, description='Distance (cm)', max=200, min=25, step=5), Dropdown(desc…"
      ]
     },
     "metadata": {},
     "output_type": "display_data"
    },
    {
     "data": {
      "text/plain": [
       "<function __main__.plot_thickness(distance, wafer_size, evaporation_type, directionality, aspect_ratio)>"
      ]
     },
     "execution_count": 43,
     "metadata": {},
     "output_type": "execute_result"
    }
   ],
   "source": [
    "%matplotlib widget\n",
    "\n",
    "import numpy as np\n",
    "from ipywidgets import interact, IntSlider, Dropdown, Output\n",
    "import plotly.subplots as sp\n",
    "import plotly.graph_objs as go\n",
    "from tqdm.notebook import tqdm\n",
    "\n",
    "output_widget = Output(layout={'width': '100%', 'height': '100%'})\n",
    "\n",
    "def calculate_thickness(X, Y, distance, wafer_size, evaporation_type, directionality):\n",
    "    if evaporation_type == 'point':\n",
    "        R = np.sqrt((X - wafer_size / 2) ** 2 + (Y - wafer_size / 2) ** 2 + distance ** 2)\n",
    "        theta = np.arccos(distance / R)\n",
    "        if directionality == 'uniform':\n",
    "            Z = np.cos(theta) ** 2\n",
    "        elif directionality == 'non-uniform':\n",
    "            Z = np.cos(theta)\n",
    "    else:  # evaporation_type == 'surface'\n",
    "        R = np.sqrt((X - wafer_size / 2) ** 2 + (Y - wafer_size / 2) ** 2 + distance ** 2)\n",
    "        theta = np.arccos(distance / R)\n",
    "        if directionality == 'uniform':\n",
    "            Z = np.cos(theta) ** 2\n",
    "        elif directionality == 'non-uniform':\n",
    "            Z = np.cos(theta)\n",
    "    \n",
    "    return Z*100\n",
    "\n",
    "\n",
    "# Precompute 3D shapes\n",
    "def precompute_shapes():\n",
    "    shapes = {}\n",
    "    wafer_sizes = [5, 10, 16]\n",
    "    evaporation_types = ['point', 'surface']\n",
    "    directionalities = ['uniform', 'non-uniform']\n",
    "    distance_values = range(25, 201, 5)\n",
    "\n",
    "    for distance in tqdm(distance_values, desc='Distance'):\n",
    "        for wafer_size in wafer_sizes:\n",
    "            x = np.linspace(0, wafer_size, 25)\n",
    "            y = np.linspace(0, wafer_size, 25)\n",
    "            X, Y = np.meshgrid(x, y)\n",
    "            for evaporation_type in evaporation_types:\n",
    "                for directionality in directionalities:\n",
    "                    Z = calculate_thickness(X, Y, distance, wafer_size, evaporation_type, directionality)\n",
    "\n",
    "                    # Circular mask for the wafer\n",
    "                    mask = np.sqrt((X - wafer_size / 2) ** 2 + (Y - wafer_size / 2) ** 2) > wafer_size / 2\n",
    "                    Z[mask] = np.nan\n",
    "\n",
    "                    shapes[(distance, wafer_size, evaporation_type, directionality)] = Z\n",
    "    return X, Y, shapes\n",
    "\n",
    "X, Y, precomputed_shapes = precompute_shapes()\n",
    "\n",
    "def update_square_color(trace, points, selector):\n",
    "    clicked_square_index = points.point_inds[0]\n",
    "    current_color = trace.marker.color[clicked_square_index]\n",
    "    new_color = 'red' if current_color != 'red' else 'green'\n",
    "    trace.marker.color[clicked_square_index] = new_color\n",
    "    trace.marker.colorbar.update()\n",
    "    trace.update()\n",
    "\n",
    "\n",
    "@output_widget.capture(clear_output=True)\n",
    "def plot_thickness(distance, wafer_size, evaporation_type, directionality, aspect_ratio):\n",
    "    Z = precomputed_shapes[(distance, wafer_size, evaporation_type, directionality)]\n",
    "\n",
    "    fig = sp.make_subplots(rows=1, cols=2, specs=[[{'type': 'surface'}, {'type': 'xy'}]])\n",
    "\n",
    "    # Add colorbar_title to go.Surface trace\n",
    "    fig.add_trace(go.Surface(z=Z, x=X, y=Y, colorscale='Viridis', showscale=True, \n",
    "                             colorbar_title=\"(nm)\"), row=1, col=1)\n",
    "    heatmap = go.Heatmap(z=Z, x=X[0], y=Y[:, 0], colorscale='Viridis')\n",
    "    fig.add_trace(heatmap, row=1, col=2)\n",
    "\n",
    "    fig.update_layout(title=f'Thin Film Thickness Uniformity for 100nm evaporation at the center point',\n",
    "                      height=600, margin=dict(l=10, r=10, t=80, b=10))\n",
    "    z_min = 0\n",
    "    z_min = {5: 99, 10: 95}.get(wafer_size, 85 if distance < 50 else 95)\n",
    "    if aspect_ratio == 'no':\n",
    "        z_min = 0\n",
    "    fig.update_layout(scene=dict(zaxis=dict(range=[z_min, 100])))\n",
    "\n",
    "    # Add click event handler to the heatmap\n",
    "    fig.data[1].on_click(update_square_color)\n",
    "    fig.show()\n",
    "\n",
    "\n",
    "    \n",
    "display(output_widget)\n",
    "\n",
    "distance_widget = IntSlider(min=25, max=200, step=5, value=50, description='Distance (cm)')\n",
    "wafer_size_widget = Dropdown(options=[5, 10, 16], value=5, description='Wafer Size (cm)')\n",
    "evaporation_type_widget = Dropdown(options=['point', 'surface'], value='point', description='Evaporation Type')\n",
    "directionality_widget = Dropdown(options=['uniform', 'non-uniform'], value='uniform', description='Directionality')\n",
    "aspect_ratio_widget = Dropdown(options=['yes','no'], value='yes', description='aspect_ratio')\n",
    "interact(plot_thickness, distance=distance_widget, wafer_size=wafer_size_widget, evaporation_type=evaporation_type_widget, directionality=directionality_widget,aspect_ratio=aspect_ratio_widget)\n",
    "\n"
   ]
  },
  {
   "cell_type": "code",
   "execution_count": null,
   "id": "5b47c922-7433-4b3f-a894-f514a29981ef",
   "metadata": {},
   "outputs": [],
   "source": []
  },
  {
   "cell_type": "markdown",
   "id": "402bbb3f-c679-481d-8f78-0e1fe46cf580",
   "metadata": {},
   "source": [
    "TODO: fix the z axis on the 3d surface"
   ]
  },
  {
   "cell_type": "markdown",
   "id": "847c3dba-b6c3-4ed1-8f7e-6d5e5f1cded6",
   "metadata": {},
   "source": [
    "working first code"
   ]
  },
  {
   "cell_type": "code",
   "execution_count": 17,
   "id": "18ab65b2-c19b-4505-84ad-ed99eac4aea0",
   "metadata": {},
   "outputs": [
    {
     "data": {
      "application/vnd.jupyter.widget-view+json": {
       "model_id": "14db5161443a44bab5f8d794c227f5e4",
       "version_major": 2,
       "version_minor": 0
      },
      "text/plain": [
       "interactive(children=(FloatSlider(value=30.0, description='Angle (degrees)', max=80.0, step=1.0), Output()), _…"
      ]
     },
     "metadata": {},
     "output_type": "display_data"
    },
    {
     "data": {
      "text/plain": [
       "<function __main__.plot_cross_section(alpha)>"
      ]
     },
     "execution_count": 17,
     "metadata": {},
     "output_type": "execute_result"
    }
   ],
   "source": [
    "import numpy as np\n",
    "import plotly.graph_objs as go\n",
    "from ipywidgets import interact, FloatSlider\n",
    "\n",
    "def create_cross_section(alpha):\n",
    "    alpha = np.radians(alpha)\n",
    "    step = 0.2\n",
    "    x1 = np.linspace(0, 1, 50)\n",
    "    y1 = np.zeros_like(x1) + step\n",
    "\n",
    "    x2 = np.linspace(1, 1 + np.sin(alpha), 50)\n",
    "    y2 = np.linspace(0, 3*np.cos(alpha), 50) + step\n",
    "\n",
    "    x3 = np.linspace(1 + np.sin(alpha), 1 + np.sin(alpha) + np.cos(alpha), 50)\n",
    "    y3 = np.ones_like(x3)*3 * np.cos(alpha)+step\n",
    "\n",
    "    x4 = np.linspace(1 + np.sin(alpha) + np.cos(alpha),1 + np.sin(alpha) + np.cos(alpha) + np.sin(alpha), 50)\n",
    "    y4 = np.linspace(3*np.cos(alpha), 0, 50)+step\n",
    "\n",
    "    x5 = np.linspace(2 + 2 * np.sin(alpha), 3 + 2 * np.sin(alpha), 50)\n",
    "    y5 = np.zeros_like(x5)+step\n",
    "\n",
    "    x = np.concatenate((x1, x2, x3, x4, x5))\n",
    "    y = np.concatenate((y1, y2, y3, y4, y5))\n",
    "\n",
    "    return x, y\n",
    "\n",
    "def plot_cross_section(alpha):\n",
    "    x, y = create_cross_section(alpha)\n",
    "    fig = go.Figure()\n",
    "\n",
    "    fig.add_trace(go.Scatter(x=x, y=y , fill='tozeroy', mode = 'none'))\n",
    "\n",
    "    max_x = np.max(x)\n",
    "    max_y = np.max(y)\n",
    "    lim_y = 6\n",
    "    fig.update_layout(\n",
    "        title=f'Cross-section with angle {alpha} degrees',\n",
    "        xaxis=dict(\n",
    "            range=[0, max_x],\n",
    "            constrain='domain',\n",
    "            showticklabels=False,\n",
    "            showgrid=False,\n",
    "            zeroline=False\n",
    "        ),\n",
    "        yaxis=dict(\n",
    "            range=[0, lim_y],\n",
    "            scaleanchor='x',\n",
    "            scaleratio=max_y / max_x,\n",
    "            constrain='domain',\n",
    "            showgrid=False,\n",
    "            zeroline=False\n",
    "        ),\n",
    "        plot_bgcolor='white',\n",
    "        margin=dict(l=20, r=20, t=80, b=20),\n",
    "        autosize=False,\n",
    "        width=800,\n",
    "        height=450\n",
    "    )\n",
    "\n",
    "    fig.show()\n",
    "\n",
    "alpha_slider = FloatSlider(min=0, max=80, step=1, value=30, description='Angle (degrees)')\n",
    "interact(plot_cross_section, alpha=alpha_slider)\n"
   ]
  },
  {
   "cell_type": "code",
   "execution_count": 27,
   "id": "ac8b9158-a242-48e7-b50d-6a80c1a73aea",
   "metadata": {},
   "outputs": [
    {
     "data": {
      "application/vnd.jupyter.widget-view+json": {
       "model_id": "c7c579ddd3314581928e3bd26594b995",
       "version_major": 2,
       "version_minor": 0
      },
      "text/plain": [
       "Label(value='')"
      ]
     },
     "metadata": {},
     "output_type": "display_data"
    },
    {
     "data": {
      "application/vnd.jupyter.widget-view+json": {
       "model_id": "8bb352248da142a18f6be0625563e995",
       "version_major": 2,
       "version_minor": 0
      },
      "text/plain": [
       "interactive(children=(FloatSlider(value=30.0, description='Angle (degrees)', max=80.0, step=1.0), Output()), _…"
      ]
     },
     "metadata": {},
     "output_type": "display_data"
    },
    {
     "data": {
      "text/plain": [
       "<function __main__.plot_cross_section(alpha)>"
      ]
     },
     "execution_count": 27,
     "metadata": {},
     "output_type": "execute_result"
    }
   ],
   "source": [
    "import numpy as np\n",
    "import plotly.graph_objs as go\n",
    "from ipywidgets import interact, FloatSlider, Label\n",
    "from scipy.ndimage import gaussian_filter1d\n",
    "\n",
    "model = 'course'\n",
    "\n",
    "def update_thickness_display(alpha, model, initial_thickness=30):\n",
    "    alpha_rad = np.radians(alpha)\n",
    "    t1 = initial_thickness\n",
    "    t2 = slope_thickness(t1, alpha_rad, model)\n",
    "    thickness_display.value = f'Thickness on flat surfaces: {t1:.4f} nm and the thickness on slopes: {t2:.4f} nm'\n",
    "\n",
    "    \n",
    "def deposition_thickness(distance, initial_thickness=40):\n",
    "    \"\"\"\n",
    "    Compute the thickness of the deposited material based on the distance from the evaporation source.\n",
    "    \n",
    "    :param distance: Distance from the evaporation source.\n",
    "    :param initial_thickness: Thickness of the material at the evaporation source (default: 1).\n",
    "    :return: Thickness of the deposited material.\n",
    "    \"\"\"\n",
    "    return initial_thickness / (1 + distance)\n",
    "\n",
    "def slope_thickness(t1,alpha,model): \n",
    "    t2 = 0\n",
    "    if model == 'course':\n",
    "        t2 = np.sin(alpha) * t1\n",
    "\n",
    "    elif model == 'Thornton': \n",
    "        critical_angle = np.radians(80)  # You can adjust this value based on the specific material\n",
    "        if alpha <= critical_angle:\n",
    "            t2 = t1 * (1 - (alpha / critical_angle))\n",
    "        else:\n",
    "            t2 = 0\n",
    "    else:\n",
    "        k = 0.01\n",
    "        t2 = t1 * np.exp(-alpha * k)\n",
    "    \n",
    "    return t2\n",
    "\n",
    "def create_cross_section(alpha,model, distance_from_source=50, initial_thickness=30):\n",
    "    alpha = np.radians(alpha)\n",
    "    step = 0.2\n",
    "    \n",
    "    t1 = deposition_thickness(distance_from_source, initial_thickness)\n",
    "    t2 = slope_thickness(t1,alpha,model)\n",
    "\n",
    "    \n",
    "    x1 = np.linspace(0, 1, 50)\n",
    "    y1 = np.zeros_like(x1) + step\n",
    "\n",
    "    x2 = np.linspace(1, 1 + np.sin(alpha), 50)\n",
    "    y2 = np.linspace(0, 3 * np.cos(alpha), 50) + step\n",
    "\n",
    "    x3 = np.linspace(1 + np.sin(alpha), 1 + np.sin(alpha) + np.cos(alpha), 50)\n",
    "    y3 = np.ones_like(x3) * 3 * np.cos(alpha) + step\n",
    "\n",
    "    x4 = np.linspace(1 + np.sin(alpha) + np.cos(alpha), 1 + np.sin(alpha) + np.cos(alpha) + np.sin(alpha), 50)\n",
    "    y4 = np.linspace(3 * np.cos(alpha), 0, 50) + step\n",
    "\n",
    "    x5 = np.linspace(2 + 2 * np.sin(alpha), 3 + 2 * np.sin(alpha), 50)\n",
    "    y5 = np.zeros_like(x5) + step\n",
    "\n",
    "    x = np.concatenate((x1, x2, x3, x4, x5))\n",
    "    y = np.concatenate((y1, y2, y3, y4, y5))\n",
    "\n",
    "    y_top = np.zeros_like(y)\n",
    "\n",
    "    if alpha == 0:\n",
    "        y_top_smooth = y + t1\n",
    "    else:\n",
    "    # Create the top layer\n",
    "        for i in range(len(x)):\n",
    "            y1_line = y1[0] + t1\n",
    "            y2_line = ((x[i] - x2[0]) * (y2[-1] - y2[0]) / (x2[-1] - x2[0])) + y2[0] + t2\n",
    "            y3_line = y3[0] + t1\n",
    "            y4_line = ((x[i] - x4[0]) * (y4[-1] - y4[0]) / (x4[-1] - x4[0])) + y4[0] + t2\n",
    "            if y2_line <= y4_line:\n",
    "                #left of the image\n",
    "                if y1_line >= y2_line:\n",
    "                    y_top[i] = y1_line\n",
    "                elif y2_line <= y3_line:\n",
    "                    y_top[i] = y2_line\n",
    "                else:\n",
    "                    y_top[i] = y3_line\n",
    "            else:\n",
    "                if y3_line <= y4_line:\n",
    "                    y_top[i] = y3_line\n",
    "                elif y4_line >= y1_line:\n",
    "                    y_top[i] = y4_line\n",
    "                else: \n",
    "                    y_top[i] = y1_line\n",
    "        y_top_smooth = gaussian_filter1d(y_top, sigma=1)\n",
    "\n",
    "\n",
    "    return x, y, y_top_smooth\n",
    "\n",
    "   \n",
    "\n",
    "def plot_cross_section(alpha):\n",
    "    x, y, y_deposition = create_cross_section(alpha,model)\n",
    "    fig = go.Figure()\n",
    "\n",
    "    fig.add_trace(go.Scatter(x=x, y=y, fill='tozeroy', mode='none', name='Structure'))\n",
    "    fig.add_trace(go.Scatter(x=x, y=y_deposition, fill='tonexty', mode='none', name='Deposited layer'))\n",
    "\n",
    "    max_x = np.max(x)\n",
    "    max_y = np.max(y)\n",
    "    lim_y = 6\n",
    "    fig.update_layout(\n",
    "        title=f'Cross-section with angle {alpha} degrees',\n",
    "        xaxis=dict(\n",
    "            range=[0, max_x],\n",
    "            constrain='domain',\n",
    "            showticklabels=False,\n",
    "            showgrid=False,\n",
    "            zeroline=False\n",
    "        ),\n",
    "        yaxis=dict(\n",
    "            range=[0, lim_y],\n",
    "            scaleanchor='x',\n",
    "            scaleratio=max_y / max_x,\n",
    "            constrain='domain',\n",
    "            showgrid=False,\n",
    "            zeroline=False\n",
    "        ),\n",
    "        plot_bgcolor='white',\n",
    "        margin=dict(l=20, r=20, t=80, b=20),\n",
    "        autosize=False,\n",
    "        width=800,\n",
    "        height=450\n",
    "    )\n",
    "\n",
    "    fig.show()\n",
    "    update_thickness_display(alpha_slider.value, model)\n",
    "\n",
    "thickness_display = Label()\n",
    "display(thickness_display)\n",
    "alpha_slider = FloatSlider(min=0, max=80, step=1, value=30, description='Angle (degrees)')\n",
    "interact(plot_cross_section, alpha=alpha_slider)\n",
    "\n",
    "\n"
   ]
  },
  {
   "cell_type": "code",
   "execution_count": null,
   "id": "740fb62f-ed6f-452a-9f44-283f7a21d9f0",
   "metadata": {},
   "outputs": [],
   "source": []
  }
 ],
 "metadata": {
  "kernelspec": {
   "display_name": "p3_dash",
   "language": "python",
   "name": "p3_dash"
  },
  "language_info": {
   "codemirror_mode": {
    "name": "ipython",
    "version": 3
   },
   "file_extension": ".py",
   "mimetype": "text/x-python",
   "name": "python",
   "nbconvert_exporter": "python",
   "pygments_lexer": "ipython3",
   "version": "3.8.10"
  }
 },
 "nbformat": 4,
 "nbformat_minor": 5
}
