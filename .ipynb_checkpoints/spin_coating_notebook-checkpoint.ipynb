{
 "cells": [
  {
   "cell_type": "markdown",
   "id": "877554be-8af7-468a-984b-c2ca784aa878",
   "metadata": {},
   "source": [
    "## Spin coating notebook\n",
    "\n",
    "\n",
    "The goal of this exercise is to deposite photoresist uniformly on the wafer, to prepare for the photolithography step.\n",
    "To do so, the resist used is called [\"AZ 1512 HS\"](https://www.epfl.ch/research/facilities/cmi/process/photolithography/photoresist-selection/az-1512-hs/), available in CMi. \n",
    "The thickness that you will deposite is crucial to be able to developpe correctly the resist.\n",
    "The goal of this exercise is to generate the curve of the thickness [$\\mu m$] in function of the rotation speed [$rpm$], so that you can choose the correct parameter on the machine.\n",
    "For the resist mentionned above, the relation between the two variables is expressed as :\n",
    "\\begin{equation}\n",
    "T = \\alpha \\cdot \\omega^\\beta [\\mu m]\n",
    "\\end{equation}\n",
    "\n",
    "with $\\alpha$ = 94.67679 and $\\beta$ = 0.52672\n",
    "\n",
    "Now, it's your turn to generate the thickness/rotation speed curve. To do so, create an array of rotation speed with the [\"np.array function\"](https://numpy.org/doc/stable/reference/generated/numpy.array.html)\n",
    "\n",
    "\n",
    "\n",
    "\n"
   ]
  },
  {
   "cell_type": "code",
   "execution_count": 1,
   "id": "7df1548a-7399-4016-9b36-188507b3fceb",
   "metadata": {},
   "outputs": [
    {
     "data": {
      "image/png": "[encoded data removed]",
      "text/plain": [
       "<Figure size 640x480 with 1 Axes>"
      ]
     },
     "metadata": {},
     "output_type": "display_data"
    }
   ],
   "source": [
    "import numpy as np\n",
    "import matplotlib.pyplot as plt\n",
    "from scipy import interpolate\n",
    "\n",
    "alpha = 94.67679\n",
    "beta = 0.52672\n",
    "omega = np.array([1000, 2000, 3000, 4000, 5000, 6000])\n",
    "\n",
    "t = alpha*(omega**-beta)\n",
    "interp = interpolate.interp1d(omega,t)\n",
    "\n",
    "for i,j in zip(omega, t):\n",
    "    plt.text(i, j, round(float(j),2))\n",
    "    \n",
    "plt.plot(omega, interp(omega), 'o', omega, t)\n",
    "plt.ylabel('Rotation speed [rpm]')\n",
    "plt.ylabel('Thickness [um]')\n",
    "plt.show()"
   ]
  },
  {
   "cell_type": "markdown",
   "id": "99556769-7a7d-46b7-90c2-5af2d7436643",
   "metadata": {},
   "source": [
    "Based on the plot above, what rpm would you choose ?\n"
   ]
  },
  {
   "cell_type": "code",
   "execution_count": 18,
   "id": "db6ea837-7938-4747-bc96-ce7d42e77be9",
   "metadata": {},
   "outputs": [],
   "source": [
    "omega = 3000"
   ]
  },
  {
   "cell_type": "code",
   "execution_count": 3,
   "id": "fd1b2b1c-4158-4f0c-a5df-6f406755d3a4",
   "metadata": {},
   "outputs": [
    {
     "name": "stdout",
     "output_type": "stream",
     "text": [
      "Defaulting to user installation because normal site-packages is not writeable\n",
      "Requirement already satisfied: ipycanvas in /home/.local/lib/python3.8/site-packages (0.13.1)\n",
      "Requirement already satisfied: ipywidgets<9,>=7.6.0 in /usr/local/lib/python3.8/dist-packages (from ipycanvas) (8.0.4)\n",
      "Requirement already satisfied: pillow>=6.0 in /usr/local/lib/python3.8/dist-packages (from ipycanvas) (9.2.0)\n",
      "Requirement already satisfied: numpy in /usr/local/lib/python3.8/dist-packages (from ipycanvas) (1.22.4)\n",
      "Requirement already satisfied: ipython>=6.1.0 in /usr/local/lib/python3.8/dist-packages (from ipywidgets<9,>=7.6.0->ipycanvas) (8.4.0)\n",
      "Requirement already satisfied: jupyterlab-widgets~=3.0 in /usr/local/lib/python3.8/dist-packages (from ipywidgets<9,>=7.6.0->ipycanvas) (3.0.5)\n",
      "Requirement already satisfied: traitlets>=4.3.1 in /usr/local/lib/python3.8/dist-packages (from ipywidgets<9,>=7.6.0->ipycanvas) (5.1.1)\n",
      "Requirement already satisfied: widgetsnbextension~=4.0 in /usr/local/lib/python3.8/dist-packages (from ipywidgets<9,>=7.6.0->ipycanvas) (4.0.5)\n",
      "Requirement already satisfied: ipykernel>=4.5.1 in /usr/local/lib/python3.8/dist-packages (from ipywidgets<9,>=7.6.0->ipycanvas) (6.15.1)\n",
      "Requirement already satisfied: psutil in /usr/local/lib/python3.8/dist-packages (from ipykernel>=4.5.1->ipywidgets<9,>=7.6.0->ipycanvas) (5.9.4)\n",
      "Requirement already satisfied: debugpy>=1.0 in /usr/local/lib/python3.8/dist-packages (from ipykernel>=4.5.1->ipywidgets<9,>=7.6.0->ipycanvas) (1.6.3)\n",
      "Requirement already satisfied: pyzmq>=17 in /usr/local/lib/python3.8/dist-packages (from ipykernel>=4.5.1->ipywidgets<9,>=7.6.0->ipycanvas) (23.2.1)\n",
      "Requirement already satisfied: packaging in /usr/local/lib/python3.8/dist-packages (from ipykernel>=4.5.1->ipywidgets<9,>=7.6.0->ipycanvas) (21.3)\n",
      "Requirement already satisfied: nest-asyncio in /usr/local/lib/python3.8/dist-packages (from ipykernel>=4.5.1->ipywidgets<9,>=7.6.0->ipycanvas) (1.5.5)\n",
      "Requirement already satisfied: tornado>=6.1 in /usr/local/lib/python3.8/dist-packages (from ipykernel>=4.5.1->ipywidgets<9,>=7.6.0->ipycanvas) (6.2)\n",
      "Requirement already satisfied: matplotlib-inline>=0.1 in /usr/local/lib/python3.8/dist-packages (from ipykernel>=4.5.1->ipywidgets<9,>=7.6.0->ipycanvas) (0.1.6)\n",
      "Requirement already satisfied: jupyter-client>=6.1.12 in /usr/local/lib/python3.8/dist-packages (from ipykernel>=4.5.1->ipywidgets<9,>=7.6.0->ipycanvas) (7.4.4)\n",
      "Requirement already satisfied: backcall in /usr/local/lib/python3.8/dist-packages (from ipython>=6.1.0->ipywidgets<9,>=7.6.0->ipycanvas) (0.2.0)\n",
      "Requirement already satisfied: prompt-toolkit!=3.0.0,!=3.0.1,<3.1.0,>=2.0.0 in /usr/local/lib/python3.8/dist-packages (from ipython>=6.1.0->ipywidgets<9,>=7.6.0->ipycanvas) (3.0.30)\n",
      "Requirement already satisfied: setuptools>=18.5 in /usr/local/lib/python3.8/dist-packages (from ipython>=6.1.0->ipywidgets<9,>=7.6.0->ipycanvas) (65.3.0)\n",
      "Requirement already satisfied: stack-data in /usr/local/lib/python3.8/dist-packages (from ipython>=6.1.0->ipywidgets<9,>=7.6.0->ipycanvas) (0.5.0)\n",
      "Requirement already satisfied: pexpect>4.3 in /usr/lib/python3/dist-packages (from ipython>=6.1.0->ipywidgets<9,>=7.6.0->ipycanvas) (4.6.0)\n",
      "Requirement already satisfied: pickleshare in /usr/local/lib/python3.8/dist-packages (from ipython>=6.1.0->ipywidgets<9,>=7.6.0->ipycanvas) (0.7.5)\n",
      "Requirement already satisfied: decorator in /usr/local/lib/python3.8/dist-packages (from ipython>=6.1.0->ipywidgets<9,>=7.6.0->ipycanvas) (5.1.1)\n",
      "Requirement already satisfied: pygments>=2.4.0 in /usr/local/lib/python3.8/dist-packages (from ipython>=6.1.0->ipywidgets<9,>=7.6.0->ipycanvas) (2.13.0)\n",
      "Requirement already satisfied: jedi>=0.16 in /usr/local/lib/python3.8/dist-packages (from ipython>=6.1.0->ipywidgets<9,>=7.6.0->ipycanvas) (0.18.1)\n",
      "Requirement already satisfied: parso<0.9.0,>=0.8.0 in /usr/local/lib/python3.8/dist-packages (from jedi>=0.16->ipython>=6.1.0->ipywidgets<9,>=7.6.0->ipycanvas) (0.8.3)\n",
      "Requirement already satisfied: entrypoints in /usr/lib/python3/dist-packages (from jupyter-client>=6.1.12->ipykernel>=4.5.1->ipywidgets<9,>=7.6.0->ipycanvas) (0.3)\n",
      "Requirement already satisfied: python-dateutil>=2.8.2 in /usr/local/lib/python3.8/dist-packages (from jupyter-client>=6.1.12->ipykernel>=4.5.1->ipywidgets<9,>=7.6.0->ipycanvas) (2.8.2)\n",
      "Requirement already satisfied: jupyter-core>=4.9.2 in /usr/local/lib/python3.8/dist-packages (from jupyter-client>=6.1.12->ipykernel>=4.5.1->ipywidgets<9,>=7.6.0->ipycanvas) (4.11.1)\n",
      "Requirement already satisfied: wcwidth in /usr/local/lib/python3.8/dist-packages (from prompt-toolkit!=3.0.0,!=3.0.1,<3.1.0,>=2.0.0->ipython>=6.1.0->ipywidgets<9,>=7.6.0->ipycanvas) (0.2.5)\n",
      "Requirement already satisfied: pyparsing!=3.0.5,>=2.0.2 in /usr/local/lib/python3.8/dist-packages (from packaging->ipykernel>=4.5.1->ipywidgets<9,>=7.6.0->ipycanvas) (3.0.9)\n",
      "Requirement already satisfied: executing in /usr/local/lib/python3.8/dist-packages (from stack-data->ipython>=6.1.0->ipywidgets<9,>=7.6.0->ipycanvas) (1.0.0)\n",
      "Requirement already satisfied: pure-eval in /usr/local/lib/python3.8/dist-packages (from stack-data->ipython>=6.1.0->ipywidgets<9,>=7.6.0->ipycanvas) (0.2.2)\n",
      "Requirement already satisfied: asttokens in /usr/local/lib/python3.8/dist-packages (from stack-data->ipython>=6.1.0->ipywidgets<9,>=7.6.0->ipycanvas) (2.0.8)\n",
      "Requirement already satisfied: six>=1.5 in /usr/lib/python3/dist-packages (from python-dateutil>=2.8.2->jupyter-client>=6.1.12->ipykernel>=4.5.1->ipywidgets<9,>=7.6.0->ipycanvas) (1.14.0)\n",
      "Note: you may need to restart the kernel to use updated packages.\n"
     ]
    }
   ],
   "source": [
    "pip install ipycanvas"
   ]
  },
  {
   "cell_type": "code",
   "execution_count": 24,
   "id": "156c6f26-3f3a-4233-84b5-43a0f51429c6",
   "metadata": {},
   "outputs": [
    {
     "data": {
      "application/vnd.jupyter.widget-view+json": {
       "model_id": "42c9bfc766234fea9d19aef6f00288b5",
       "version_major": 2,
       "version_minor": 0
      },
      "text/plain": [
       "Canvas()"
      ]
     },
     "execution_count": 24,
     "metadata": {},
     "output_type": "execute_result"
    }
   ],
   "source": [
    "from ipycanvas import Canvas\n",
    "#creation of the substrate\n",
    "canvas = Canvas(size=(500, 500))\n",
    "canvas.fill_style = 'blue'\n",
    "canvas.stroke_style = 'blue'\n",
    "canvas.fill_rect(350, 100, 200, 50) #x, y, width, height\n",
    "canvas.stroke_rect(350, 100, 200, 50)\n",
    "#creation of the oxyde layer\n",
    "canvas.fill_style = 'orange'\n",
    "canvas.stroke_style = 'orange'\n",
    "canvas.fill_rect(350, 70, 200, 30) #x, y, width, height\n",
    "canvas.stroke_rect(350, 60, 200, 30)\n",
    "#creation of the resist in function of the thickness that has been depositied\n",
    "canvas.fill_style = 'red'\n",
    "canvas.stroke_style = 'red'\n",
    "canvas.fill_rect(350, 70- 10*alpha*(omega**-beta), 200,  10*alpha*(omega**-beta)) #x, y, width, height\n",
    "canvas.stroke_rect(350,950, 200, 50)\n",
    "#display the result\n",
    "canvas"
   ]
  },
  {
   "cell_type": "code",
   "execution_count": null,
   "id": "7352ba66-dbcd-471d-be1c-5cc2cb30a09d",
   "metadata": {},
   "outputs": [],
   "source": [
    " "
   ]
  },
  {
   "cell_type": "markdown",
   "id": "8f998454-87ed-4263-8c46-bcd9acac0ca7",
   "metadata": {},
   "source": [
    "<div class=\"alert-success\"> Propose different solutions ; the student should response \"HMDS process\" to improve the adhesion. One possibility is to show wafers after spin coating with and without HMDS (see the difference when we put water on each wafer)\n",
    "</div>"
   ]
  },
  {
   "cell_type": "markdown",
   "id": "c87fbb6c-5513-4ea6-9550-684d19b3b2a7",
   "metadata": {},
   "source": [
    "### Block II\n",
    "<div class=\"alert-info\">\n",
    "Propose different resists with different properties (need to be determined, depends on the final goal of the process --> discuss with Hernan)\n",
    "</div>\n"
   ]
  },
  {
   "cell_type": "markdown",
   "id": "7a25f517-e378-4b15-97cb-89117e2fc623",
   "metadata": {},
   "source": [
    "<div class=\"alert-danger\">\n",
    "Which resist would you chose, considering the final application and specifications of the process ?\n",
    "</div>"
   ]
  },
  {
   "cell_type": "markdown",
   "id": "0de576c1-ade0-4aa4-a300-d2b237b27561",
   "metadata": {},
   "source": [
    "<div class=\"alert-success\">\n",
    "If the resist is not the correct one, explain the caracteristics of the chosen one and why this is not a good choice ; go back to the next step !\n",
    "</div>"
   ]
  },
  {
   "cell_type": "markdown",
   "id": "26fe4787-d184-4361-87a4-c23c57a8c813",
   "metadata": {},
   "source": [
    "### Block III \n",
    "<div class=\"alert-info\">\n",
    "Presentation of an interactive exercise ; introduce the formula of the course that allows to determine the thickness of the resist based on different parameters (concentration of the resist, rotation speed, etc.)\n",
    "</div>"
   ]
  },
  {
   "cell_type": "markdown",
   "id": "d2f3eabb-0305-47e5-80bd-2341d462b944",
   "metadata": {},
   "source": [
    "<div class=\"alert-danger\">\n",
    "Implement the main part of the code to generate the curve and/or the final thickness, based on the parameters determined by the student. The student will apply the parameters and this will generate the curve until the correct parameters are selected.\n",
    "</div>\n",
    "\n",
    "\\begin{equation}\n",
    "T = K C^\\beta \\eta^\\gamma / \\omega^\\alpha\n",
    "\\end{equation}"
   ]
  },
  {
   "cell_type": "markdown",
   "id": "e11fa2a1-e938-4f40-8f2a-b509294e7b0a",
   "metadata": {},
   "source": [
    "### Block IV \n",
    "<div class=\"alert-info\">\n",
    "In reality, the desired thickness is never exact due to multiple reasons ; cite them (need to be discussed with Hernan)\n",
    "</div>"
   ]
  },
  {
   "cell_type": "markdown",
   "id": "6f700d6d-75be-46e8-b284-8b559e721ad7",
   "metadata": {},
   "source": [
    "<div class=\"alert-danger\">\n",
    "Which step could be here useful to check the thickness that has been deposited ? Different methods are presented (mechanical, ellipsometer), the student should be able to answer correctly\n",
    "</div>"
   ]
  },
  {
   "cell_type": "markdown",
   "id": "861c1ac5-96a5-4289-8ed8-209456116ec5",
   "metadata": {
    "tags": []
   },
   "source": [
    "### Block V \n",
    "<div class=\"alert-info\">\n",
    "This section will present real cases ; show different screenshots obtained with the ellipsometer and chose the one that seems realistic, since the process has been done by someone with experience\n",
    "</div>"
   ]
  },
  {
   "cell_type": "code",
   "execution_count": null,
   "id": "39a5a40a-b60f-4a8c-ada5-934c7dd70777",
   "metadata": {},
   "outputs": [],
   "source": []
  }
 ],
 "metadata": {
  "kernelspec": {
   "display_name": "Python",
   "language": "python",
   "name": "python3"
  },
  "language_info": {
   "codemirror_mode": {
    "name": "ipython",
    "version": 3
   },
   "file_extension": ".py",
   "mimetype": "text/x-python",
   "name": "python",
   "nbconvert_exporter": "python",
   "pygments_lexer": "ipython3",
   "version": "3.8.10"
  }
 },
 "nbformat": 4,
 "nbformat_minor": 5
}
