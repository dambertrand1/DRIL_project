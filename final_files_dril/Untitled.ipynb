{
 "cells": [
  {
   "cell_type": "markdown",
   "id": "3cc86e61-da37-47d6-a25f-0cb6eccbb5ac",
   "metadata": {},
   "source": [
    "pour nous: 1 divice avec 1 contrainte\n",
    "\n",
    "le divice: microheater\n",
    "contrainte: puissance surfacique de sortie\n",
    "\n",
    "\n",
    "Trouver une histoire pour justifier projet (sortir le violon)\n",
    "\n",
    "Expliquer ce qu'est le device et son but. Donner les contraintes de design et performance\n",
    "\n",
    "\n",
    "w: largeur d'une track --> définie dans la litho\n",
    "t: thin film thickness --> définie par le thin film déposition\n",
    "g: espace entre les tracts --> définie dans la litho\n",
    "\n",
    "\n",
    "--> définie dans ce notebook\n",
    "L: longueur d'une trac\n",
    "D: longueur utilisable = 2*N*(g+w) (on néglige le dernier g)\n",
    "\n",
    "avec epsilon < g & w\n",
    "\n",
    "\n",
    "Equations:\n",
    "R: resistance = $R=\\rho\\,\\frac {l_{tot}}{S}$\n",
    "<br>\n",
    "avec S = w*t\n",
    "<br>\n",
    "et $l_{tot} = 2NL$\n",
    "<br>\n",
    "$\\rho$ dépend du matériau\n",
    "\n",
    "mettre images \n",
    "\n",
    "\n",
    "$R_{eq} = \\rho \\frac{2NL}{wt}$\n",
    "\n",
    "Puissance émise: $Q = I^2R_{ep}$ [W]\n",
    "\n",
    "Puissance surfacique : $Q_{surf} = \\frac{Q}{LD*coef} $\n",
    "coef empirique\n",
    "On approxime pour dire que tt la chaleur part dans le substrat. \n"
   ]
  },
  {
   "cell_type": "code",
   "execution_count": null,
   "id": "e4131432-04b8-4244-93c2-c92270b1e8ab",
   "metadata": {},
   "outputs": [],
   "source": []
  }
 ],
 "metadata": {
  "kernelspec": {
   "display_name": "p3_dash",
   "language": "python",
   "name": "p3_dash"
  },
  "language_info": {
   "codemirror_mode": {
    "name": "ipython",
    "version": 3
   },
   "file_extension": ".py",
   "mimetype": "text/x-python",
   "name": "python",
   "nbconvert_exporter": "python",
   "pygments_lexer": "ipython3",
   "version": "3.8.10"
  }
 },
 "nbformat": 4,
 "nbformat_minor": 5
}
