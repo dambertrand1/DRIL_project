{
 "cells": [
  {
   "cell_type": "markdown",
   "id": "877554be-8af7-468a-984b-c2ca784aa878",
   "metadata": {},
   "source": [
    "## Spin coating notebook\n",
    "\n",
    "\n",
    "The goal of this exercise is to deposite the main and lift-off photoresists uniformly on the wafer, to prepare for the photolithography and lift-off steps.\n",
    "To do so, the main resist used is called [\"AZ 1512 HS\"](https://www.epfl.ch/research/facilities/cmi/process/photolithography/photoresist-selection/az-1512-hs/) and the lift-off resist (LOR) is the [\"LOR 5A\"](https://www.epfl.ch/research/facilities/cmi/process/photolithography/photoresist-selection/lor-5a/), both available in CMi. \n",
    "The thickness that you will deposite is crucial to be able to developpe correctly the resists.\n",
    "The goal of this exercise is to generate the two curves of thickness T [$\\mu m$] in function of the rotation speed $\\omega$ [$rpm$], so that you can choose the correct parameters on the machine. Note that the recipe first begins with a 500 RPM spreading step of 5 seconds and then 40 seconds of the main coating step.\n",
    "For the resists mentionned above, the relation between the two variables T and $\\omega$ is expressed as :\n",
    "\\begin{equation}\n",
    "T = \\alpha \\cdot \\omega^\\beta [\\mu m]\n",
    "\\end{equation}\n",
    "\n",
    "with $\\alpha_{main}$ = 94.67679 and $\\beta_{main}$ = 0.52672 and $\\alpha_{LOR}$ = 34.41502 and $\\beta_{LOR}$ = 0.51553 \n",
    "\n",
    "Now, it's your turn to generate the thickness/rotation speed curve. To do so, create an array of rotation speed with the [\"np.array function\"](https://numpy.org/doc/stable/reference/generated/numpy.array.html)\n",
    "\n",
    "\n",
    "\n",
    "\n"
   ]
  },
  {
   "cell_type": "code",
   "execution_count": 3,
   "id": "7df1548a-7399-4016-9b36-188507b3fceb",
   "metadata": {},
   "outputs": [
    {
     "ename": "ValueError",
     "evalue": "x and y arrays must be equal in length along interpolation axis.",
     "output_type": "error",
     "traceback": [
      "\u001b[1;31m---------------------------------------------------------------------------\u001b[0m",
      "\u001b[1;31mValueError\u001b[0m                                Traceback (most recent call last)",
      "\u001b[1;32m<ipython-input-3-41b4e24797ba>\u001b[0m in \u001b[0;36m<module>\u001b[1;34m\u001b[0m\n\u001b[0;32m     23\u001b[0m \u001b[1;33m\u001b[0m\u001b[0m\n\u001b[0;32m     24\u001b[0m \u001b[1;31m## Interpolation of the functions defined previously\u001b[0m\u001b[1;33m\u001b[0m\u001b[1;33m\u001b[0m\u001b[1;33m\u001b[0m\u001b[0m\n\u001b[1;32m---> 25\u001b[1;33m \u001b[0minterp_resist\u001b[0m \u001b[1;33m=\u001b[0m \u001b[0minterpolate\u001b[0m\u001b[1;33m.\u001b[0m\u001b[0minterp1d\u001b[0m\u001b[1;33m(\u001b[0m\u001b[0momega_resist\u001b[0m\u001b[1;33m,\u001b[0m\u001b[0mt_resist\u001b[0m\u001b[1;33m)\u001b[0m\u001b[1;33m\u001b[0m\u001b[1;33m\u001b[0m\u001b[0m\n\u001b[0m\u001b[0;32m     26\u001b[0m \u001b[0minterp_LOR\u001b[0m \u001b[1;33m=\u001b[0m \u001b[0minterpolate\u001b[0m\u001b[1;33m.\u001b[0m\u001b[0minterp1d\u001b[0m\u001b[1;33m(\u001b[0m\u001b[0momega_LOR\u001b[0m\u001b[1;33m,\u001b[0m\u001b[0mt_LOR\u001b[0m\u001b[1;33m)\u001b[0m\u001b[1;33m\u001b[0m\u001b[1;33m\u001b[0m\u001b[0m\n\u001b[0;32m     27\u001b[0m \u001b[1;33m\u001b[0m\u001b[0m\n",
      "\u001b[1;32m~\\anaconda3\\lib\\site-packages\\scipy\\interpolate\\interpolate.py\u001b[0m in \u001b[0;36m__init__\u001b[1;34m(self, x, y, kind, axis, copy, bounds_error, fill_value, assume_sorted)\u001b[0m\n\u001b[0;32m    427\u001b[0m                  assume_sorted=False):\n\u001b[0;32m    428\u001b[0m         \u001b[1;34m\"\"\" Initialize a 1-D linear interpolation class.\"\"\"\u001b[0m\u001b[1;33m\u001b[0m\u001b[1;33m\u001b[0m\u001b[0m\n\u001b[1;32m--> 429\u001b[1;33m         \u001b[0m_Interpolator1D\u001b[0m\u001b[1;33m.\u001b[0m\u001b[0m__init__\u001b[0m\u001b[1;33m(\u001b[0m\u001b[0mself\u001b[0m\u001b[1;33m,\u001b[0m \u001b[0mx\u001b[0m\u001b[1;33m,\u001b[0m \u001b[0my\u001b[0m\u001b[1;33m,\u001b[0m \u001b[0maxis\u001b[0m\u001b[1;33m=\u001b[0m\u001b[0maxis\u001b[0m\u001b[1;33m)\u001b[0m\u001b[1;33m\u001b[0m\u001b[1;33m\u001b[0m\u001b[0m\n\u001b[0m\u001b[0;32m    430\u001b[0m \u001b[1;33m\u001b[0m\u001b[0m\n\u001b[0;32m    431\u001b[0m         \u001b[0mself\u001b[0m\u001b[1;33m.\u001b[0m\u001b[0mbounds_error\u001b[0m \u001b[1;33m=\u001b[0m \u001b[0mbounds_error\u001b[0m  \u001b[1;31m# used by fill_value setter\u001b[0m\u001b[1;33m\u001b[0m\u001b[1;33m\u001b[0m\u001b[0m\n",
      "\u001b[1;32m~\\anaconda3\\lib\\site-packages\\scipy\\interpolate\\polyint.py\u001b[0m in \u001b[0;36m__init__\u001b[1;34m(self, xi, yi, axis)\u001b[0m\n\u001b[0;32m     52\u001b[0m         \u001b[0mself\u001b[0m\u001b[1;33m.\u001b[0m\u001b[0mdtype\u001b[0m \u001b[1;33m=\u001b[0m \u001b[1;32mNone\u001b[0m\u001b[1;33m\u001b[0m\u001b[1;33m\u001b[0m\u001b[0m\n\u001b[0;32m     53\u001b[0m         \u001b[1;32mif\u001b[0m \u001b[0myi\u001b[0m \u001b[1;32mis\u001b[0m \u001b[1;32mnot\u001b[0m \u001b[1;32mNone\u001b[0m\u001b[1;33m:\u001b[0m\u001b[1;33m\u001b[0m\u001b[1;33m\u001b[0m\u001b[0m\n\u001b[1;32m---> 54\u001b[1;33m             \u001b[0mself\u001b[0m\u001b[1;33m.\u001b[0m\u001b[0m_set_yi\u001b[0m\u001b[1;33m(\u001b[0m\u001b[0myi\u001b[0m\u001b[1;33m,\u001b[0m \u001b[0mxi\u001b[0m\u001b[1;33m=\u001b[0m\u001b[0mxi\u001b[0m\u001b[1;33m,\u001b[0m \u001b[0maxis\u001b[0m\u001b[1;33m=\u001b[0m\u001b[0maxis\u001b[0m\u001b[1;33m)\u001b[0m\u001b[1;33m\u001b[0m\u001b[1;33m\u001b[0m\u001b[0m\n\u001b[0m\u001b[0;32m     55\u001b[0m \u001b[1;33m\u001b[0m\u001b[0m\n\u001b[0;32m     56\u001b[0m     \u001b[1;32mdef\u001b[0m \u001b[0m__call__\u001b[0m\u001b[1;33m(\u001b[0m\u001b[0mself\u001b[0m\u001b[1;33m,\u001b[0m \u001b[0mx\u001b[0m\u001b[1;33m)\u001b[0m\u001b[1;33m:\u001b[0m\u001b[1;33m\u001b[0m\u001b[1;33m\u001b[0m\u001b[0m\n",
      "\u001b[1;32m~\\anaconda3\\lib\\site-packages\\scipy\\interpolate\\polyint.py\u001b[0m in \u001b[0;36m_set_yi\u001b[1;34m(self, yi, xi, axis)\u001b[0m\n\u001b[0;32m    122\u001b[0m             \u001b[0mshape\u001b[0m \u001b[1;33m=\u001b[0m \u001b[1;33m(\u001b[0m\u001b[1;36m1\u001b[0m\u001b[1;33m,\u001b[0m\u001b[1;33m)\u001b[0m\u001b[1;33m\u001b[0m\u001b[1;33m\u001b[0m\u001b[0m\n\u001b[0;32m    123\u001b[0m         \u001b[1;32mif\u001b[0m \u001b[0mxi\u001b[0m \u001b[1;32mis\u001b[0m \u001b[1;32mnot\u001b[0m \u001b[1;32mNone\u001b[0m \u001b[1;32mand\u001b[0m \u001b[0mshape\u001b[0m\u001b[1;33m[\u001b[0m\u001b[0maxis\u001b[0m\u001b[1;33m]\u001b[0m \u001b[1;33m!=\u001b[0m \u001b[0mlen\u001b[0m\u001b[1;33m(\u001b[0m\u001b[0mxi\u001b[0m\u001b[1;33m)\u001b[0m\u001b[1;33m:\u001b[0m\u001b[1;33m\u001b[0m\u001b[1;33m\u001b[0m\u001b[0m\n\u001b[1;32m--> 124\u001b[1;33m             raise ValueError(\"x and y arrays must be equal in length along \"\n\u001b[0m\u001b[0;32m    125\u001b[0m                              \"interpolation axis.\")\n\u001b[0;32m    126\u001b[0m \u001b[1;33m\u001b[0m\u001b[0m\n",
      "\u001b[1;31mValueError\u001b[0m: x and y arrays must be equal in length along interpolation axis."
     ]
    }
   ],
   "source": [
    "import numpy as np\n",
    "import matplotlib.pyplot as plt\n",
    "from scipy import interpolate\n",
    "\n",
    "## Initialization of the coefficients\n",
    "## Replace each value with the correct one\n",
    "alpha_resist = 0\n",
    "beta_resist = 0 \n",
    "alpha_LOR = 0\n",
    "beta_LOR = 0\n",
    "\n",
    "## Initialization of the rotation speeds arrays (both arrays can have different lengths)\n",
    "## You can choose 5 different rotation speeds as a starting point. \n",
    "## For the moment, both arrays are filled with 0. The datasheet of each resist can be useful to have\n",
    "## an idea about the \"standard\" rotation speeds\n",
    "omega_resist = np.zeros(5)\n",
    "omega_LOR = np.zeros(5)\n",
    "\n",
    "## Implementation of the equations linking the thickness t_resist and t_LOR with their respective alpha and beta\n",
    "## NB : x^a can be expressed as x**a in Python\n",
    "t_resist = 0\n",
    "t_LOR = 0\n",
    "\n",
    "## Interpolation of the functions defined previously\n",
    "interp_resist = interpolate.interp1d(omega_resist,t_resist)\n",
    "interp_LOR = interpolate.interp1d(omega_LOR,t_LOR)\n",
    "\n",
    "## Display the tickness values at the selected speeds on the plots and display each curve\n",
    "for i,j in zip(omega_resist, t_resist):\n",
    "    plt.text(i, j, round(float(j),2))\n",
    "\n",
    "plt.title('Main resist thickness/rotation speed curve')\n",
    "plt.plot(omega_resist, interp_resist(omega_resist), 'o', omega_resist, t_resist)\n",
    "plt.ylabel('Rotation speed [rpm]')\n",
    "plt.ylabel('Thickness [um]')\n",
    "plt.show()\n",
    "for i,j in zip(omega_LOR, t_LOR):\n",
    "    plt.text(i, j, round(float(j),2))\n",
    "plt.title('LOR resist thickness/rotation speed curve')\n",
    "plt.plot(omega_LOR, interp_LOR(omega_LOR), 'o', omega_LOR, t_LOR)\n",
    "plt.ylabel('Rotation speed [rpm]')\n",
    "plt.ylabel('Thickness [um]')\n",
    "plt.show()\n"
   ]
  },
  {
   "cell_type": "markdown",
   "id": "99556769-7a7d-46b7-90c2-5af2d7436643",
   "metadata": {},
   "source": [
    "Based on the plot above, what rpm would you choose ?\n"
   ]
  },
  {
   "cell_type": "code",
   "execution_count": 4,
   "id": "db6ea837-7938-4747-bc96-ce7d42e77be9",
   "metadata": {},
   "outputs": [],
   "source": [
    "omega_resist = 2000\n",
    "omega_LOR = 1000"
   ]
  },
  {
   "cell_type": "markdown",
   "id": "d4e7221a-f866-4c15-bffe-c8ec620c2787",
   "metadata": {},
   "source": [
    "Executing the next cell will allow you to have a visual feedback of xour sample, based on your rotation speeds :"
   ]
  },
  {
   "cell_type": "code",
   "execution_count": 7,
   "id": "156c6f26-3f3a-4233-84b5-43a0f51429c6",
   "metadata": {},
   "outputs": [
    {
     "data": {
      "application/vnd.jupyter.widget-view+json": {
       "model_id": "3b4b25a710b94c0e9fd32aa80f95c506",
       "version_major": 2,
       "version_minor": 0
      },
      "text/plain": [
       "Canvas()"
      ]
     },
     "execution_count": 7,
     "metadata": {},
     "output_type": "execute_result"
    }
   ],
   "source": [
    "from ipycanvas import Canvas\n",
    "#creation of the substrate\n",
    "canvas = Canvas(size=(500, 500))\n",
    "canvas.fill_text('Si wafer', 580, 130)\n",
    "canvas.fill_text('Oxidation layer ~2um', 580, 95)\n",
    "height_LOR = round(alpha_LOR*(omega_LOR**-beta_LOR),2)\n",
    "height_resist = round(alpha_resist*(omega_resist**-beta_resist),2)\n",
    "\n",
    "canvas.fill_text('Lift-off resist ' + str(height_LOR) + ' um', 580, 85- 10*alpha_LOR*(omega_LOR**-beta_LOR))\n",
    "canvas.fill_text('Main resist ' + str(height_resist) + ' um', 580, 65- 10*alpha_LOR*(omega_LOR**-beta_LOR))\n",
    "canvas.stroke_style = 'black'\n",
    "canvas.fill_rect(350, 100, 200, 50) #x, y, width, height\n",
    "canvas.stroke_rect(350, 100, 200, 50)\n",
    "\n",
    "\n",
    "#creation of the oxide layer\n",
    "canvas.fill_style = '#d3d3d3'\n",
    "canvas.stroke_style = '#d3d3d3'\n",
    "canvas.fill_rect(350, 78, 200, 22) #x, y, width, height\n",
    "canvas.stroke_rect(350, 78, 200, 22)\n",
    "\n",
    "\n",
    "#creation of the LOR resist in function of the thickness that has been deposited\n",
    "canvas.stroke_style = 'black'\n",
    "canvas.fill_style = 'rgb(130, 200, 130)'  # Slightly more intense green fill color\n",
    "canvas.stroke_style = 'rgb(130, 200, 130)'  # Slightly more intense green stroke color\n",
    "\n",
    "\n",
    "canvas.fill_rect(350, 78- 10*alpha_LOR*(omega_LOR**-beta_LOR), 200,  10*alpha_LOR*(omega_LOR**-beta_LOR)) #x, y, width, height\n",
    "canvas.stroke_rect(350,950, 200, 50)\n",
    "\n",
    "#creation of the main resist in function of the thickness that has been deposited\n",
    "canvas.fill_style = 'rgb(130, 160, 200)'  # Slightly darker blue fill color\n",
    "canvas.stroke_style = 'rgb(130, 160, 200)'  # Slightly darker blue stroke color\n",
    "\n",
    "canvas.fill_rect(350, 78- 10*alpha_resist*(omega_resist**-beta_resist)-10*alpha_LOR*(omega_LOR**-beta_LOR), 200,  10*alpha_resist*(omega_resist**-beta_resist)) #x, y, width, height\n",
    "canvas.stroke_rect(350,950, 200, 50)\n",
    "\n",
    "\n",
    "\n",
    "#display the result\n",
    "canvas"
   ]
  }
 ],
 "metadata": {
  "kernelspec": {
   "display_name": "Python 3",
   "language": "python",
   "name": "python3"
  },
  "language_info": {
   "codemirror_mode": {
    "name": "ipython",
    "version": 3
   },
   "file_extension": ".py",
   "mimetype": "text/x-python",
   "name": "python",
   "nbconvert_exporter": "python",
   "pygments_lexer": "ipython3",
   "version": "3.8.8"
  }
 },
 "nbformat": 4,
 "nbformat_minor": 5
}
