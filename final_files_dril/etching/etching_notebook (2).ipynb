{
 "cells": [
  {
   "cell_type": "markdown",
   "id": "f448d816-f002-4892-8ce8-f0808090b505",
   "metadata": {},
   "source": [
    "# __Etching Notebook__"
   ]
  },
  {
   "cell_type": "code",
   "execution_count": null,
   "id": "9919ebbb-0a07-4190-abcc-1ad5f6778fe0",
   "metadata": {},
   "outputs": [],
   "source": [
    "# RUN THIS CELL\n",
    "from IPython.display import YouTubeVideo, display, HTML\n",
    "import matplotlib.pyplot as plt\n",
    "import matplotlib.patches as patches\n",
    "from matplotlib.animation import FuncAnimation\n",
    "import pandas as pd\n",
    "import numpy as np\n",
    "from scipy.interpolate import griddata, interp1d\n",
    "from matplotlib import cm\n",
    "from base64 import b64encode"
   ]
  },
  {
   "cell_type": "markdown",
   "id": "a6198de5-f400-4821-be40-ff446928780c",
   "metadata": {},
   "source": [
    "__Etching is used in microfabrication to chemically remove layers from the surface of a wafer during manufacturing.__ Part of the wafers are covered by a \"mask\" which is a layer which has different reacting proprieties to the etchant (generally it reacts a lot less), but it also needs to be easily patternable as it will  transfer its shape when the etching is done. Often this mask is a material which can be easily patternable with another process like photolithography for photoresist masks.\n",
    "<br>\n",
    "The __selectivity__ is the ratio of the etching rate of the layer against the one of the mask: $selectivity = \\frac{etch\\_rate_{layer}}{etch\\_rate_{mask}}$. _When it is equal to one it means both get etched at the same time, if it is equal to 10 it means the layer gets etched 10 times faster._ It is a crucial parameter as it allows to _amplify_ patterns that needs to be transfered with high resolution.\n",
    "<br>\n",
    "There are two types of etching:\n",
    "#### * _Wet etching:_\n",
    "The substrat is placed in a liquid bath for removing the layer. It is based on the chemical reaction, the reaction depends on the layer that needs to be removed. Here are a  few examples: $Au$ etching with iodine chemistery ($Au + 2I^- → AuI2^- + 𝑒^-$), $SiO_2$ with $HF$ chemistery $SiO_2 + 6HF → H_2 SiF_6 + 2H_2O$, $Cr$ etching ($KMnO_4 + Na_3PO_4$). These examples shows you already the complexity and the diversity of possible reactions. \n",
    "<br>\n",
    "The etching can change depending on the nature of the etchant and on the cristalline structure of the etched layer:\n",
    "* _Anisotropic etching:_ in this case the material gets etch with the same rate in every direction. It results in rounded shapes and underetching of the mask.\n",
    "\n",
    "* _Isotropic etching:_ in this case the ethching rate depends on the cristraline structure of the material as \"atoms in certain planes are more bound than in other planes and is hence a direct consequence of the single-crystallinity\". It will result in etching planes and no under etching of the mask. \n",
    "\n",
    "<br>\n",
    "\n",
    "For instance an acidic baths etch Si in an isotropic way while an alkaline baths result in anisotropic etching.\n",
    "<br>\n",
    "Wet etching is somewhat outdated in production but proves to have some solid applications for some process. Also some materials are well etched with wet etched but not with dry processes. For instance wet etching is extensively used for cleaning of a substrat with the so called pihrana process. It can also be very usefull to release structured by using the triple point of the etchant to avoid capillary forces to destroy the resulting structure.\n",
    "It can also be used for cleaning steps or to release structures \n",
    "\n",
    "#### * _Dry etching:_\n",
    "Again a mask is used to protect the layer. However dry etching happends in a plasma environement where many different reactions of different type happend at the same time. As a result the mask gets etched a lot more than in wet etching where it was simply nescessary to find a chemical spicy which doesn't react with the etchant. \n",
    "<br> In dry etching, molecules in the gas (=dry) phase, typically in the 0.1-100 mbar pressure range react with the layer to remove it. An inert gas is brought to a plasma phase where it becomes highly reactive. As for wet etching the gas will depend on the material which needs to be etched.\n",
    "<br> Fluorine chemistery, is one of the basis chemistery for dry etching as it can be an inert gas but becomes a reactive gas when in a plasma:\n",
    "<br>\n",
    "$CF_4 + 𝑒^- → CF_3^+ + F + 2𝑒^- $ and $CF_4 + 𝑒^- → CF_3 + F + 𝑒^- $. \n",
    "<br> For instance it can be used for the isotropic etch of the Si: $Si(s) +4F(g) → Si_3F_4(g)$"
   ]
  },
  {
   "cell_type": "code",
   "execution_count": null,
   "id": "f3ac2463-2788-4586-be53-19488603f7ad",
   "metadata": {},
   "outputs": [],
   "source": [
    "mp4 = open('etching_clip.mp4','rb').read()\n",
    "data_url = \"data:video/mp4;base64,\" + b64encode(mp4).decode()\n",
    "HTML(\"\"\"\n",
    "<video width=1000 controls>\n",
    "      <source src=\"%s\" type=\"video/mp4\">\n",
    "</video>\n",
    "\"\"\" % data_url)"
   ]
  },
  {
   "cell_type": "markdown",
   "id": "386ba856-4757-4c16-997c-3ac6a22a1426",
   "metadata": {},
   "source": [
    "_In the first part of the video you see a plasma etching process through the windows of the machine. The cycles of the glow show the cycle of the gas flow in the machine. In the second part it is a wet etching. In the wet etching, the protection equipment is highlighted as these processes require to manipulate dangerous fluids._"
   ]
  },
  {
   "cell_type": "markdown",
   "id": "71daf5d2-60d1-49c5-8d32-db663d4bce06",
   "metadata": {},
   "source": [
    "## Geometry of the etching\n",
    "\n",
    "The following code allows you to visualise the cross section during an etching process. Theses visualizations are here to help you understand the three types of etching profile. Keep in mind that they are general cases and in reality the resulting profiles are more complexe as displayed in the class.\n",
    "<br>\n",
    "The first case is pure isotropic etching (use __case = 1__)\n",
    "<br>\n",
    "The second case is crystallographic etching (use __case = 2__)\n",
    "<br>\n",
    "The third case is anisotropic etching (use __case = 3__)\n",
    "<br>\n",
    "For the anisotropic etching you can also play with the value of the under `etch coefficient`."
   ]
  },
  {
   "cell_type": "code",
   "execution_count": null,
   "id": "e5cd4a77-d66c-47bd-8449-ac92f32a6aff",
   "metadata": {},
   "outputs": [],
   "source": [
    "#select the case value\n",
    "case = 3\n",
    "underetch_coeff = 0.1  # keep the value between 0 and 0.5 "
   ]
  },
  {
   "cell_type": "code",
   "execution_count": null,
   "id": "7c27b6b2-c480-4412-b856-14c7788773ed",
   "metadata": {},
   "outputs": [],
   "source": [
    "%matplotlib widget\n",
    "\n",
    "Si_thickness = 1\n",
    "resist_thickness = 0.1\n",
    "y_lim = 1.5\n",
    "x_lim = 4\n",
    "fig, ax = plt.subplots(figsize=(12, 6))\n",
    "y = np.linspace(0, 0.3, 30)\n",
    "\n",
    "if case == 1:\n",
    "# Set up the plot elements\n",
    "    #silicon\n",
    "    silicon = plt.Rectangle((0, 0), x_lim, Si_thickness, color='darkblue', label='Silicon')\n",
    "    ax.add_patch(silicon)\n",
    "\n",
    "    #resist on top the the silicon\n",
    "    resist_1 = plt.Rectangle((0, Si_thickness), 1, resist_thickness, color='red', label='Mask')\n",
    "    resist_2 = plt.Rectangle((1.5, Si_thickness), 1, resist_thickness, color='red')\n",
    "    resist_3 = plt.Rectangle((3, Si_thickness), 1, resist_thickness, color='red')\n",
    "    ax.add_patch(resist_1)\n",
    "    ax.add_patch(resist_2)\n",
    "    ax.add_patch(resist_3)\n",
    "    #1st trench\n",
    "    trench_1 = plt.Rectangle((1, Si_thickness), 0.5, 0, color='white')\n",
    "    wedge_1_l = mpatches.Wedge((1.01, 1), 0.1, 180, 270,color='white', ec=\"none\")\n",
    "    wedge_1_r = mpatches.Wedge((1.5, 1), 0.1, 270, 0,color='white', ec=\"none\")\n",
    "    ax.add_patch(trench_1)\n",
    "    ax.add_patch(wedge_1_l)\n",
    "    ax.add_patch(wedge_1_r)\n",
    "    #2nd trench\n",
    "    trench_2 = plt.Rectangle((2.5, Si_thickness), 0.5, 0, color='white')\n",
    "    wedge_2_l = mpatches.Wedge((2.5, 1), 0.1, 180, 270,color='white', ec=\"none\")\n",
    "    wedge_2_r = mpatches.Wedge((3, 1), 0.1, 270, 0,color='white', ec=\"none\")\n",
    "    ax.add_patch(trench_2)\n",
    "    ax.add_patch(wedge_2_l)\n",
    "    ax.add_patch(wedge_2_r)\n",
    "\n",
    "else:\n",
    "    x1 = [1,1,1.5,1.5]\n",
    "    y1 = [1,1,1,1]\n",
    "    x2 = [2.5,2.5,3,3]\n",
    "    y2 = [1,1,1,1]\n",
    "\n",
    "    silicon = plt.Rectangle((0, 0), x_lim, Si_thickness, color='darkblue', label='Silicon')\n",
    "    resist_1 = plt.Rectangle((0, Si_thickness), 0.99, resist_thickness, color='red', label='mask')\n",
    "    resist_2 = plt.Rectangle((1.5, Si_thickness), 1, resist_thickness, color='red')\n",
    "    resist_3 = plt.Rectangle((3, Si_thickness), 1, resist_thickness, color='red')\n",
    "    trench_1 = patches.Polygon(xy=list(zip(x1,y1)), fill=True,color = 'white')\n",
    "    trench_2 = patches.Polygon(xy=list(zip(x2,y2)), fill=True,color = 'white')\n",
    "\n",
    "\n",
    "    ax.add_patch(silicon)\n",
    "    ax.add_patch(resist_1)\n",
    "    ax.add_patch(resist_2)\n",
    "    ax.add_patch(resist_3)\n",
    "    ax.add_patch(trench_1)\n",
    "    ax.add_patch(trench_2)\n",
    "\n",
    "    \n",
    "# Set up the axes and labels\n",
    "ax.set_xlim(0, x_lim)\n",
    "ax.set_ylim(0, y_lim)\n",
    "ax.axhline(y= Si_thickness, color='gray', linestyle='--', linewidth=1, label='Original Si height')\n",
    "ax.legend()\n",
    "\n",
    "    # Add title to the plot\n",
    "title = ax.set_title('Title')\n",
    "title.set_position([.5, 1.1]) # Adjust position of the title\n",
    "title.set_fontsize(10) # Adjust font size of the title\n",
    "\n",
    "def update(frame):\n",
    "    etching_depth = y[frame]\n",
    "    underetch = etching_depth * underetch_coeff  # Calculate underetching based on etching_depth\n",
    "\n",
    "    silicon_height = Si_thickness - etching_depth  # Calculate remaining silicon height\n",
    "    \n",
    "    if case == 1:\n",
    "        trench_1.set_height(etching_depth)\n",
    "        wedge_1_l.set_radius(etching_depth)\n",
    "        wedge_1_r.set_radius(etching_depth)\n",
    "        wedge_2_l.set_radius(etching_depth)\n",
    "        wedge_2_r.set_radius(etching_depth)\n",
    "        trench_2.set_height(etching_depth)\n",
    "        trench_1.set_y(silicon_height)  # Adjust downward oxide layer position\n",
    "        trench_2.set_y(silicon_height)  # Adjust downward oxide layer position\n",
    "\n",
    "    elif case == 2:\n",
    "        # Update the trapezoid vertices\n",
    "        x1 = [1, 1+ underetch, 1.5-underetch, 1.5 ]\n",
    "        y1 = [1,silicon_height,silicon_height,1] \n",
    "        x2 = [2.5, 2.5+underetch, 3- underetch, 3 ]\n",
    "        y2 = [1,silicon_height,silicon_height,1] \n",
    "        # Update the trapezoids\n",
    "        trench_1.set_xy(list(zip(x1, y1)))\n",
    "        trench_2.set_xy(list(zip(x2, y2)))\n",
    "    elif case ==3:\n",
    "            # Update the trapezoid vertices\n",
    "        x1 = [1-underetch, 1, 1.5, 1.5 + underetch]\n",
    "        y1 = [1,silicon_height,silicon_height,1] \n",
    "        x2 = [2.5-underetch, 2.5, 3, 3 + underetch]\n",
    "        y2 = [1,silicon_height,silicon_height,1] \n",
    "        # Update the trapezoids\n",
    "        trench_1.set_xy(list(zip(x1, y1)))\n",
    "        trench_2.set_xy(list(zip(x2, y2)))\n",
    "\n",
    "    ax.set_ylim(0,y_lim)\n",
    "\n",
    "ani = FuncAnimation(fig, update, frames=len(y), interval=100, repeat=False)\n",
    "\n",
    "plt.close()\n",
    "# Display the animation in JupyterLab\n",
    "html_code = ani.to_jshtml()\n",
    "centered_html = f'<div style=\"display: flex; justify-content: center;\">{html_code}</div>'\n",
    "display(HTML(centered_html))"
   ]
  },
  {
   "cell_type": "markdown",
   "id": "c6fac515-9687-4a10-9d54-5b7230f40a4f",
   "metadata": {},
   "source": [
    "### Note about the plot\n",
    "* Keep in mind that this is a simple illustration to understand the anisotropy of dry etching processes. If the underetch coefficient is too large the above structure will bend and eventually collapse. Also in normal cases the mask also gets etched (which is why the selectivity factor is important). Refer to the course on oxidation for more details as these special cases are dominant in certain processes."
   ]
  },
  {
   "cell_type": "markdown",
   "id": "883573dd-12cb-437f-aa80-7a348259952b",
   "metadata": {
    "tags": []
   },
   "source": [
    "# Exercice: Data analysis of an etching process\n",
    "\n",
    " Etching is a very empirical science as it depends on the etched material but also includes plasma physics. As such most of the process are mainly studied empirically. The etching parameters will influence many parameters on the surface:\n",
    "* __Etch rate__ of each of the etched elements (be careful to consider both the etched and mask material which don't evolve at the same rate and result in the selectivity of the process. You want it to be in the right range to well control the depth of etch. If the etch rate is too fast you will loose precision, if it is too slow then it can be a limiting step in your process.\n",
    "* The __selectivity__ which is the ratio of the etch rate of your under layer/mask etch rate. It allows to transfer deep pattern in structures. It is a commonly used in many standard processes like the Bosch process which take advantage of it.\n",
    "* The __polymerization point__, when you reach it the etching process doesn't etch anymore but end up only depositing polymer on the surface. It is a critical point because when you are close to it you can achieve very high selectivity but keep in mind it might also result in some residual polimerization on your surface. Once you pass that point you are only going to deposit polymers on your surface.\n",
    "* __Roughness__ of the surface. The more you augment the bias and the more you augment the ICP power will lead to a high directionnality and speed of ion. This will result in a strong physical etch and a poor roughness due to the bombardment of ions.\n",
    "* __Directionnality__ is controlable with the bias power. It accelerate the ions and lead to a greater directionnality of the flux. Thus low bias might lead to some underetch.\n",
    "\n",
    "__In the following exercice you will do a data analysis of etching data. Some of the data is missing and you need it for your process. With the help of python you will study the data you have and generate new data to find the missing data for your process. This exercice is very common in any data driven project where you will only have part of the data accessible or some missing/corrupted data.__\n",
    "\n",
    "__Context:__ You are studing the etching of an SiO2 with a photoresist mask on top of it. A shape has been patterned in the photoresist and you want to transfer this shape to the SiO2. The mask covers the area where you want to have the SiO2 to be unaffected and is opened where you want to reduce the thickness of SiO2. \n",
    "To perform this etching you are using the [SPTS Advanced Plasma System (APS)](https://www.epfl.ch/research/facilities/cmi/equipment/etching/spts-aps/) module which is an ICP-based high density plasma source. This system was optimized for etching dielectrics (e.g. SiO2, SixNy, SiC, Al2O3, glass types…) which are usually difficult to etch using conventional RIE or ICP sources.\n",
    "etching of SiO2 with PR mask.\n",
    "\n",
    "_Keep in mind that any change in the parameters (etched material, mask material, machine or process used) will result in different result. However the impact of the coefficient with one another and on the process will be the same, just the values will change._\n",
    "\n"
   ]
  },
  {
   "cell_type": "markdown",
   "id": "990eb173-06d0-4597-bf65-feb27b0902a0",
   "metadata": {},
   "source": [
    "## 1st step: data download and cleaning\n",
    "\n",
    "### Data download and first visualization\n",
    "\n",
    "Your first task is to download the dataset stored in a csv file `etch_data.csv`. It contains different data about the etching process. Have a first visualization of it"
   ]
  },
  {
   "cell_type": "code",
   "execution_count": null,
   "id": "6d26c807-1dc0-4f01-a1a7-d8cc4ed38088",
   "metadata": {},
   "outputs": [],
   "source": [
    "data = pd.read_csv(\"etching_data.csv\")"
   ]
  },
  {
   "cell_type": "markdown",
   "id": "e213fa42-17c2-4d75-a339-05b5f2535c0c",
   "metadata": {},
   "source": [
    "A common first step is to check the columns of the dataframe you can use the `df.head()`to see the top of it and the `df.tail()` to see the end. "
   ]
  },
  {
   "cell_type": "code",
   "execution_count": null,
   "id": "a67eca8b-9a2a-4da8-8b34-0a9167e35f80",
   "metadata": {},
   "outputs": [],
   "source": [
    "data.head()"
   ]
  },
  {
   "cell_type": "markdown",
   "id": "5c5b9cf9-6e6b-4adc-b533-cdacffdc4b75",
   "metadata": {},
   "source": [
    "_In the table the etching rate are in nanometer per seconds_.\n",
    "<br>\n",
    "If you want to access to the data in a column you can acces it this way `df['column_name']`. Here is a link to other [basic operations for dataframe](https://www.studytonight.com/pandas/basic-operations-on-pandas-dataframe) if you are interested. Now you can directly apply operations on this dataframe of on a subset of it (column, row, single element). Common operations are `mean()`, `std()`, `sum()`, `max()`... you can find more [advanced operations](https://pandas.pydata.org/Pandas_Cheat_Sheet.pdf) there especially in the _summarize data, handling missing data and subset operation/variable_ sections which contains the functions you will use after.\n",
    "<br>\n",
    "For instance now try to find the mean, max and minimum values of the ICP power."
   ]
  },
  {
   "cell_type": "code",
   "execution_count": null,
   "id": "033adba0-b2c0-40af-8076-9d2162111cb7",
   "metadata": {},
   "outputs": [],
   "source": [
    "data['Pressure [mT]']"
   ]
  },
  {
   "cell_type": "markdown",
   "id": "6a38732d-52a0-498a-96dc-f90c0f07ca7c",
   "metadata": {},
   "source": [
    "These basic operations will be at the heart of all of the more complex operations you will do with pandas."
   ]
  },
  {
   "cell_type": "markdown",
   "id": "7673f873-acce-4873-9460-8c1436fbe55f",
   "metadata": {},
   "source": [
    "## Pre-processing of the data\n",
    " \n",
    "This will be a standard procedure in all of your future work with any database. In you cases you are looking for any `NaN` values (generaly missing data or wrong type which lead to an error in the saved file). Concerning the rest of your data consider the range of values or the values your data shouldn't have. Corrupted data can ruin your data analysis if you forget to consider them."
   ]
  },
  {
   "cell_type": "code",
   "execution_count": null,
   "id": "3f7d031f-75ee-45c5-9491-4f4f6cc7af23",
   "metadata": {},
   "outputs": [],
   "source": [
    "# Check for NaN values in the data\n",
    "print(\"Number of NaN values in the dataset:\")\n",
    "print(data.isna().sum())\n",
    "\n",
    "# Check for aberrations in Pressure, ICP Power, and Bias columns\n",
    "print(\"\\nPressure column aberrations:\")\n",
    "print(data[data['Pressure [mT]'] < 0])\n",
    "\n",
    "print(\"\\nICP Power column aberrations:\")\n",
    "print(data[data['ICP [W]'] < 0])\n",
    "\n",
    "print(\"\\nBias column aberrations:\")\n",
    "print(data[(data['Bias [W]'] < 0) | (data['Bias [W]'] > 100)])"
   ]
  },
  {
   "cell_type": "markdown",
   "id": "66ff1b76-551b-42f8-8a0b-71bd94343e7a",
   "metadata": {},
   "source": [
    "Now that you have seen how to do basic manipulations of the dataframe drop the columns which contains any NaN or aberation"
   ]
  },
  {
   "cell_type": "code",
   "execution_count": null,
   "id": "89a8cf77-4191-4a4d-b87c-e032deb435d0",
   "metadata": {},
   "outputs": [],
   "source": [
    "# Code to remove any row where the value of selected_column isn't in the range\n",
    "min_value = 5\n",
    "max_value = 10\n",
    "column = 'Pressure [mT]'\n",
    "df = data[(data[column] >= min_value) & (data[column] <= max_value)]\n",
    "df"
   ]
  },
  {
   "cell_type": "markdown",
   "id": "d0c6e8ae-4b3e-4818-bea6-74f266413775",
   "metadata": {},
   "source": [
    "Now eliminate all of the aberation and NaN values which contaminate your data"
   ]
  },
  {
   "cell_type": "code",
   "execution_count": null,
   "id": "29305e9f-e23e-433b-99a3-aac37b36b1f0",
   "metadata": {},
   "outputs": [],
   "source": []
  },
  {
   "cell_type": "markdown",
   "id": "da0e3184-5316-41f3-aae9-868d8cf41fec",
   "metadata": {},
   "source": [
    "__By now your data should be clean and ready to be analysed__"
   ]
  },
  {
   "cell_type": "markdown",
   "id": "55374376-5af5-43f4-8189-12779b27e164",
   "metadata": {},
   "source": [
    "## Step 2 data analysis of the parameters\n",
    "\n",
    "In this section you will use your different techniques to analyse your current data. Your goal is to understand the effect of the different parameters of the dry etch to select the one you need for your needs.\n",
    "<br> \n",
    "Regression and interpolation will be your best tools in these task. First visualize the different interaction of each one parameters with one another. Some visualization technique might not give the prediction but allow to visualize maximum value or minimum value regions easily (`nearest method`).\n",
    "<br>\n",
    "From the code, plot new parameters to identify the region of work you want to have to maximize the selectivity. You are also encouraged to create new columns from the `data` dataframe. "
   ]
  },
  {
   "cell_type": "code",
   "execution_count": null,
   "id": "808a7322-77cb-4873-9694-076a50567a36",
   "metadata": {},
   "outputs": [],
   "source": [
    "%matplotlib widget\n",
    "\n",
    "\n",
    "# Function to plot a heatmap using different interpolation methods\n",
    "def plot_heatmap(x, y, z, title, method):\n",
    "    xi = np.linspace(x.min(), x.max(), 100)\n",
    "    yi = np.linspace(y.min(), y.max(), 100)\n",
    "    zi = griddata((x, y), z, (xi[None, :], yi[:, None]), method=method)\n",
    "    \n",
    "    plt.figure()\n",
    "    plt.contourf(xi, yi, zi, 15, cmap=plt.cm.rainbow)\n",
    "    plt.colorbar()\n",
    "    plt.scatter(x, y, c=z, cmap=plt.cm.rainbow, edgecolors='k')\n",
    "    plt.xlabel('ICP Power [W]')\n",
    "    plt.ylabel('Bias [W]')\n",
    "    plt.title(f'{title} (Interpolation Method: {method.capitalize()})')\n",
    "    plt.show()\n",
    "\n",
    "plot_data = data.dropna()\n",
    "\n",
    "#------------------------------------------------------------------------\n",
    "#------------------------------------------------------------------------\n",
    "#CHANGE THIS CODE TO BETTER EXPLORE THE DATA\n",
    "\n",
    "x = plot_data['ICP [W]']\n",
    "y = plot_data['Bias [W]']\n",
    "\n",
    "# Plot heatmaps for SiO2 etch rate with different interpolation methods\n",
    "z1 = plot_data['SiO2 etch rate']\n",
    "for method in ['linear', 'nearest', 'cubic']:\n",
    "    plot_heatmap(x, y, z1, 'SiO2 Etch Rate', method)\n",
    "    \n",
    "#------------------------------------------------------------------------\n",
    "#------------------------------------------------------------------------"
   ]
  },
  {
   "cell_type": "markdown",
   "id": "08b8c72b-aa1f-409f-b917-cca1ad74e3c9",
   "metadata": {},
   "source": [
    "Now that you have studied the data you have found which parameters are important to determine the different output of the etching process. This will allow us to perform regression to find which value to choose for our parameters."
   ]
  },
  {
   "cell_type": "code",
   "execution_count": null,
   "id": "e9195f10-35c4-41d9-8f53-016e45ac8c80",
   "metadata": {},
   "outputs": [],
   "source": [
    "# Assuming data is your DataFrame and it has a 'Bias' column\n",
    "biases = data['ICP [W]'].unique()\n",
    "\n",
    "# Create a colormap for the different bias groups\n",
    "colors = ['red', 'green', 'blue']\n",
    "\n",
    "plt.figure(figsize=(10, 6))\n",
    "\n",
    "for bias, color in zip(biases, colors):\n",
    "    # Extract the data for this bias\n",
    "    subset = data[data['ICP [W]'] == bias]\n",
    "    \n",
    "    # If there are less than 4 points, we skip this bias\n",
    "    if len(subset) < 4:\n",
    "        continue\n",
    "\n",
    "    # Original data points\n",
    "    x_ = subset['Bias [W]']\n",
    "    y_ = subset['Selectivity']\n",
    "\n",
    "    # Check if selectivity is zero and x_ is below a certain value\n",
    "    x_val = 10  # replace this with your specific x value\n",
    "    if np.all(y_ == 0) and np.all(x_ < x_val):\n",
    "        plt.axvspan(x_.min(), x_.max(), color='grey', alpha=0.5)\n",
    "        continue\n",
    "    \n",
    "    # Interpolation function\n",
    "    f = interp1d(x_, y_)\n",
    "\n",
    "    # Interpolated x values\n",
    "    xnew = np.linspace(x_.min(), x_.max(), num=1000, endpoint=True)\n",
    "    \n",
    "    # Plot original points\n",
    "    plt.plot(x_, y_, 'o', color=color, label=f'Bias {bias}')\n",
    "    \n",
    "    # Plot interpolation\n",
    "    plt.plot(xnew, f(xnew), color=color)\n",
    "    \n",
    "plt.legend()\n",
    "plt.show()\n"
   ]
  },
  {
   "cell_type": "markdown",
   "id": "d35d37c3-c7aa-41f1-b3cf-572f5f0663c1",
   "metadata": {},
   "source": [
    "## __This is the end of the etching notebook.__\n",
    "## __Please go back to the main notebook and fill the required data from this section.__"
   ]
  }
 ],
 "metadata": {
  "kernelspec": {
   "display_name": "p3_dash",
   "language": "python",
   "name": "p3_dash"
  },
  "language_info": {
   "codemirror_mode": {
    "name": "ipython",
    "version": 3
   },
   "file_extension": ".py",
   "mimetype": "text/x-python",
   "name": "python",
   "nbconvert_exporter": "python",
   "pygments_lexer": "ipython3",
   "version": "3.8.10"
  }
 },
 "nbformat": 4,
 "nbformat_minor": 5
}
