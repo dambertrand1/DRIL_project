{
 "cells": [
  {
   "cell_type": "markdown",
   "id": "c3e8fec7-4b77-4cc0-8b30-5b1f2ffd680f",
   "metadata": {},
   "source": [
    " # Microfabrication jupyter lab\n",
    " \n",
    "This Notebook covers the MICRO-331 class on microfabrication. It comes as a complement to the MOOC and aims to give an overview of the techniques seen in class and how to use them together in the cleanrooms, in a interactive way.\n",
    "\n",
    "You will explores the different microfabrication techniques to build XXX and how to implement these steps in a ordered way. In microfabrication your blueprint is called a process flow. It is a summary of all the steps you perform in the cleanrooms with the different settings and parameters you use at each step.\n",
    "\n",
    "\n",
    "how to run a cell + correct order,\n",
    "cell code/markdown,\n",
    "restart kernel, \n"
   ]
  },
  {
   "cell_type": "markdown",
   "id": "3238476a-0761-4e97-8c2f-8c4b48369e4e",
   "metadata": {},
   "source": [
    "# Microheater Design\n",
    "\n",
    "Welcome to the exciting field of microdevices! In this exercise, we'll be focusing on a key player in the world of microsystems: the microheater. These crucial microdevices find applications in various sectors including gas sensing, biomedical systems, and electrical and mechanical fields. Microheaters typically consist of thin layers of conductive material structured in certain patterns to maximize their effective surface area. \n",
    "<br>\n",
    "Microheaters are at the core of many biomedical applications, including DNA amplification in devices like PCR (Polymerase Chain Reaction) machines and control of microenvironments in microphysiological systems (organs-on-chips). A high-performance microheater is essential to achieve precise thermal control, rapid thermal cycling, and ensure uniform heat distribution.\n",
    "\n",
    "\n",
    "\n",
    "![Microheater designs](micro-heater.PNG)\n",
    "\n",
    "_From left to right, we see examples of a meander, double spiral, and rectangular shape pattern._\n",
    "\n",
    "## _Task_\n",
    "**In this exercise, you have been assigned the task of designing such a microheater. It's not just any microheater, but one that is 100µm by 100µm in size and capable of achieving an output power density of 10kW.m<sup>-2</sup>, while keeping the current under `x` A. For this mission you will use the meander design from the above image. This ambitious specification is crucial to meet the stringent requirements of the portable diagnostic device and make it a reality.\n",
    "Keep in mind that these constraints should lead all of your choices in the different fabrication steps of the device.**\n",
    "\n",
    "Here's a summary of the key parameters involved in your design:\n",
    "\n",
    "- Track parameters:\n",
    "  - `w`: width of a track (defined by the photolithography)\n",
    "  - `t`: thin film thickness (defined by the thin film deposition step)\n",
    "  - `g`: space between each track (defined by the photolithography)\n",
    " <br>\n",
    "- Global parameters:\n",
    "  - `L`: Length of one track\n",
    "  - `N`: the number of tracks\n",
    "  - `D`: Usable length = 2\\*N\\*(g+w)\n",
    "\n",
    "The resistance of the microheater, `R`, can be calculated using the formula:\n",
    "\n",
    "`R = ρ * l_tot / S`     [Ω]\n",
    "\n",
    "Where :\n",
    "- `S = w * t` : the area of the cross section [m<sup>2</sup>]\n",
    "- `l_tot = 2 * N * L` : the total length of the wire [m]\n",
    "- `ρ` : resistivity of the material [Ω.m<sup>-1</sup>] (defined by the choice of the thin film material)\n",
    "\n",
    "![Microheater designs](meander.JPG)\n",
    "_Schematic illustration of the meander. Not at scale_\n",
    "\n",
    "This assumes you have physically insulated your conductive layer from the silicon wafer. If not, your layer will act as a resistance in parallel, and these calculations won't be valid.\n",
    "\n",
    "The equivalent resistance is calculated as: `$R_eq = ρ * (2 * N * L) / (w * t)$`\n",
    "\n",
    "The power output is given by: `Q = I^2 * R_ep` [W]\n",
    "\n",
    "And finally, the surface power density is given by: `Q_surf = Q / (L * D)`"
   ]
  },
  {
   "cell_type": "markdown",
   "id": "a0f9d44d-42dc-4909-a099-2df34ff4c432",
   "metadata": {},
   "source": [
    "## Process flow exercice\n",
    "\n",
    "With the given constraint of your object (display them again here). You have to build your process flow.\n",
    "\n",
    "Hint : the first step is the oxydation and the last one the lift-off.\n"
   ]
  },
  {
   "cell_type": "code",
   "execution_count": 1,
   "id": "f45d68eb-7778-4d99-ad9d-fb6f2bf8c956",
   "metadata": {},
   "outputs": [],
   "source": [
    "# some handy functions to use along widgets\n",
    "from IPython.display import display, Markdown, clear_output\n",
    "import ipywidgets as widgets\n",
    "from IPython.display import Image\n",
    "import codecs\n",
    "from lib.button import *"
   ]
  },
  {
   "cell_type": "code",
   "execution_count": 2,
   "id": "b3a77478-d114-4f9f-954d-d3da72d9714d",
   "metadata": {},
   "outputs": [
    {
     "data": {
      "application/vnd.jupyter.widget-view+json": {
       "model_id": "58977d78571746c39c1d7ea75f93ca58",
       "version_major": 2,
       "version_minor": 0
      },
      "text/plain": [
       "VBox(children=(Dropdown(description='Process:', options=('photolithography', 'oxydation', 'thin film depositio…"
      ]
     },
     "execution_count": 2,
     "metadata": {},
     "output_type": "execute_result"
    }
   ],
   "source": [
    "process_flow = False      \n",
    "\n",
    "button = widgets.Dropdown(\n",
    "       options=['photolithography','oxydation', 'thin film deposition', 'spin coating (photoresist + lift-off resist)', 'development', 'lift off', 'etching'],\n",
    "       description='Process:')\n",
    "output = widgets.Button(description='Select process')\n",
    "reset = widgets.Button(description='Reset')\n",
    "outt = widgets.Output()\n",
    "output.on_click(on_butt_clicked(button, outt))\n",
    "reset.on_click(reset_button_clicked(button, outt, output))\n",
    "widgets.VBox([button,output,outt, reset])\n"
   ]
  },
  {
   "cell_type": "markdown",
   "id": "87563513-1e4a-4386-b028-c6718add4669",
   "metadata": {
    "tags": []
   },
   "source": [
    "## __This is the end of the introduction if the message \"Process flow validated, well done !\" appears .__\n",
    "## __You can go to the oxydation notebook__\n"
   ]
  }
 ],
 "metadata": {
  "kernelspec": {
   "display_name": "Python 3",
   "language": "python",
   "name": "python3"
  },
  "language_info": {
   "codemirror_mode": {
    "name": "ipython",
    "version": 3
   },
   "file_extension": ".py",
   "mimetype": "text/x-python",
   "name": "python",
   "nbconvert_exporter": "python",
   "pygments_lexer": "ipython3",
   "version": "3.8.8"
  }
 },
 "nbformat": 4,
 "nbformat_minor": 5
}
