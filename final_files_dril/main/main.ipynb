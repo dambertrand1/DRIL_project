{
 "cells": [
  {
   "cell_type": "markdown",
   "id": "c3e8fec7-4b77-4cc0-8b30-5b1f2ffd680f",
   "metadata": {},
   "source": [
    " # Microfabrication jupyter lab\n",
    " \n",
    "This Notebook covers the MICRO-331 class on microfabrication. It comes as a complement to the MOOC and aims to give an overview of the techniques seen in class and how to use them together in the cleanrooms, in a interactive way.\n",
    "\n",
    "You will explores the different microfabrication techniques to build XXX and how to implement these steps in a ordered way. In microfabrication your blueprint is called a process flow. It is a summary of all the steps you perform in the cleanrooms with the different settings and parameters you use at each step.\n",
    "\n",
    "\n",
    "how to run a cell + correct order,\n",
    "cell code/markdown,\n",
    "restart kernel, \n"
   ]
  },
  {
   "cell_type": "markdown",
   "id": "14d33dc2-d582-4a5f-8622-48b0f4b58687",
   "metadata": {},
   "source": [
    "## Presentation of the object\n",
    "Today you will build XXX. Here is what is does (list of applications, images of the object...). Small overview of the constraints : possible material used/ design choke points.\n",
    "\n",
    "1. Heating constraints\n",
    "2. power constraint\n",
    "3. design\n",
    "\n",
    "A demander à Hernan pour le contenu"
   ]
  },
  {
   "cell_type": "markdown",
   "id": "71c805f5-db48-421e-9cf5-76813ab24b82",
   "metadata": {},
   "source": [
    "## Process flow exercice\n",
    "\n",
    "Before exploring each of the steps you need to make a plan (your process flow) in order to plan the different steps you need to perform. This task is essential when working on microfabrication. In this section you will built your own process flow before performing the different steps yourself later on.\n",
    "\n",
    "\n",
    "List of the different steps in the cleanroom (thin film deposition/ Lithography steps/ Etching/ Developpement/ CVD/ Metrology) --> il faut qu'on fasse une hiérarchie des différents procédés pour ensuite les limités à un sous ensemble. With a quick summary."
   ]
  },
  {
   "cell_type": "markdown",
   "id": "8ae4ecf2-77b1-49ad-8b43-01da8b7f594f",
   "metadata": {},
   "source": [
    "#### Exemple of real life process flow\n",
    "\n",
    "give the process flow for two or three small exemples. Detail what the object is and its use to motivate the part. Detail the steps and how they are used together.\n",
    "Display the process flow on the right, maybe use some widget"
   ]
  },
  {
   "cell_type": "markdown",
   "id": "e5e9a87d-2e3b-496c-b982-2450a9cf1c34",
   "metadata": {},
   "source": [
    "#### More complex case process flows with exotic process (optional)\n",
    "\n",
    "Give one or two process flows with exotic process steps and explain why they are used (find exotic process and motivate their use).\n",
    "Display the process flow on the side or as a pdf depending on what we achieve\n"
   ]
  },
  {
   "cell_type": "markdown",
   "id": "a0f9d44d-42dc-4909-a099-2df34ff4c432",
   "metadata": {},
   "source": [
    "## Process flow exercice\n",
    "\n",
    "With the given constraint of your object (display them again here). You have to build your process flow.\n",
    "\n",
    "Hint : the first step is the oxydation and the last one the lift-off.\n"
   ]
  },
  {
   "cell_type": "code",
   "execution_count": 1,
   "id": "f45d68eb-7778-4d99-ad9d-fb6f2bf8c956",
   "metadata": {},
   "outputs": [],
   "source": [
    "# some handy functions to use along widgets\n",
    "from IPython.display import display, Markdown, clear_output\n",
    "import ipywidgets as widgets\n",
    "from IPython.display import Image\n",
    "import codecs\n",
    "from lib.button import *"
   ]
  },
  {
   "cell_type": "code",
   "execution_count": 2,
   "id": "b3a77478-d114-4f9f-954d-d3da72d9714d",
   "metadata": {},
   "outputs": [
    {
     "data": {
      "application/vnd.jupyter.widget-view+json": {
       "model_id": "58977d78571746c39c1d7ea75f93ca58",
       "version_major": 2,
       "version_minor": 0
      },
      "text/plain": [
       "VBox(children=(Dropdown(description='Process:', options=('photolithography', 'oxydation', 'thin film depositio…"
      ]
     },
     "execution_count": 2,
     "metadata": {},
     "output_type": "execute_result"
    }
   ],
   "source": [
    "process_flow = False      \n",
    "\n",
    "button = widgets.Dropdown(\n",
    "       options=['photolithography','oxydation', 'thin film deposition', 'spin coating (photoresist + lift-off resist)', 'development', 'lift off', 'etching'],\n",
    "       description='Process:')\n",
    "output = widgets.Button(description='Select process')\n",
    "reset = widgets.Button(description='Reset')\n",
    "outt = widgets.Output()\n",
    "output.on_click(on_butt_clicked(button, outt))\n",
    "reset.on_click(reset_button_clicked(button, outt, output))\n",
    "widgets.VBox([button,output,outt, reset])\n"
   ]
  },
  {
   "cell_type": "markdown",
   "id": "87563513-1e4a-4386-b028-c6718add4669",
   "metadata": {
    "tags": []
   },
   "source": [
    "## __This is the end of the introduction if the message \"Process flow validated, well done !\" appears .__\n",
    "## __You can go to the oxydation notebook__\n"
   ]
  }
 ],
 "metadata": {
  "kernelspec": {
   "display_name": "Python 3",
   "language": "python",
   "name": "python3"
  },
  "language_info": {
   "codemirror_mode": {
    "name": "ipython",
    "version": 3
   },
   "file_extension": ".py",
   "mimetype": "text/x-python",
   "name": "python",
   "nbconvert_exporter": "python",
   "pygments_lexer": "ipython3",
   "version": "3.8.8"
  }
 },
 "nbformat": 4,
 "nbformat_minor": 5
}
