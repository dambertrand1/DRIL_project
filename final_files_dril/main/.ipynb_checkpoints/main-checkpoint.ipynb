{
 "cells": [
  {
   "cell_type": "markdown",
   "id": "c3e8fec7-4b77-4cc0-8b30-5b1f2ffd680f",
   "metadata": {},
   "source": [
    " # Microfabrication jupyter lab\n",
    " \n",
    "This Notebook covers the MICRO-331 class on microfabrication. It comes as a complement to the MOOC and aims to give an overview of the techniques seen in class and how to use them together in the cleanrooms, in a interactive way.\n",
    "\n",
    "You will explore the different microfabrication techniques to build a microheater and how to implement these steps in a ordered way. In microfabrication, your blueprint is called a process flow. It is a summary of all the steps you perform in the cleanrooms with the different settings and parameters you use at each step.\n"
   ]
  },
  {
   "cell_type": "markdown",
   "id": "3238476a-0761-4e97-8c2f-8c4b48369e4e",
   "metadata": {},
   "source": [
    "# Microheater Design\n",
    "\n",
    "Welcome to the exciting field of microdevices! In this exercise, we'll be focusing on a key player in the world of microsystems : the microheater. These crucial microdevices find applications in various sectors including gas sensing, biomedical systems, and electrical and mechanical fields. Microheaters typically consist of thin layers of conductive material structured in certain patterns to maximize their effective surface area. \n",
    "<br>\n",
    "Microheaters are at the core of many biomedical applications, including DNA amplification in devices like PCR (Polymerase Chain Reaction) machines and control of microenvironments in microphysiological systems (organs-on-chips). A high-performance microheater is essential to achieve precise thermal control, rapid thermal cycling, and ensure uniform heat distribution.\n",
    "\n",
    "\n",
    "\n",
    "![Microheater designs](micro-heater.PNG)\n",
    "\n",
    "_From left to right, we see examples of a meander, double spiral, and rectangular shape pattern._\n",
    "\n",
    "## _Task_\n",
    "**In this exercise, you have been assigned the task of designing such a microheater. It's not just any microheater, but one that is 100µm by 100µm in size and capable of achieving an output power density of 10kW.m<sup>-2</sup>, while keeping the current under 10µA. For this mission you will use the meander design from the above image. This ambitious specification is crucial to meet the stringent requirements of the portable diagnostic device and make it a reality.\n",
    "Keep in mind that these constraints should lead all of your choices in the different fabrication steps of the device.**\n",
    "\n",
    "Here's a summary of the key parameters involved in your design:\n",
    "\n",
    "- Track parameters:\n",
    "  - `w`: width of a track (defined by the __photolithography__)\n",
    "  - `t`: thin film thickness (defined by the __thin film deposition step__)\n",
    "  - `g`: space between each track (defined by the __photolithography__)\n",
    " <br>\n",
    "- Global parameters:\n",
    "  - `L`: Length of one track\n",
    "  - `N`: the number of tracks\n",
    "  - `D`: Usable length = 2\\*N\\*(g+w)\n",
    "  \n",
    "_In this device both L and D will be close to 100µm to take advantage of the whole surface._\n",
    "\n",
    "The resistance of the microheater, `R`, can be calculated using the formula:\n",
    "\n",
    "`R = ρ * l_tot / S`     [Ω]\n",
    " \n",
    "Where :\n",
    "- `S = w * t` : the area of the cross section [m<sup>2</sup>]\n",
    "- `l_tot = 2 * N * L` : the total length of the wire [m]\n",
    "- `ρ` : resistivity of the material [Ω.m<sup>-1</sup>] (defined by the choice of the __thin film material__)\n",
    "\n",
    "![Microheater designs](meander.JPG)\n",
    "\n",
    "_Schematic illustration of the meander. Not at scale_\n",
    "\n",
    "This assumes you have physically insulated your conductive layer from the silicon wafer. If not, your layer will act as a resistance in parallel, and these formulas won't be valid.\n",
    "\n",
    "The equivalent resistance is calculated as: `R_eq = ρ * (2 * N * L) / (w * t)` [Ω]\n",
    "\n",
    "The power output is given by: `Q = I^2 * R_ep` [W]\n",
    "\n",
    "And finally, the surface power density is given by: `Q_surf = Q / (L * D)` [W/m^2]"
   ]
  },
  {
   "cell_type": "markdown",
   "id": "a0f9d44d-42dc-4909-a099-2df34ff4c432",
   "metadata": {},
   "source": [
    "# *Exercice section*\n",
    "\n",
    "* # Meander design\n",
    "Based on the previous explanations, find the correct design values to meet the requirements. \n",
    "This is a first trial and you will update your values through the different steps of the process as you will encounter fabrication constraints.\n",
    "The following code shows you how you can use python as a calculator. \n",
    "<br>\n",
    "Now try different values of variables to try to meet the requirements of the design.\n"
   ]
  },
  {
   "cell_type": "code",
   "execution_count": 12,
   "id": "7a4fd5be-1363-4c0f-b7f2-668314e04be0",
   "metadata": {},
   "outputs": [
    {
     "name": "stdout",
     "output_type": "stream",
     "text": [
      "The design requirements aren't respected. Reduce the pitch, the wire width, or the number of tracks.\n",
      "          The current length used is 0.001\n",
      "          \n"
     ]
    }
   ],
   "source": [
    "# Variables in the design\n",
    "w = 100e-8  #[m]\n",
    "t = 10e-9   #[m]\n",
    "g = w*4     #[m]\n",
    "ρ = 100e-9  #[Ω.m-1]\n",
    "\n",
    "\n",
    "# Fixed valued or constraints\n",
    "L = 100e-6  #[m]\n",
    "N = 200\n",
    "D = L       #[m]\n",
    "I= 10e-6    #[A]\n",
    "\n",
    "# Computation of the resulting density of surface power\n",
    "R_eq = ρ * (2 * N * L) / (w * t)\n",
    "Q = I *I * R_eq\n",
    "Q_surf = Q / (L * D)\n",
    "\n",
    "if ((g+w)*N > D):\n",
    "    print(f\"\"\"The design requirements aren't respected. Reduce the pitch, the wire width, or the number of tracks.\n",
    "          The current length used is {(g + w) * N}\n",
    "          \"\"\")\n",
    "\n",
    "else:\n",
    "    print(f\"{Q_surf: .0f} W\")"
   ]
  },
  {
   "cell_type": "markdown",
   "id": "5ef34d2a-71e9-4021-8f74-99ec8ae57d64",
   "metadata": {},
   "source": [
    "`This first step will help you to have a starting point for the notebooks. Later you will see that some parameters are a lot easier to tune than others`\n",
    "<br>\n",
    "`Keep in mind that some values might not be in practice. For instance if the wire is too small it will fail even with a low current. You always want to aim for the largest possible values in all parameters.`"
   ]
  },
  {
   "cell_type": "markdown",
   "id": "507dd504-9d7f-4862-948b-a99fcd18a8a8",
   "metadata": {},
   "source": [
    "* # Process flow exercice\n",
    "\n",
    "Now you have to make the process flow of the device. In the end you should have a conductive layer which has been patterned (the meander) on top of an insulatory layer. Here, only one solution is considered as correct but note that in practice, different \"paths\" could lead to the same solution.\n",
    "\n",
    "Hint 1 : the first step is the oxydation and the last one the lift-off. \n",
    "\n",
    "Hint 2 : not all the steps need to be used."
   ]
  },
  {
   "cell_type": "code",
   "execution_count": 19,
   "id": "f45d68eb-7778-4d99-ad9d-fb6f2bf8c956",
   "metadata": {},
   "outputs": [],
   "source": [
    "# some handy functions to use along widgets\n",
    "from IPython.display import display, Markdown, clear_output\n",
    "import ipywidgets as widgets\n",
    "from IPython.display import Image\n",
    "import codecs\n",
    "from lib.button import *"
   ]
  },
  {
   "cell_type": "code",
   "execution_count": 20,
   "id": "b3a77478-d114-4f9f-954d-d3da72d9714d",
   "metadata": {},
   "outputs": [
    {
     "data": {
      "application/vnd.jupyter.widget-view+json": {
       "model_id": "75b1133cf1b7486bbc4696283e8a33a4",
       "version_major": 2,
       "version_minor": 0
      },
      "text/plain": [
       "VBox(children=(Dropdown(description='Process:', options=('exposure', 'oxydation', 'thin film deposition', 'spi…"
      ]
     },
     "execution_count": 20,
     "metadata": {},
     "output_type": "execute_result"
    }
   ],
   "source": [
    "process_flow = False      \n",
    "\n",
    "button = widgets.Dropdown(\n",
    "       options=['exposure','oxidation', 'thin film deposition', 'spin coating (photoresist + lift-off resist)', 'development', 'lift off', 'etching'],\n",
    "       description='Process:')\n",
    "output = widgets.Button(description='Select process')\n",
    "reset = widgets.Button(description='Reset')\n",
    "outt = widgets.Output()\n",
    "output.on_click(on_butt_clicked(button, outt))\n",
    "reset.on_click(reset_button_clicked(button, outt, output))\n",
    "widgets.VBox([button,output,outt, reset])\n"
   ]
  },
  {
   "cell_type": "markdown",
   "id": "87563513-1e4a-4386-b028-c6718add4669",
   "metadata": {
    "tags": []
   },
   "source": [
    "## __This is the end of the introduction if the message \"Process flow validated, well done !\" appears .__\n",
    "## __You can go to the notebook of the first step from your process flow__\n"
   ]
  },
  {
   "cell_type": "code",
   "execution_count": null,
   "id": "f041a876-d411-4800-9ae2-5e873bf614ba",
   "metadata": {},
   "outputs": [],
   "source": []
  }
 ],
 "metadata": {
  "kernelspec": {
   "display_name": "Python 3",
   "language": "python",
   "name": "python3"
  },
  "language_info": {
   "codemirror_mode": {
    "name": "ipython",
    "version": 3
   },
   "file_extension": ".py",
   "mimetype": "text/x-python",
   "name": "python",
   "nbconvert_exporter": "python",
   "pygments_lexer": "ipython3",
   "version": "3.8.8"
  }
 },
 "nbformat": 4,
 "nbformat_minor": 5
}
