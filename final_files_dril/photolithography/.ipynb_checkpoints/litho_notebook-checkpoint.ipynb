{
 "cells": [
  {
   "cell_type": "markdown",
   "id": "684e9473-ce91-4d27-bed3-e2d07854ecb9",
   "metadata": {},
   "source": [
    "#  **Photolithography** "
   ]
  },
  {
   "cell_type": "markdown",
   "id": "0978c494-b216-4a22-9672-3ec1a3331658",
   "metadata": {},
   "source": [
    "### __Before you start the notebook please run the import section bellow.__"
   ]
  },
  {
   "cell_type": "code",
   "execution_count": 1,
   "id": "6a78a003-975b-4740-8e0d-3be9cd82d441",
   "metadata": {},
   "outputs": [],
   "source": [
    "import numpy as np\n",
    "import matplotlib.pyplot as plt\n",
    "from scipy import interpolate\n",
    "import math\n",
    "from IPython.display import display, Markdown, clear_output\n",
    "from mpl_toolkits.mplot3d import Axes3D\n",
    "from ipywidgets import interact, fixed\n",
    "from matplotlib.path import Path\n",
    "from matplotlib.patches import PathPatch\n",
    "from scipy.fftpack import fft2, ifft2, fftshift\n",
    "from ipywidgets import interact\n",
    "import ipywidgets as widgets"
   ]
  },
  {
   "cell_type": "markdown",
   "id": "594a1b0b-70fd-4694-aa76-a9e95ec0a250",
   "metadata": {},
   "source": [
    "**Photolithography** is a fundamental technique widely employed in microfabrication processes to pattern and define complex features on substrates with high precision. It is a key process in the production of microelectronic devices, integrated circuits, microfluidic systems, and various other microscale structures.\n",
    "\n",
    "It is based on the principle of electromagnetic interaction and the modification of a resist material through the exposure to photons or electrons. The resist material is a photosensitive material that undergoes a chemical or physical change upon exposure. The patterned resist acts as a mask for subsequent processes, defining regions that will either be selectively etched or where materials will be deposited.\n",
    "\n",
    "The **lithography** process begins with the **design of the desired pattern**, typically using computer-aided design (CAD) software. The design is then transferred to a photomask, which contains the pattern as opaque and transparent regions. The mask serves as a template for pattern transfer onto the resist-coated substrate.\n",
    "\n",
    "During **exposure**, the resist is here subjected to UV light ; the photons or electrons interact with the resist, inducing chemical reactions or physical changes in the material. This modification of the resist's properties enables the creation of a pattern corresponding to the desired design.\n",
    "\n",
    "Following exposure, the resist undergoes a **development** step. Development involves treating the resist with a developer solution that selectively removes either the exposed since here we are using a positive resist. This step reveals the patterned resist on the substrate, ready for subsequent processing step.\n",
    "\n",
    "photo + video"
   ]
  },
  {
   "cell_type": "markdown",
   "id": "d4632748-c639-4b4e-b735-9a04d6fc7f21",
   "metadata": {},
   "source": [
    "# *Exercice Section*\n",
    "* # Dose of expostion\n",
    "\n"
   ]
  },
  {
   "cell_type": "markdown",
   "id": "7c9bcd74-8571-4744-ae59-cf53f6fab3f9",
   "metadata": {},
   "source": [
    "To achieve proper development results, it is important to choose the exposure dose carefully. Before diving into further details, let's analyze the recommended dose for a specific thickness of AZ 1512 HS resist on the MABA6 and MA6 Gen3 machines. Please be aware that the presented curve is specific to this particular case and is provided to give you an idea of the potential behavior you might encounter."
   ]
  },
  {
   "cell_type": "code",
   "execution_count": 6,
   "id": "107dec2c-4385-4d52-a25e-353ac097b375",
   "metadata": {},
   "outputs": [
    {
     "data": {
      "image/png": "[encoded data removed]",
      "text/plain": [
       "<Figure size 432x288 with 1 Axes>"
      ]
     },
     "metadata": {
      "needs_background": "light"
     },
     "output_type": "display_data"
    }
   ],
   "source": [
    "# Determine the number of points and the values of doses, for the interpolation\n",
    "dose = np.arange(0, 80, 2.5, float) \n",
    "thickness= -3.08555*10**-10*dose**6 + 7.88354*10**-8*dose**5-8.17055*10**-6*dose**4+0.000437742*dose**3-0.012214*dose**2+0.173364*dose+0\n",
    "    \n",
    "# Plot\n",
    "plt.title('Dose/thickness removed curve')\n",
    "plt.plot(dose, thickness)\n",
    "plt.ylabel('Thickness [um]')\n",
    "plt.xlabel('Dose [mJ/cm^2]')\n",
    "plt.show()"
   ]
  },
  {
   "cell_type": "markdown",
   "id": "bb388e8a-39b0-4973-b390-0a9883799048",
   "metadata": {},
   "source": [
    "Is this relation linear ? Quadratic ? Something else ?\n"
   ]
  },
  {
   "cell_type": "markdown",
   "id": "25183790-8bc8-4dd3-b395-74e06b1846cd",
   "metadata": {},
   "source": [
    "* # Photolithography simulation"
   ]
  },
  {
   "cell_type": "markdown",
   "id": "86e81345-6bfc-4ad8-ba35-8c6e27b7f68c",
   "metadata": {},
   "source": [
    "\n",
    "\n",
    "In this exercise, the initial step involves creating your own mask using KLayout. Once the mask is created, you can proceed to import the corresponding text file into the code (see further). However, it is important to note that prior to importing, you should remove all lines from the text file except those that contain the coordinates of the mask's corners. For example, considering the provided mask as an example, the text file would appear as follows:\n",
    "\n",
    "-456989: 60480 \\\n",
    "-456989: 62972 \\\n",
    "-455490: 62972 \\\n",
    "-455490: 65536 \\\n",
    "-454990: 65536 \\\n",
    "-454990: 62999 \\\n",
    "-452520: 62990 \\\n",
    "-452520: 65472 \\\n",
    "-451520: 65472 \\\n",
    "-451520: 62981 \\\n",
    "-448484: 62981 \\\n",
    "-448484: 65500 \\\n",
    "-446484: 65500 \\\n",
    "-446484: 60480 \\\n",
    "-456989: 60480\n",
    "\n",
    "After importing your mask, make sure to replace \"open(\"mask1_klayout_me.txt\", \"r\")\" with \"open(\"your_file_name.txt\", \"r\")\". It's important to note that you can also utilize the provided mask1_klayout_me as an example for this exercise. However, keep in mind that it does not possess the necessary shape and size required for the creation of the microheater.\n"
   ]
  },
  {
   "cell_type": "markdown",
   "id": "3c244c6f-5bb8-4950-abf7-d5f7b4a51920",
   "metadata": {},
   "source": [
    "Upon running the code, three distinct figures will be generated, depending on the light source that you chose. The first figure depicts the 3D light intensity profile within the mask. The second figure displays a cross-section of the 2D mask, including the light intensity profile, the threshold value necessary for development, and the development function represented as a binary function (indicating whether a zone is fully developed or not developed at all). Finally, the last figure illustrates the disparity between your mask and the areal image, which represents the pattern obtained after the photolithography process. \n",
    "\n",
    "Feel free to execute the code and explore the various parameters to enhance your experience!"
   ]
  },
  {
   "cell_type": "code",
   "execution_count": 3,
   "id": "a70eb911-4de0-48bc-a052-e56009aee143",
   "metadata": {},
   "outputs": [
    {
     "data": {
      "application/vnd.jupyter.widget-view+json": {
       "model_id": "60700c3533a14286b53585eaf4bb638f",
       "version_major": 2,
       "version_minor": 0
      },
      "text/plain": [
       "VBox(children=(Dropdown(description='Light source:', options=('F2 laser', 'ArF excimer laser', 'Hg/Xe arc lamp…"
      ]
     },
     "execution_count": 3,
     "metadata": {},
     "output_type": "execute_result"
    }
   ],
   "source": [
    "# Parameters\n",
    "global N\n",
    "N = 500               #number of points on the x and y scales\n",
    "TH = 70               # Threshold intensity (normalized)\n",
    "NA = 1             # Numerical aperature\n",
    "global prev_value\n",
    "prev_value = 'ArF excimer laser'\n",
    "\n",
    "# Reading mask shape from file\n",
    "with open(\"mask1_klayout_me.txt\", \"r\") as file:\n",
    "    data = file.readlines()\n",
    "X = []\n",
    "Y = []\n",
    "for line in data:\n",
    "    line = line.strip().split(\":\")\n",
    "    X.append(int(line[0])/1000.)\n",
    "    Y.append(int(line[1])/1000.)\n",
    "num_points = len(X)-1\n",
    "sides = np.zeros(num_points)\n",
    "for i in range(num_points):\n",
    "    sides[i] = np.sqrt((X[i]-X[i+1])**2 + (Y[i]-Y[i+1])**2) #compute the distance between consecutive points\n",
    "X = X-np.min(X)\n",
    "Y = Y-np.min(Y)\n",
    "Lx = 1.4*np.max(X)    # Mask real dimensions (um), dimension increased to have the black area around the mask\n",
    "Ly = 1.4*np.max(Y)    # Mask real dimensions (um)\n",
    "dx = Lx/(N-1)\n",
    "dy = Ly/(N-1)\n",
    "\n",
    "\n",
    "def plot_mask(lamda, D_exp):\n",
    "    # Center the polygon\n",
    "    dx = Lx/(N-1) #pixel resolution \n",
    "    dy = Ly/(N-1)\n",
    "    x = np.linspace(-0.2*np.max(X),1.2*np.max(X),N)\n",
    "    y = np.linspace(-0.2*np.max(Y),1.2*np.max(Y),N)\n",
    "    # Create mask matrix\n",
    "    x,y = np.meshgrid(x,y)\n",
    "    x = np.reshape(x,-1) #flatten the array\n",
    "    y = np.reshape(y,-1)\n",
    "    mask = Path(np.column_stack((X,Y))) #polygon defined by the points (X,Y) (in .txt)\n",
    "    mask = mask.contains_points(np.column_stack((x,y))) #compute if (x, y) is in the polygone : 1 if inside, 0 if outside, length = N*N\n",
    "    mask = np.reshape(mask,(N,N)) \n",
    "    mask = mask.astype(float)\n",
    "    print('The dimensions of the mask are', round(Lx,2), 'x', round(Ly,2), 'um')\n",
    "    \n",
    "    # Calculations creating different domains\n",
    "    nx, ny = np.meshgrid(np.arange(-(N-1)/2,(N-1)/2+1),np.arange(-(N-1)/2,(N-1)/2+1))\n",
    "    fx = (1/dx)*(1/N)*nx\n",
    "    fy = (1/dx)*(1/N)*ny\n",
    "    \n",
    "    # Discrete frequency domain (1/um)\n",
    "    P = np.sqrt((fx**2)+(fy**2))\n",
    "    P = (P < (NA/lamda)).astype(float) #diffraction limit : maximum spatial frequency that can be captured\n",
    "    I = fftshift(fft2(mask))\n",
    "    I = ifft2(P*I)\n",
    "    I = np.real(I*np.conj(I)) #norm of complex values\n",
    "    I = I/np.max(I) #normalized\n",
    "    phys_I = I*D_exp \n",
    "    aerial = (phys_I > TH).astype(float)\n",
    "    \n",
    "    # Plots\n",
    "    fig, (ax1, ax2) = plt.subplots(1, 2, figsize=(8, 4))\n",
    "    ax1.imshow(mask, cmap='gray', origin='lower',  extent=(0, N*dx, 0, N*dy))\n",
    "    ax1.set_title('Mask image')\n",
    "    ax1.set_xlabel('X [um]')\n",
    "    ax1.set_ylabel('Y [um]')\n",
    "    ax2.imshow(aerial, cmap='gray', origin='lower', extent=(0, N*dx, 0, N*dy))\n",
    "    ax2.set_title('Aerial image')\n",
    "    ax2.set_xlabel('X [um]')\n",
    "    ax2.set_ylabel('Y [um]') \n",
    "    plt.tight_layout()\n",
    "\n",
    "\n",
    "def update_3D(lamda,N, D_exp):\n",
    "    # Center the polygon\n",
    "    x = np.linspace(-0.2*np.max(X),1.2*np.max(X),N)\n",
    "    y = np.linspace(-0.2*np.max(Y),1.2*np.max(Y),N)\n",
    "    # Create mask matrix\n",
    "    x,y = np.meshgrid(x,y)\n",
    "    x = np.reshape(x,-1)\n",
    "    y = np.reshape(y,-1)\n",
    "    mask = Path(np.column_stack((X,Y)))\n",
    "    mask = mask.contains_points(np.column_stack((x,y)))\n",
    "    mask = np.reshape(mask,(N,N))\n",
    "    mask = mask.astype(float)\n",
    "    # Calculations creating different domains\n",
    "    dx = Lx/(N-1)\n",
    "    dy = Ly/(N-1)\n",
    "    nx, ny = np.meshgrid(np.arange(-(N-1)/2,(N-1)/2+1),np.arange(-(N-1)/2,(N-1)/2+1))\n",
    "    fx = (1/dx)*(1/N)*nx\n",
    "    fy = (1/dx)*(1/N)*ny\n",
    "    # Discrete frequency domain (1/um)\n",
    "    P = np.sqrt((fx**2)+(fy**2))\n",
    "    P = (P < (NA/lamda)).astype(float)\n",
    "    I = fftshift(fft2(mask))\n",
    "    I = ifft2(P*I)\n",
    "    I = np.real(I*np.conj(I)) \n",
    "    I = I/np.max(I) \n",
    "    phys_I = I*D_exp #Dose [mJ/cm^2]\n",
    "    aerial = (phys_I > TH).astype(float)\n",
    "    return nx, ny, phys_I, dx\n",
    "    \n",
    "# Define the function to plot\n",
    "def plot_func(lamda,D_exp):\n",
    "    nx, ny, I, dx = update_3D(lamda,N, D_exp)\n",
    "    x = np.linspace(0, N*dx, N)  # Adjust x-axis values\n",
    "    y = np.linspace(0, N*dy, N)  # Adjust y-axis values\n",
    "    nx, ny = np.meshgrid(x, y)\n",
    "    fig = plt.figure(figsize=(6, 6))\n",
    "    ax = fig.add_subplot(111, projection='3d')\n",
    "    ax.plot_surface(nx, ny, I, cmap='jet')    \n",
    "    ax.set_xlabel('X')\n",
    "    ax.set_ylabel('Y')\n",
    "    ax.set_zlabel('Z')\n",
    "\n",
    "\n",
    "def plot_func_2D(lamda, y_pixel, D_exp):\n",
    "    nx, ny, I, dx = update_3D(lamda,N, D_exp)\n",
    "    x = np.linspace(0, N*dx, N)  # Adjust x-axis values\n",
    "\n",
    "    plt.plot(x, I[y_pixel,:], label='Intensity function')\n",
    "    plt.plot(x, ~(I[y_pixel,:] > TH)*D_exp, label='Development function')\n",
    "    plt.axhline(TH, color='red', linestyle='--', label='Threshold for development')\n",
    "    plt.legend(loc='upper right', bbox_to_anchor=(1.6, 1))\n",
    "    arr = np.where((I[y_pixel,:] > TH))[0]  #list of index where the intensity is higher than the threshold\n",
    "    output = []\n",
    "    temp = []\n",
    "    dist = []\n",
    "    if(len(arr) != 0):\n",
    "        for i, val in enumerate(arr[:-1]):\n",
    "            temp.append(val)\n",
    "            if arr[i+1] != val +1:\n",
    "                output.append(temp)\n",
    "                temp = []\n",
    "        temp.append(arr[-1])\n",
    "        output.append(temp)\n",
    "        for j in range(len(output)):\n",
    "            x_left_out=output[j][0]-1\n",
    "            x_right_out=output[j][len(output[j])-1]+1\n",
    "            I_left_in=I[y_pixel,output[j][0]]\n",
    "            I_left_out=I[y_pixel,x_left_out]\n",
    "            I_right_in=I[y_pixel,output[j][len(output[j])-1]]\n",
    "            I_right_out=I[y_pixel,x_right_out]                \n",
    "            dist.append((x_right_out-x_left_out-(TH-I_right_out)/(I_right_in-I_right_out)-(TH-I_left_out)/(I_left_in-I_left_out))*dx) \n",
    "        print('The width of the opening are :')\n",
    "        for d in dist:\n",
    "            print('{:.2f} [um]'.format(d))\n",
    "    print('You are at position y =', round(float(y_pixel*dy),2), ' [um]')\n",
    "    print('The dose is', D_exp, '[mJ/cm^2]')\n",
    "\n",
    "    plt.xlabel('X [um]')\n",
    "    plt.ylabel('Z')\n",
    "    plt.show()\n",
    "    \n",
    "\n",
    "# buttons creation\n",
    "button = widgets.Dropdown(\n",
    "       options=['F2 laser', 'ArF excimer laser', 'Hg/Xe arc lamp (DUV)', 'Hg arc lamp (I-line)', 'Hg arc lamp (H-line)', 'Hg arc lamp (G-line)'],\n",
    "       description='Light source:')\n",
    "output = widgets.Button(description='Select')\n",
    "outt = widgets.Output()\n",
    "\n",
    "def on_butt_clicked(b):\n",
    "    with outt:\n",
    "        global prev_value\n",
    "        global lamda \n",
    "        clear_output()\n",
    "        if(button.value != prev_value):\n",
    "            if(button.value == 'F2 laser'):\n",
    "                prev_value = 'F2 laser'\n",
    "                lamda = 0.157 \n",
    "            elif(button.value == 'ArF excimer laser'):\n",
    "                prev_value = 'ArF excimer laser'\n",
    "                lamda = 0.193\n",
    "            elif(button.value == 'Hg/Xe arc lamp (DUV)'):\n",
    "                prev_value = 'Hg/Xe arc lamp (DUV)'\n",
    "                lamda = 0.248  \n",
    "            elif(button.value == 'Hg arc lamp (I-line)'):\n",
    "                lamda = 0.365  \n",
    "            elif(button.value == 'Hg arc lamp (H-line)'):\n",
    "                lamda = 0.405  \n",
    "            elif(button.value == 'Hg arc lamp (G-line)'):\n",
    "                lamda = 0.436  \n",
    "        print('Wavelength = ', lamda, 'um')  \n",
    "        interact(plot_func,  lamda=fixed(lamda), D_exp = (0, 200, 1))\n",
    "        interact(plot_func_2D,  lamda=fixed(lamda), y_pixel = (0, N-1, 1), D_exp = (0, 200,  1))\n",
    "        interact(plot_mask,  lamda=fixed(lamda), D_exp = (0, 200, 1))\n",
    "\n",
    "\n",
    "\n",
    "\n",
    "output.on_click(on_butt_clicked)\n",
    "widgets.VBox([button,output,outt]) "
   ]
  },
  {
   "cell_type": "markdown",
   "id": "026884aa-0383-41df-847b-ba5eed7066db",
   "metadata": {},
   "source": [
    "## __This is the end of the photolithography section.__\n",
    "## __Please go back to the main notebook and fill the required data from what you found here.__\n",
    "## __You can go to the next notebook \"thin film\".__\n"
   ]
  }
 ],
 "metadata": {
  "kernelspec": {
   "display_name": "Python 3",
   "language": "python",
   "name": "python3"
  },
  "language_info": {
   "codemirror_mode": {
    "name": "ipython",
    "version": 3
   },
   "file_extension": ".py",
   "mimetype": "text/x-python",
   "name": "python",
   "nbconvert_exporter": "python",
   "pygments_lexer": "ipython3",
   "version": "3.8.8"
  }
 },
 "nbformat": 4,
 "nbformat_minor": 5
}
