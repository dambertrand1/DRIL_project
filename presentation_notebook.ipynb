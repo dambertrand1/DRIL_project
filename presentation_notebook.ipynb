{
 "cells": [
  {
   "cell_type": "markdown",
   "id": "c3e8fec7-4b77-4cc0-8b30-5b1f2ffd680f",
   "metadata": {},
   "source": [
    " # Microfabrication jupyter lab\n",
    " \n",
    "*This Notebook covers the MICRO-XX class on microfabrication... It comes as a complement to the MOOC and aims to give an overview of the techniques seen in class and how to use them together in the cleanrooms.*\n",
    "\n",
    "\n",
    "You will explores the different microfabrication techniques to build XXX and how to implement these steps in a ordered way. In microfabrication your blueprint is called a process flow. It is a summary of all the steps you perform in the cleanrooms with the different settings and parameters you use at each step.\n",
    "\n",
    "Evalutation method or not"
   ]
  },
  {
   "cell_type": "markdown",
   "id": "962aeee7-8d51-43f4-bcfe-4aca5b1cd67d",
   "metadata": {},
   "source": [
    "## Python demo\n",
    "Demo on how to use and navigate on the notebook with some basics on python\n",
    "Show them how to use the code to be evaluated"
   ]
  },
  {
   "cell_type": "markdown",
   "id": "14d33dc2-d582-4a5f-8622-48b0f4b58687",
   "metadata": {},
   "source": [
    "## Presentation of the object\n",
    "Today you will build XXX. Here is what is does (list of applications, images of the object...). Small overview of the constraints : possible material used/ design choke points.\n",
    "\n",
    "1. Heating constraints\n",
    "2. power constraint\n",
    "3. design\n",
    "\n",
    "A demander à Hernan pour le contenu"
   ]
  },
  {
   "cell_type": "markdown",
   "id": "71c805f5-db48-421e-9cf5-76813ab24b82",
   "metadata": {},
   "source": [
    "## Process flow exercice\n",
    "\n",
    "*Before exploring each of the steps you need to make a plan (your process flow) in order to plan the different steps you need to perform. This task is essential when working on microfabrication. In this section you will built your own process flow before performing the different steps yourself later on.*\n",
    "\n",
    "List of the different steps in the cleanroom (thin film deposition/ Lithography steps/ Etching/ Developpement/ CVD/ Metrology) --> il faut qu'on fasse une hiérarchie des différents procédés pour ensuite les limités à un sous ensemble. With a quick summary."
   ]
  },
  {
   "cell_type": "markdown",
   "id": "8ae4ecf2-77b1-49ad-8b43-01da8b7f594f",
   "metadata": {},
   "source": [
    "#### Exemple of real life process flow\n",
    "\n",
    "give the process flow for two or three small exemples. Detail what the object is and its use to motivate the part. Detail the steps and how they are used together.\n",
    "Display the process flow on the right, maybe use some widget"
   ]
  },
  {
   "cell_type": "markdown",
   "id": "e5e9a87d-2e3b-496c-b982-2450a9cf1c34",
   "metadata": {},
   "source": [
    "#### More complex case process flows with exotic process (optional)\n",
    "\n",
    "Give one or two process flows with exotic process steps and explain why they are used (find exotic process and motivate their use).\n",
    "Display the process flow on the side or as a pdf depending on what we achieve\n"
   ]
  },
  {
   "cell_type": "markdown",
   "id": "a0f9d44d-42dc-4909-a099-2df34ff4c432",
   "metadata": {},
   "source": [
    "## process flow exercice\n",
    "\n",
    "With the given constraint of your object (display them again here). You have to build your process flow.\n",
    "Give first and last step. \n",
    "Use widget to select the process they want to do. Allow for errors and hardcode the image. (need to make an organigram of all the possible steps to hardcode the result).\n"
   ]
  },
  {
   "cell_type": "markdown",
   "id": "573f554b-2adc-43a4-9a39-670a43f1f166",
   "metadata": {},
   "source": [
    "Link to the next notebook"
   ]
  },
  {
   "cell_type": "code",
   "execution_count": null,
   "id": "e2a84afe-f5a3-4688-9a5f-4ccc575a2fc2",
   "metadata": {},
   "outputs": [],
   "source": []
  }
 ],
 "metadata": {
  "kernelspec": {
   "display_name": "Python",
   "language": "python",
   "name": "python3"
  },
  "language_info": {
   "codemirror_mode": {
    "name": "ipython",
    "version": 3
   },
   "file_extension": ".py",
   "mimetype": "text/x-python",
   "name": "python",
   "nbconvert_exporter": "python",
   "pygments_lexer": "ipython3",
   "version": "3.8.10"
  }
 },
 "nbformat": 4,
 "nbformat_minor": 5
}
