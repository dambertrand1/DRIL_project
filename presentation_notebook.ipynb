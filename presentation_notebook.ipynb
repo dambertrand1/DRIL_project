{
 "cells": [
  {
   "cell_type": "markdown",
   "id": "c3e8fec7-4b77-4cc0-8b30-5b1f2ffd680f",
   "metadata": {},
   "source": [
    " # Microfabrication jupyter lab\n",
    " \n",
    "*This Notebook covers the MICRO-XX class on microfabrication... It comes as a complement to the MOOC and aims to give an overview of the techniques seen in class and how to use them together in the cleanrooms.*\n",
    "\n",
    "\n",
    "You will explores the different microfabrication techniques to build XXX and how to implement these steps in a ordered way. In microfabrication your blueprint is called a process flow. It is a summary of all the steps you perform in the cleanrooms with the different settings and parameters you use at each step.\n",
    "\n",
    "Evalutation method or not"
   ]
  },
  {
   "cell_type": "markdown",
   "id": "962aeee7-8d51-43f4-bcfe-4aca5b1cd67d",
   "metadata": {},
   "source": [
    "## Python demo\n",
    "Demo on how to use and navigate on the notebook with some basics on python\n",
    "Show them how to use the code to be evaluated"
   ]
  },
  {
   "cell_type": "markdown",
   "id": "14d33dc2-d582-4a5f-8622-48b0f4b58687",
   "metadata": {},
   "source": [
    "## Presentation of the object\n",
    "Today you will build XXX. Here is what is does (list of applications, images of the object...). Small overview of the constraints : possible material used/ design choke points.\n",
    "\n",
    "1. Heating constraints\n",
    "2. power constraint\n",
    "3. design\n",
    "\n",
    "A demander à Hernan pour le contenu"
   ]
  },
  {
   "cell_type": "markdown",
   "id": "71c805f5-db48-421e-9cf5-76813ab24b82",
   "metadata": {},
   "source": [
    "## Process flow exercice\n",
    "\n",
    "*Before exploring each of the steps you need to make a plan (your process flow) in order to plan the different steps you need to perform. This task is essential when working on microfabrication. In this section you will built your own process flow before performing the different steps yourself later on.*\n",
    "\n",
    "List of the different steps in the cleanroom (thin film deposition/ Lithography steps/ Etching/ Developpement/ CVD/ Metrology) --> il faut qu'on fasse une hiérarchie des différents procédés pour ensuite les limités à un sous ensemble. With a quick summary."
   ]
  },
  {
   "cell_type": "markdown",
   "id": "8ae4ecf2-77b1-49ad-8b43-01da8b7f594f",
   "metadata": {},
   "source": [
    "#### Exemple of real life process flow\n",
    "\n",
    "give the process flow for two or three small exemples. Detail what the object is and its use to motivate the part. Detail the steps and how they are used together.\n",
    "Display the process flow on the right, maybe use some widget"
   ]
  },
  {
   "cell_type": "markdown",
   "id": "e5e9a87d-2e3b-496c-b982-2450a9cf1c34",
   "metadata": {},
   "source": [
    "#### More complex case process flows with exotic process (optional)\n",
    "\n",
    "Give one or two process flows with exotic process steps and explain why they are used (find exotic process and motivate their use).\n",
    "Display the process flow on the side or as a pdf depending on what we achieve\n"
   ]
  },
  {
   "cell_type": "markdown",
   "id": "a0f9d44d-42dc-4909-a099-2df34ff4c432",
   "metadata": {},
   "source": [
    "## process flow exercice\n",
    "\n",
    "With the given constraint of your object (display them again here). You have to build your process flow.\n",
    "Give first and last step. \n",
    "Use widget to select the process they want to do. Allow for errors and hardcode the image. (need to make an organigram of all the possible steps to hardcode the result).\n"
   ]
  },
  {
   "cell_type": "markdown",
   "id": "573f554b-2adc-43a4-9a39-670a43f1f166",
   "metadata": {},
   "source": [
    "Link to the next notebook"
   ]
  },
  {
   "cell_type": "code",
   "execution_count": 1,
   "id": "f45d68eb-7778-4d99-ad9d-fb6f2bf8c956",
   "metadata": {},
   "outputs": [],
   "source": [
    "# some handy functions to use along widgets\n",
    "from IPython.display import display, Markdown, clear_output\n",
    "# widget packages\n",
    "import ipywidgets as widgets\n",
    "from IPython.display import Image\n",
    "import codecs\n"
   ]
  },
  {
   "cell_type": "code",
   "execution_count": 2,
   "id": "e2a84afe-f5a3-4688-9a5f-4ccc575a2fc2",
   "metadata": {
    "tags": []
   },
   "outputs": [
    {
     "data": {
      "application/vnd.jupyter.widget-view+json": {
       "model_id": "11377855d1724b48a07100d0b84d5f08",
       "version_major": 2,
       "version_minor": 0
      },
      "text/plain": [
       "VBox(children=(Dropdown(description='Process:', options=('oxydation', 'spin coating (photoresist + lift-off re…"
      ]
     },
     "execution_count": 2,
     "metadata": {},
     "output_type": "execute_result"
    }
   ],
   "source": [
    "process_flow = False\n",
    "# buttons creation\n",
    "button = widgets.Dropdown(\n",
    "       options=['oxydation', 'spin coating (photoresist + lift-off resist)', 'photolithography', 'development', 'thin film deposition', 'lift off', 'etching'],\n",
    "       description='Process:')\n",
    "output = widgets.Button(description='Select process')\n",
    "reset = widgets.Button(description='Reset')\n",
    "outt = widgets.Output()\n",
    "\n",
    "\n",
    "def on_butt_clicked(b):\n",
    "    with outt:\n",
    "        global prev_step \n",
    "        if(button.value == 'oxydation'):\n",
    "            print('1. Oxydation \\n')\n",
    "            display(Image(filename='oxidation.JPG'))\n",
    "            prev_step = 'oxydation'\n",
    "        elif(button.value == 'spin coating (photoresist + lift-off resist)' and prev_step == 'oxydation'):\n",
    "            print('2. Spin coating (photoresist + lift-off resist) \\n')\n",
    "            display(Image(filename='spin_coating.JPG'))\n",
    "            prev_step = 'spin coating (photoresist + lift-off resist)'\n",
    "        elif(button.value == 'photolithography' and prev_step == 'spin coating (photoresist + lift-off resist)'):\n",
    "            print('3. Photolithography \\n')\n",
    "            display(Image(filename='photolitho.JPG'))     \n",
    "            prev_step = 'photolithography'\n",
    "        elif(button.value == 'development' and prev_step == 'photolithography'):\n",
    "            print('4. Development \\n')\n",
    "            display(Image(filename='development.JPG')) \n",
    "            prev_step = 'development'\n",
    "        elif(button.value == 'thin film deposition' and prev_step == 'development'):\n",
    "            print('5. Thin film deposition \\n')\n",
    "            display(Image(filename='thin_film_depo.JPG'))   \n",
    "            prev_step = 'thin film deposition'\n",
    "        elif(button.value == 'lift off'  and prev_step == 'thin film deposition'):\n",
    "            print('6. Lift off \\n')\n",
    "            display(Image(filename='lift_off.JPG')) \n",
    "            print('process flow validated')\n",
    "        else:\n",
    "            clear_output()\n",
    "            print('Error in your process flow, try again')\n",
    "            display(Image(filename='si_wafer.JPG'))\n",
    "        \n",
    "def reset_button_clicked(butt):\n",
    "    with outt:\n",
    "        clear_output()\n",
    "        prev_step = ' '\n",
    "        display(Image(filename='si_wafer.JPG'))\n",
    "   \n",
    "output.on_click(on_butt_clicked)\n",
    "reset.on_click(reset_button_clicked)\n",
    "widgets.VBox([button,output,outt, reset])\n"
   ]
  },
  {
   "cell_type": "code",
   "execution_count": 3,
   "id": "a9e79c79-72d8-493e-9b78-fc017fb931b2",
   "metadata": {},
   "outputs": [
    {
     "ename": "ModuleNotFoundError",
     "evalue": "No module named 'lib.button'",
     "output_type": "error",
     "traceback": [
      "\u001b[1;31m---------------------------------------------------------------------------\u001b[0m",
      "\u001b[1;31mModuleNotFoundError\u001b[0m                       Traceback (most recent call last)",
      "\u001b[1;32m<ipython-input-3-df5005fa9ce5>\u001b[0m in \u001b[0;36m<module>\u001b[1;34m\u001b[0m\n\u001b[1;32m----> 1\u001b[1;33m \u001b[1;32mfrom\u001b[0m \u001b[0mlib\u001b[0m\u001b[1;33m.\u001b[0m\u001b[0mbutton\u001b[0m \u001b[1;32mimport\u001b[0m \u001b[1;33m*\u001b[0m\u001b[1;33m\u001b[0m\u001b[1;33m\u001b[0m\u001b[0m\n\u001b[0m\u001b[0;32m      2\u001b[0m \u001b[0mprocess_flow\u001b[0m \u001b[1;33m=\u001b[0m \u001b[1;32mFalse\u001b[0m\u001b[1;33m\u001b[0m\u001b[1;33m\u001b[0m\u001b[0m\n\u001b[0;32m      3\u001b[0m \u001b[1;31m# buttons creation\u001b[0m\u001b[1;33m\u001b[0m\u001b[1;33m\u001b[0m\u001b[1;33m\u001b[0m\u001b[0m\n\u001b[0;32m      4\u001b[0m button = widgets.Dropdown(\n\u001b[0;32m      5\u001b[0m        \u001b[0moptions\u001b[0m\u001b[1;33m=\u001b[0m\u001b[1;33m[\u001b[0m\u001b[1;34m'oxydation'\u001b[0m\u001b[1;33m,\u001b[0m \u001b[1;34m'spin coating (main resist + lift-off resist)'\u001b[0m\u001b[1;33m,\u001b[0m \u001b[1;34m'photolithography'\u001b[0m\u001b[1;33m,\u001b[0m \u001b[1;34m'development'\u001b[0m\u001b[1;33m,\u001b[0m \u001b[1;34m'thin film deposition'\u001b[0m\u001b[1;33m,\u001b[0m \u001b[1;34m'lift off'\u001b[0m\u001b[1;33m,\u001b[0m \u001b[1;34m'etching'\u001b[0m\u001b[1;33m]\u001b[0m\u001b[1;33m,\u001b[0m\u001b[1;33m\u001b[0m\u001b[1;33m\u001b[0m\u001b[0m\n",
      "\u001b[1;31mModuleNotFoundError\u001b[0m: No module named 'lib.button'"
     ]
    }
   ],
   "source": [
    "from lib.button import *\n",
    "process_flow = False\n",
    "# buttons creation\n",
    "button = widgets.Dropdown(\n",
    "       options=['oxydation', 'spin coating (main resist + lift-off resist)', 'photolithography', 'development', 'thin film deposition', 'lift off', 'etching'],\n",
    "       description='Process:')\n",
    "output = widgets.Button(description='Select process')\n",
    "reset = widgets.Button(description='Reset')\n",
    "outt = widgets.Output()\n",
    "\n",
    "\n",
    "        \n",
    "def reset_button_clicked(butt):\n",
    "    with outt:\n",
    "        clear_output()\n",
    "        prev_step = ' '\n",
    "        display(Image(filename='si_wafer.JPG'))\n",
    "   \n",
    "output.on_click(on_butt_clicked)\n",
    "reset.on_click(reset_button_clicked)\n",
    "widgets.VBox([button,output,outt, reset])\n"
   ]
  },
  {
   "cell_type": "markdown",
   "id": "87563513-1e4a-4386-b028-c6718add4669",
   "metadata": {
    "tags": []
   },
   "source": [
    "\n",
    "[Next notebook, only if you got the message \"process flow validated\"](http://localhost:8888/doc/tree/litho_notebook.ipynb)"
   ]
  }
 ],
 "metadata": {
  "kernelspec": {
   "display_name": "Python 3",
   "language": "python",
   "name": "python3"
  },
  "language_info": {
   "codemirror_mode": {
    "name": "ipython",
    "version": 3
   },
   "file_extension": ".py",
   "mimetype": "text/x-python",
   "name": "python",
   "nbconvert_exporter": "python",
   "pygments_lexer": "ipython3",
   "version": "3.8.8"
  }
 },
 "nbformat": 4,
 "nbformat_minor": 5
}
