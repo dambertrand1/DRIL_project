{
 "cells": [
  {
   "cell_type": "markdown",
   "id": "8c3565cd-5f29-4088-bcbf-2e864cfa3f51",
   "metadata": {},
   "source": [
    "# Metrology Notebook\n",
    "\n",
    "*This notebook covers the different techniques of metrology you can use in practice. The goal of the exercice is to determine what you are interested in measuring, what type of measure you want to do and which one are actually accessible at this time*\n",
    "\n",
    "First of all metrology allows you to make measures about different things from your sample, most of the time you want to observe the geometry of your sample : thickness, geometry of the surface, roughness. However thanks to cleanroom techniques you have access to many more measure types: resistivity, optical features, stress... \n",
    "One of the first constraint of metrology you must consider is the destructivity of the method you are using or not. Also some methods are accessible for certain materials but not for other depending on the physical property you want to measure.\n",
    "Last many method actually measure the same thing but are not aimed at the same scale (SEM vs normal microscopy, AFM vs profilometer), give some number"
   ]
  },
  {
   "cell_type": "markdown",
   "id": "14b65f2a-efb7-4b45-9c12-cd966c90c7de",
   "metadata": {},
   "source": [
    "Widget to select which process to use for the metrology\n",
    "According to this it then displays the following information according to the choice of the student. \n",
    "\n",
    "Make MQC on the motivation of their measure :\n",
    "why, scale of the measure, things to be carreful about ..."
   ]
  },
  {
   "cell_type": "markdown",
   "id": "09981d5a-8251-4b8e-b65d-c7fdfd14e42c",
   "metadata": {},
   "source": [
    "### Optical imaging \n",
    "\n",
    "Presentation of the different techniques and their range of application. \n",
    "Give some visual of what the observation actually look like. \n",
    "\n",
    "Mainly used for fast thickness measurement of transparent films. Need to have a model of the substrat --> if you have diluted resist the model won't work any more.\n",
    "Give a list of material which work with optical method and make a list with their image.\n"
   ]
  },
  {
   "cell_type": "markdown",
   "id": "d411719e-2792-4034-99c5-44d71dbf8948",
   "metadata": {},
   "source": [
    "#### Optical imaging exercice\n",
    "\n",
    "generate multiple output file from ellipsometer and filmetrics with some overfitting, underfitting, wrong curve for some area of the lamp (case of ellipsometer). Maybe MCQ for the answers.\n",
    "Generate a wrong graph if they measure the metal layer with optical method with a 2nm thichness layer.\n",
    "\n",
    "From the different graphs they have to estimate a mean value of thickness and give a confidence interval"
   ]
  },
  {
   "cell_type": "markdown",
   "id": "56dc39b0-c1ec-4536-895e-d21d9e2a19eb",
   "metadata": {},
   "source": [
    "### Mechanical imaging\n",
    "\n",
    "Presentation of the mechanical methods. Show image of the tips with the dimension next to them.\n",
    "Remember the scale between AFM and profilometer. \n",
    "\n",
    "Can be used on any substract but need to. Needs to have a special geometry. Give exercice to determine which geometry can work or not (case of very stressed wafer). Too much roughness. \n",
    "\n",
    "#### mechanical imaging exercice\n",
    "give them file which failed because of wrong settings (speed, force ...) and ask them the issue. Tuning exercice might be possible with a hidden simulation here.\n",
    "\n",
    "Again ask for the final thickness with a range of error."
   ]
  },
  {
   "cell_type": "code",
   "execution_count": null,
   "id": "b27b177d-c499-4b80-95da-ea618141a88c",
   "metadata": {},
   "outputs": [],
   "source": []
  }
 ],
 "metadata": {
  "kernelspec": {
   "display_name": "Python",
   "language": "python",
   "name": "python3"
  },
  "language_info": {
   "codemirror_mode": {
    "name": "ipython",
    "version": 3
   },
   "file_extension": ".py",
   "mimetype": "text/x-python",
   "name": "python",
   "nbconvert_exporter": "python",
   "pygments_lexer": "ipython3",
   "version": "3.8.10"
  }
 },
 "nbformat": 4,
 "nbformat_minor": 5
}
