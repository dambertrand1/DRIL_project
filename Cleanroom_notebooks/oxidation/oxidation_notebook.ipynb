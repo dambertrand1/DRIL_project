{
 "cells": [
  {
   "cell_type": "markdown",
   "id": "469443f4-0655-4980-9a1c-7c8b017d15d5",
   "metadata": {},
   "source": [
    "# __Oxidation notebook__"
   ]
  },
  {
   "cell_type": "markdown",
   "id": "4bf3f0b7",
   "metadata": {},
   "source": [
    "### RUN THIS CELL BEFORE YOU START THE NOTEBOOK\n"
   ]
  },
  {
   "cell_type": "code",
   "execution_count": null,
   "id": "aa617f98-293d-4f65-84f5-e745b64bebbe",
   "metadata": {},
   "outputs": [],
   "source": [
    "import pandas as pd\n",
    "import matplotlib.pyplot as plt\n",
    "from scipy.interpolate import interp1d\n",
    "import numpy as np\n",
    "import ipywidgets as widgets\n",
    "from matplotlib.animation import FuncAnimation\n",
    "from IPython.display import display, HTML, Markdown\n",
    "from base64 import b64encode"
   ]
  },
  {
   "cell_type": "markdown",
   "id": "de7ba6e2-e635-437f-aa9b-6d4cfce49f4e",
   "metadata": {},
   "source": [
    "# *Theory Section*\n",
    "\n",
    "## __Thermal oxidation__\n",
    "__It is a type of process where silicon is\n",
    "transformed into its oxide at high\n",
    "temperature (850 ºC < T < 1200 ºC)\n",
    "using either water vapor (“wet\n",
    "oxidation”) or oxygen (“dry oxidation”). They are both Chemical Vapor Deposition techniques as the deposition happends thanks to a chemical reaction at the surface of the substrat. They are thin film deposition techniques but are in a separate notebook as they are specific processes but widely used in industry for most of the processes. Thermal oxidation is required as the temperature speeds up the chemical reaction. At room temperature the oxidation wouldn't be possible (or limited to a few nanometers).__\n",
    "\n",
    "__Oxidation of silicon is crucial__ as the oxide of silicon SiO2 is an extremely important material in semi-conductor technology. It is used for various purposes such as gate dielectric in MOS (Metal-Oxide-Semiconductor) transistors, insulator layers in integrated circuits, and protective layers against contamination and damage. The highly insulating nature of SiO2 allows it to be an effective barrier between different layers in the device, preventing current leakage and ensuring high performance. Additionally, SiO2 also possesses excellent thermal stability and good chemical resistance, making it an ideal choice for use in harsh environments. Moreover, it plays a fundamental role in photolithography processes, which are vital for pattern definition in semiconductor device fabrication. Oxidation of silicon thus has a direct impact on the performance and reliability of a wide range of electronic devices.\n",
    "\n",
    "Both techniques are performed by introducting the wafers inside furnaces which can heat up at high temperatures while injecting gazes in a vaccum.\n",
    "\n",
    "* __Wet oxidation__ is obtained done by adding $H_2O$ vapor inside the furnace. The $SiO_2$ is obtained by the following reaction: $ Si (s) + H_2O (l) = SiO_2 + 2H_2 (g) $\n",
    "* __Dry oxidation__ is obtained done by adding $O_2$ vapor inside the furnace. The $SiO_2$ is obtained by the following reaction: $Si (s) + O_2 (g) = SiO_2 (s)$\n",
    "<br>\n",
    "\n",
    "The thickness of the layer first growth linearly (thickness ~ time) but then follows a square law (thickness ~ $\\sqrt time$ as the dioxygene needs to diffuse through the $SiO_2$ to oxidize the $S$. As you will see later the type of oxidation greatly depends on the type of $SiO_2$ layer you need.\n",
    "\n",
    "<img src=\"centrotherm image.JPG\" width=\"600\" height=\"400\">\n",
    "\n",
    "<br>\n",
    "\n",
    "_This the image of a typical furnace used for oxidation processes. They can perform both types of oxidation depending on the type of gas used and the gas diffuser system installed inside the furnace. As the processes are very long they are designed for high throughput. In the zoomed image you can see the inside of the furnace where the process happends._\n",
    "\n",
    "Oxidation also works with other materials than silicon. Also the same machine can be used to diffuse other materials than oxygen. For instance nitrogren can be used for nitride deposition ($Si_3N_4$).\n",
    "\n",
    "`Run the follwing cell to display the oxidation clip.`"
   ]
  },
  {
   "cell_type": "code",
   "execution_count": null,
   "id": "c731ed0b-6d22-4ebf-9124-f4325e1710cc",
   "metadata": {},
   "outputs": [],
   "source": [
    "mp4 = open('oxidation_clip.mp4','rb').read()\n",
    "data_url = \"data:video/mp4;base64,\" + b64encode(mp4).decode()\n",
    "HTML(\"\"\"\n",
    "<video width=1000 controls>\n",
    "      <source src=\"%s\" type=\"video/mp4\">\n",
    "</video>\n",
    "\"\"\" % data_url)"
   ]
  },
  {
   "cell_type": "markdown",
   "id": "d9deb63f-ca63-43cf-a791-86e9d8331dea",
   "metadata": {},
   "source": [
    "_Clip description:_ This small clip shows you the processing of a batch of wafer inside a thermal oxidation furnace. As the process are very long the wafer are always processed in batch. They are hold by a special holder which resist the extrem heat of the machine. These furnaces can perform both types of oxidation. However in practice each chamber of the furnace is reserved for a single type of oxidation for purity and conveniancy conserns. Moreover this step tends to always happend in the first steps of the process as it requires to have access to the silicon of the wafer (which isn't possible if it is covered by layers of materials). The heat of the process also makes it almost incompatible with any other previous step as could damage some layers or create great stress in the structure."
   ]
  },
  {
   "cell_type": "markdown",
   "id": "756f0f79-c54f-4246-8b2b-1d477067bd60",
   "metadata": {},
   "source": [
    "# *Exercice Section*"
   ]
  },
  {
   "cell_type": "markdown",
   "id": "4928c2ae-2cbc-4704-b35e-a1d240fc44e9",
   "metadata": {},
   "source": [
    "* ## Goal of the exercice\n",
    "\n",
    "Your goal for this notebook will be to select the parameters you want to use for your oxidation step. They have to be optimized to match the requirements you have in building your device. For the device remember that the oxide is required as an electronic insulator to the microheater layer. In a first part you will select the type of oxidation, temperature and time of process. Then you will experiment these choices. \n",
    "\n",
    "* ## Parameters selection"
   ]
  },
  {
   "cell_type": "markdown",
   "id": "c082ef65-0926-4518-aff6-7fb8503d69ff",
   "metadata": {},
   "source": [
    "Play with the following graphs to find the most optimized parameters for your task. Select the tempareture and the type of oxidation with the buttons and find the time you want for the thickness you need to deposit. \n",
    "<br>\n",
    "_The following oxidation data are real data based on measurements made by the engineers of the CMi._"
   ]
  },
  {
   "cell_type": "code",
   "execution_count": null,
   "id": "d6488b88-56a3-4745-b4eb-e6d17cd306cf",
   "metadata": {},
   "outputs": [],
   "source": [
    "%matplotlib widget\n",
    "\n",
    "file_path = 'oxi_data.xlsx'  \n",
    "df = pd.read_excel(file_path, sheet_name=0)\n",
    "\n",
    "dropdown = widgets.Dropdown(options=list(df.columns), description='Select column: ')\n",
    "\n",
    "def interpolate_data(column):\n",
    "    x_vals = []\n",
    "    y_vals = []\n",
    "    for i, val in enumerate(column):\n",
    "        if pd.notnull(val):\n",
    "            # Split the string into two values separated by \";\"\n",
    "            x, y = val.split(\";\")\n",
    "            x_vals.append(int(x))\n",
    "            y_vals.append(int(y))\n",
    "    # Create an array of x values between the minimum and maximum values in x_vals\n",
    "    new_x = np.arange(min(x_vals), max(x_vals) + 1)\n",
    "    # Interpolate y values for the new x values\n",
    "    f = interp1d(x_vals, y_vals, kind='linear')\n",
    "    new_y = f(new_x)\n",
    "    return new_x, new_y\n",
    "\n",
    "# Define function to update plot based on dropdown selection\n",
    "def update_plot(column):\n",
    "    x, y = interpolate_data(df[column])\n",
    "    plt.figure(figsize=(11, 6))\n",
    "    plt.plot(x, y)\n",
    "    plt.title(\"Interpolated Data for {}\".format(column))\n",
    "    plt.xlabel(\"time [min]\")\n",
    "    plt.ylabel(\"thickness [nm]\")\n",
    "    plt.grid(which='both', linestyle='--', alpha=0.5)\n",
    "    plt.show()\n",
    "\n",
    "# Call update_plot function when dropdown selection changes\n",
    "widgets.interactive(update_plot, column=dropdown)"
   ]
  },
  {
   "cell_type": "markdown",
   "id": "19e1fd31-01eb-419e-b0ac-6852f7ed0dbc",
   "metadata": {},
   "source": [
    "* ## Visualization of the process"
   ]
  },
  {
   "cell_type": "markdown",
   "id": "30ec3ffb-66ef-4af4-adce-8f194b211780",
   "metadata": {},
   "source": [
    "From the previous curve please enter which oxidation parameters you are going to choose as well as the time you are selecting for your process. Indeed during your oxidation there are no sensors informing you of the oxide thickness so you have to choose this time prior to the oxidation. The oxide thickness is only measurerable after the process through metrology. The values should be from the previous graph otherwise it will not work.\n",
    "<br>\n",
    "__Fill the following values and run the cell to save them.__"
   ]
  },
  {
   "cell_type": "code",
   "execution_count": null,
   "id": "cfec5a34-d12f-4d6f-80bc-514c7da9dff4",
   "metadata": {},
   "outputs": [],
   "source": [
    "time_of_oxidation = 10 # in minutes\n",
    "type_of_oxidation = 'dry' # wet or dry (as a string)\n",
    "temperature_of_oxidation = 900 #in °C (one of the temperatures previously given) "
   ]
  },
  {
   "cell_type": "markdown",
   "id": "1cfd59fe-2485-4579-a5f6-a21c9bc8af23",
   "metadata": {},
   "source": [
    "The following code allows you to visualize your process for the selected parameters. \n",
    "<br>\n",
    "Be carefull there are two things to observe. First the thickness that you obtain from what you selected, second you have a small animation which represents the oxidation process."
   ]
  },
  {
   "cell_type": "code",
   "execution_count": null,
   "id": "08c8925e-2c26-4a55-9a55-cfa77d9cc2d2",
   "metadata": {},
   "outputs": [],
   "source": [
    "column = type_of_oxidation + '_' + str(temperature_of_oxidation)\n",
    "num_points = 50\n",
    "\n",
    "#PARAMETERS TO TUNE \n",
    "words = column.split('_')\n",
    "if words[0] == 'dry':\n",
    "    min_scale = 0.97\n",
    "    max_scale = 1.03\n",
    "    init_Si_thickness = 1\n",
    "    y_lim = 2.5\n",
    "else:\n",
    "    min_scale = 0.95\n",
    "    max_scale = 1.05\n",
    "    init_Si_thickness = 3\n",
    "    y_lim = 8\n",
    "\n",
    "    \n",
    "# Convert the semicolon-separated strings into separate columns for time and thickness\n",
    "df[['time', 'thickness']] = df[column].str.split(';', expand=True).astype(float)\n",
    "\n",
    "# Filter the data based on time_of_oxidation\n",
    "df_subset = df[df['time'] <= time_of_oxidation]\n",
    "\n",
    "# Create a limited linspace with the interpolation curve and add noise to the data\n",
    "noise = np.random.uniform(min_scale, max_scale, size=num_points)\n",
    "x_vals, y_vals = df_subset['time'].tolist(), df_subset['thickness'].tolist()\n",
    "x = np.linspace(min(x_vals), max(x_vals), num_points)\n",
    "y = np.interp(x, x_vals, y_vals)\n",
    "y = y * noise\n",
    "\n",
    "\n",
    "fig, ax = plt.subplots(figsize=(12, 6))\n",
    "# Set up the plot elements\n",
    "\n",
    "\n",
    "silicon = plt.Rectangle((0, 0), 1, init_Si_thickness, color='black', label='Silicon')\n",
    "oxide_upward = plt.Rectangle((0, init_Si_thickness), init_Si_thickness, 0, color='darkgrey', label='SiO2 (upward)')\n",
    "oxide_downward = plt.Rectangle((0, 0), init_Si_thickness, 0, color='grey', label='SiO2 (downward)')\n",
    "ax.add_patch(silicon)\n",
    "ax.add_patch(oxide_upward)\n",
    "ax.add_patch(oxide_downward)\n",
    "# Set up the axes and labels\n",
    "ax.set_xlim(0, 1)\n",
    "ax.set_ylim(0, y_lim)\n",
    "ax.axhline(y= init_Si_thickness, color='gray', linestyle='--', linewidth=1, label='Original Si height')\n",
    "ax.legend()\n",
    "\n",
    "    # Add title to the plot\n",
    "title = ax.set_title('Deal-Grove Model')\n",
    "title.set_position([.5, 1.1]) # Adjust position of the title\n",
    "title.set_fontsize(10) # Adjust font size of the title\n",
    "\n",
    "def update(frame):\n",
    "    oxide_thickness = y[frame] * 1e-3  # Convert thickness from nm to µm\n",
    "    downward_growth = oxide_thickness * 0.45  # 45% of oxide thickness grows downward\n",
    "    upward_growth = oxide_thickness * 0.55  # 55% of oxide thickness grows upward\n",
    "    silicon_height = 1 - downward_growth  # Calculate remaining silicon height\n",
    "    oxide_upward.set_height(upward_growth)\n",
    "    oxide_downward.set_height(downward_growth)\n",
    "    oxide_downward.set_y(init_Si_thickness - downward_growth)  # Adjust downward oxide layer position\n",
    "    ax.set_yticks([0, init_Si_thickness, init_Si_thickness - downward_growth, init_Si_thickness + upward_growth])\n",
    "    ax.set_ylim(0,y_lim)\n",
    "\n",
    "    ax.set_yticklabels([0, f\"{init_Si_thickness} µm (Si)\", f\"{downward_growth:.2f} µm (down)\", f\"{upward_growth:.2f} µm (upward)\"])\n",
    "    t = x[frame] # Get the exact value of t\n",
    "    title.set_text(f\"Growth of the $SiO_2$ at (t = {t:.0f} min)\")\n",
    "    # Print final thickness value\n",
    "    if frame == len(x) - 1:\n",
    "        display(Markdown(f\"<h2>Final oxide thickness: {oxide_thickness * 1000:.2f} nm</h2>\"))\n",
    "        \n",
    "ani = FuncAnimation(fig, update, frames=len(x), interval=100, repeat=False)\n",
    "\n",
    "plt.close()\n",
    "# Display the animation in JupyterLab\n",
    "html_code = ani.to_jshtml()\n",
    "centered_html = f'<div style=\"display: flex; justify-content: center;\">{html_code}</div>'\n",
    "display(HTML(centered_html))"
   ]
  },
  {
   "cell_type": "markdown",
   "id": "0da67007-7a8e-44b1-864e-6a928eee7e36",
   "metadata": {},
   "source": [
    "First you can observe that using a wet oxidation leads to a greater uncertainty in the final thickness of the layer. So dry oxidation is better addapted when you require an exact thickness of oxide. However it leads to a way longer process time. \n",
    "<br>\n",
    "Second the observation you can make from the animation is that the $SiO_2$ growth happends both upward and downward. Indeed \n",
    "when silicon is exposed to an oxidizing environment, such as high-temperature steam or oxygen, the oxidation process initiates at the silicon surface and then progresses both into the silicon substrate (downward) and into the oxidizing environment (upward). This is because $SiO_2$ is formed by the reaction of silicon atoms in the substrate with oxygen atoms from the environment.\n",
    "\n",
    "The growth is downward into the silicon substrate because the oxygen atoms are able to diffuse through the already-formed $SiO_2$ layer, reach the Si-SiO2 interface, and react with more silicon atoms to form $SiO_2$. The growth is upward into the oxidizing environment as new $SiO_2$ molecules are formed at the Si-SiO2 interface, pushing the existing $SiO_2$ layer further into the oxidizing environment.\n",
    "\n",
    "This bidirectional growth leads to the $SiO_2$ layer thickness being larger than the amount of silicon consumed, with roughly half of the oxide growth extending into the silicon substrate and the other half extending outward. This observation is crucial for understanding and predicting the final thickness of the oxide layer, especially in the context of semiconductor device fabrication where precise control over layer dimensions is necessary."
   ]
  },
  {
   "cell_type": "markdown",
   "id": "d7306ac8-3837-4d51-8c13-b993a6ece816",
   "metadata": {},
   "source": [
    "# __This is the end of the oxidation notebook__\n",
    "# __Report your parameters to the main notebook and go to the \"spin coating notebook\"__\n"
   ]
  },
  {
   "cell_type": "code",
   "execution_count": null,
   "id": "11c6d7c0-c89f-41c0-938d-428888354dd3",
   "metadata": {},
   "outputs": [],
   "source": []
  }
 ],
 "metadata": {
  "kernelspec": {
   "display_name": "Python 3",
   "language": "python",
   "name": "python3"
  },
  "language_info": {
   "codemirror_mode": {
    "name": "ipython",
    "version": 3
   },
   "file_extension": ".py",
   "mimetype": "text/x-python",
   "name": "python",
   "nbconvert_exporter": "python",
   "pygments_lexer": "ipython3",
   "version": "3.8.8"
  },
  "toc-autonumbering": true,
  "toc-showmarkdowntxt": false
 },
 "nbformat": 4,
 "nbformat_minor": 5
}
