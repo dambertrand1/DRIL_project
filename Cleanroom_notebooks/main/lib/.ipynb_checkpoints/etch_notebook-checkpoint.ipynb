{
 "cells": [
  {
   "cell_type": "markdown",
   "id": "df6eeb9e-b4fa-400d-8b10-358c70e69a4b",
   "metadata": {},
   "source": [
    "#### Etching notebook\n",
    "\n",
    "Theoritical resume of dry and wet etching techniques"
   ]
  },
  {
   "cell_type": "markdown",
   "id": "5844028b-68bf-4d3e-b792-6bc6651656e6",
   "metadata": {},
   "source": [
    "### Dry etching techniques\n",
    "Make a list of the different technique and which material they can etch\n",
    "For each technique give some details about its specificities.\n",
    "\n",
    "Give the selectivity + range of the etching techniques"
   ]
  },
  {
   "cell_type": "markdown",
   "id": "90b464e4-7792-43b5-8b04-8c1b09ed0390",
   "metadata": {},
   "source": [
    "### Exercice to plot the etching\n",
    "\n",
    "Make a simulator where they choose their parameters and we graph what happends at each step of the etching polymerization process in function of their parameters"
   ]
  },
  {
   "cell_type": "markdown",
   "id": "bc61f61a-1d08-404a-b423-802a268817d5",
   "metadata": {},
   "source": [
    "### Vertical layer simulator (if possible)\n",
    "\n",
    "Create a simulation with gas concentration, T + parameters to tune the angle of the wall in case of a dry etch (need to ask Hernan what can be done in practice)."
   ]
  },
  {
   "cell_type": "markdown",
   "id": "a618fc80-2dbb-44a0-9276-7aa63db18bc3",
   "metadata": {},
   "source": [
    "#### Selectivity tuning exercice\n",
    "The student have access to a choice of material for the mask and for the layer. Given the parameters of the machine they have to tune the parameters to obtain a given selectivity without going above the polymerization point. In brief code something like my semester project I did with Berke. \n",
    "The goal is for them to explore the parameters of etching and understand the interest in the selectivity.\n",
    "In the beggining we give them a selectivity they have to obtain (possible or not) and they have to play with the parameters to obtain in. \n",
    "In the end they give back their parameters to be evaluated."
   ]
  },
  {
   "cell_type": "markdown",
   "id": "6f2411af-82ca-464e-a498-19c78debd734",
   "metadata": {},
   "source": [
    "### Wet etching\n",
    "\n",
    "List all of the material which can be wet etched as well as the acid needed and the etching time so they have a sens that some process are extremely long."
   ]
  },
  {
   "cell_type": "markdown",
   "id": "b5d50c24-3d86-4c7d-b52f-51f050635354",
   "metadata": {},
   "source": [
    "### Wet etch simulation\n",
    "Take back the simulation already done on wet etching. Allow the student to have access to the base design. After they have to modify the parameters (need to check what has already been done)."
   ]
  },
  {
   "cell_type": "markdown",
   "id": "c23eae56-6352-4fae-a662-9cf97f919504",
   "metadata": {},
   "source": [
    "### iso etch curve plotter\n",
    "\n",
    "Ask hernan if it is possible to plot it with python (didn't find any equation)"
   ]
  },
  {
   "cell_type": "markdown",
   "id": "bb03278d-68d6-43ca-a651-6c9510f2cf8b",
   "metadata": {},
   "source": [
    "### Process selection\n",
    "\n",
    "For a given constraint (design, material to etch, geometry) they have to design their etching step. They answer back in the way of a tupple or widget on python"
   ]
  },
  {
   "cell_type": "code",
   "execution_count": null,
   "id": "fb50c6d0-f8e8-4af3-a552-81fab0e79fdb",
   "metadata": {},
   "outputs": [],
   "source": []
  }
 ],
 "metadata": {
  "kernelspec": {
   "display_name": "Python",
   "language": "python",
   "name": "python3"
  },
  "language_info": {
   "codemirror_mode": {
    "name": "ipython",
    "version": 3
   },
   "file_extension": ".py",
   "mimetype": "text/x-python",
   "name": "python",
   "nbconvert_exporter": "python",
   "pygments_lexer": "ipython3",
   "version": "3.8.10"
  }
 },
 "nbformat": 4,
 "nbformat_minor": 5
}
