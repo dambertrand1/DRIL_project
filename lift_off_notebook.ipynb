{
 "cells": [
  {
   "cell_type": "markdown",
   "id": "0ff5f1b3-419a-4a99-b6ed-f12a2eb0416e",
   "metadata": {},
   "source": [
    "### Lift-off notebook\n",
    "\n",
    "This notebook combines the choice of a deposition step from the thin film notebook and the lift-off process.\n"
   ]
  },
  {
   "cell_type": "markdown",
   "id": "226f283c-105f-4bb1-9182-4fe57715a70f",
   "metadata": {},
   "source": [
    "#### Choice of the machine\n",
    "In this part the student choose the machine they want to use to perform the lift off. They aren't told directly that they require evaporation but they need to reuse what they discovered in the thin film notebook about evaporation and sputtering.\n",
    "\n",
    "From this they can choose between evap and sputtering first. Via a widget\n",
    "\n",
    "Then depending on their choice they have to tune the parameters in python and from their choice we can simulate the cross section they will obtain. In some case we can allow sputtering to work for the lift off in predefined condition.\n"
   ]
  },
  {
   "cell_type": "markdown",
   "id": "1d13bdab-a5ec-4b41-bf9b-d79ab12155ba",
   "metadata": {},
   "source": [
    "#### Visual output\n",
    "\n",
    "outputs a simulation of the obtained profile. From this they need to say if they validate their choice or if they want to redo the process with other settings."
   ]
  },
  {
   "cell_type": "markdown",
   "id": "adeaa8a6-f09e-4ca8-8aa9-deac1b19f68e",
   "metadata": {},
   "source": [
    "#### Resist stripping\n",
    "Video part to show them an accelerated view of a resist stripping so they understand how long it is in practice. \n"
   ]
  }
 ],
 "metadata": {
  "kernelspec": {
   "display_name": "Python",
   "language": "python",
   "name": "python3"
  },
  "language_info": {
   "codemirror_mode": {
    "name": "ipython",
    "version": 3
   },
   "file_extension": ".py",
   "mimetype": "text/x-python",
   "name": "python",
   "nbconvert_exporter": "python",
   "pygments_lexer": "ipython3",
   "version": "3.8.10"
  }
 },
 "nbformat": 4,
 "nbformat_minor": 5
}
